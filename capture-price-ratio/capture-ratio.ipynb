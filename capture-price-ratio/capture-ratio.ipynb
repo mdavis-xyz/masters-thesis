{
 "cells": [
  {
   "cell_type": "markdown",
   "id": "641bc6b3-7b1e-492e-a280-fcb102a1f41d",
   "metadata": {},
   "source": [
    "# Capture Rate Analysis"
   ]
  },
  {
   "cell_type": "markdown",
   "id": "56721e5c-9b0f-4564-a3a7-9882844b7374",
   "metadata": {},
   "source": [
    "## Imports and Constants"
   ]
  },
  {
   "cell_type": "code",
   "execution_count": 1,
   "id": "5d3881ed-1d8c-4067-94fa-956b8fa42eb5",
   "metadata": {},
   "outputs": [],
   "source": [
    "import datetime as dt\n",
    "import logging\n",
    "import os\n",
    "import shutil\n",
    "from typing import List\n",
    "\n",
    "import plotly.express as px\n",
    "import polars as pl\n",
    "from nemosis import cache_compiler, defaults, dynamic_data_compiler, static_table\n",
    "from tqdm import tqdm"
   ]
  },
  {
   "cell_type": "code",
   "execution_count": 2,
   "id": "cf50e0f9-e4f3-49fd-a879-327ddb70d2ed",
   "metadata": {},
   "outputs": [],
   "source": [
    "start_time = dt.datetime(2014, 1, 1, 0, 5)\n",
    "end_time = dt.datetime(2024, 12, 31, 23, 55)\n",
    "\n",
    "start_5ms_date = dt.date(2021, 10, 1)\n",
    "data_cache = \"/home/matthew/Data/nem-capture-rate/\"\n",
    "nemosis_data_cache = \"/home/matthew/Data/nemosis/\"\n",
    "aggregated_data_cache = os.path.join(data_cache, \"02_aggregated\")\n",
    "sorted_data_cache = os.path.join(data_cache, \"03_sorted_compacted\")\n",
    "sorted_rooftop_path = os.path.join(sorted_data_cache, \"ROOFTOP_PV_ACTUAL.parquet\")\n",
    "dispatchload_dedup = os.path.join(data_cache, \"04_dispatchload_dedup.parquet\")\n",
    "results_dir = os.path.join(data_cache, \"99_results\")\n",
    "table_names = [\"TRADINGPRICE\", \"DISPATCHPRICE\", \"DISPATCHLOAD\", \"ROOFTOP_PV_ACTUAL\"]"
   ]
  },
  {
   "cell_type": "code",
   "execution_count": 3,
   "id": "630cf502-644d-40cd-8fbc-b303cd878dda",
   "metadata": {},
   "outputs": [],
   "source": [
    "INTERVALS_PER_H = 60 // 5"
   ]
  },
  {
   "cell_type": "code",
   "execution_count": 4,
   "id": "8c24df42-c638-4e76-8a57-b9a284dde568",
   "metadata": {},
   "outputs": [],
   "source": [
    "fcas_directions = [\"RAISE\", \"LOWER\"]\n",
    "fcas_speeds = [\"1SEC\", \"6SEC\", \"5MIN\", \"REG\"]\n",
    "\n",
    "fcas_markets = [d + s for d in fcas_directions for s in fcas_speeds]"
   ]
  },
  {
   "cell_type": "code",
   "execution_count": 5,
   "id": "4ee19526-7466-4659-9dbd-c20d86129572",
   "metadata": {},
   "outputs": [],
   "source": [
    "logging.getLogger(\"nemosis\").setLevel(logging.WARNING)"
   ]
  },
  {
   "cell_type": "code",
   "execution_count": 6,
   "id": "ca65f57c-be30-4d24-8aa4-91f29a31929f",
   "metadata": {},
   "outputs": [],
   "source": [
    "color_mapping = {\n",
    "    \"coal\": \"brown\",\n",
    "    \"gas\": \"black\",\n",
    "    \"solar_gridscale\": \"orange\",\n",
    "    \"solar_rooftop\": \"yellow\",\n",
    "    \"wind\": \"green\",\n",
    "    #\"hydro\": \"blue\",\n",
    "}"
   ]
  },
  {
   "cell_type": "code",
   "execution_count": 58,
   "id": "31d0aa63-e26b-4681-9539-6b82587cd753",
   "metadata": {},
   "outputs": [],
   "source": [
    "gw_per_mw = 1 / 1000"
   ]
  },
  {
   "cell_type": "markdown",
   "id": "a7f67ad8-14f9-481b-a8af-f6e857132fc8",
   "metadata": {},
   "source": [
    "## Download Data"
   ]
  },
  {
   "cell_type": "code",
   "execution_count": 7,
   "id": "48a97678-00b1-4bbc-8268-57f270d4d583",
   "metadata": {},
   "outputs": [],
   "source": [
    "os.makedirs(nemosis_data_cache, exist_ok=True)"
   ]
  },
  {
   "cell_type": "code",
   "execution_count": 8,
   "id": "0477ed87-7e2e-4e24-98fa-a04e74d54a7a",
   "metadata": {},
   "outputs": [],
   "source": [
    "# nemosis doesn't include these columns yet\n",
    "# https://github.com/UNSW-CEEM/NEMOSIS/issues/44\n",
    "defaults.table_columns[\"DISPATCHPRICE\"] += [\"LOWER1SECRRP\", \"RAISE1SECRRP\"]\n",
    "defaults.table_columns[\"TRADINGPRICE\"] += [\"LOWER1SECRRP\", \"RAISE1SECRRP\"]"
   ]
  },
  {
   "cell_type": "code",
   "execution_count": 9,
   "id": "7cd25e3f-eba9-46b9-9c39-e03540d059fa",
   "metadata": {},
   "outputs": [],
   "source": [
    "nemosis_fmt = \"%Y/%m/%d %H:%M:%S\""
   ]
  },
  {
   "cell_type": "code",
   "execution_count": 10,
   "id": "418701a3-72c3-4d44-a337-6740348bde90",
   "metadata": {},
   "outputs": [
    {
     "name": "stderr",
     "output_type": "stream",
     "text": [
      " 75%|███████████████████████████████████████████████████████████████████████████████████████████████████████████████▊                                     | 3/4 [00:00<00:00,  7.33it/s]"
     ]
    },
    {
     "name": "stdout",
     "output_type": "stream",
     "text": [
      "WARNING: PUBLIC_DVD_ROOFTOP_PV_ACTUAL_201401010000 not downloaded\n",
      "WARNING: PUBLIC_DVD_ROOFTOP_PV_ACTUAL_201402010000 not downloaded\n",
      "WARNING: PUBLIC_DVD_ROOFTOP_PV_ACTUAL_201403010000 not downloaded\n",
      "WARNING: PUBLIC_DVD_ROOFTOP_PV_ACTUAL_201404010000 not downloaded\n",
      "WARNING: PUBLIC_DVD_ROOFTOP_PV_ACTUAL_201405010000 not downloaded\n",
      "WARNING: PUBLIC_DVD_ROOFTOP_PV_ACTUAL_201406010000 not downloaded\n",
      "WARNING: PUBLIC_DVD_ROOFTOP_PV_ACTUAL_201407010000 not downloaded\n",
      "WARNING: PUBLIC_DVD_ROOFTOP_PV_ACTUAL_201408010000 not downloaded\n",
      "WARNING: PUBLIC_DVD_ROOFTOP_PV_ACTUAL_201409010000 not downloaded\n",
      "WARNING: PUBLIC_DVD_ROOFTOP_PV_ACTUAL_201410010000 not downloaded\n",
      "WARNING: PUBLIC_DVD_ROOFTOP_PV_ACTUAL_201411010000 not downloaded\n",
      "WARNING: PUBLIC_DVD_ROOFTOP_PV_ACTUAL_201412010000 not downloaded\n",
      "WARNING: PUBLIC_DVD_ROOFTOP_PV_ACTUAL_201501010000 not downloaded\n",
      "WARNING: PUBLIC_DVD_ROOFTOP_PV_ACTUAL_201502010000 not downloaded\n",
      "WARNING: PUBLIC_DVD_ROOFTOP_PV_ACTUAL_201503010000 not downloaded\n",
      "WARNING: PUBLIC_DVD_ROOFTOP_PV_ACTUAL_201504010000 not downloaded\n",
      "WARNING: PUBLIC_DVD_ROOFTOP_PV_ACTUAL_201505010000 not downloaded\n",
      "WARNING: PUBLIC_DVD_ROOFTOP_PV_ACTUAL_201506010000 not downloaded\n",
      "WARNING: PUBLIC_DVD_ROOFTOP_PV_ACTUAL_201507010000 not downloaded\n",
      "WARNING: PUBLIC_DVD_ROOFTOP_PV_ACTUAL_201508010000 not downloaded\n",
      "WARNING: PUBLIC_DVD_ROOFTOP_PV_ACTUAL_201509010000 not downloaded\n",
      "WARNING: PUBLIC_DVD_ROOFTOP_PV_ACTUAL_201510010000 not downloaded\n",
      "WARNING: PUBLIC_DVD_ROOFTOP_PV_ACTUAL_201511010000 not downloaded\n",
      "WARNING: PUBLIC_DVD_ROOFTOP_PV_ACTUAL_201512010000 not downloaded\n",
      "WARNING: PUBLIC_DVD_ROOFTOP_PV_ACTUAL_201601010000 not downloaded\n",
      "WARNING: PUBLIC_DVD_ROOFTOP_PV_ACTUAL_201602010000 not downloaded\n",
      "WARNING: PUBLIC_DVD_ROOFTOP_PV_ACTUAL_201603010000 not downloaded\n",
      "WARNING: PUBLIC_DVD_ROOFTOP_PV_ACTUAL_201604010000 not downloaded\n",
      "WARNING: PUBLIC_DVD_ROOFTOP_PV_ACTUAL_201605010000 not downloaded\n",
      "WARNING: PUBLIC_DVD_ROOFTOP_PV_ACTUAL_201606010000 not downloaded\n",
      "WARNING: PUBLIC_DVD_ROOFTOP_PV_ACTUAL_201607010000 not downloaded\n"
     ]
    },
    {
     "name": "stderr",
     "output_type": "stream",
     "text": [
      "100%|█████████████████████████████████████████████████████████████████████████████████████████████████████████████████████████████████████████████████████| 4/4 [00:00<00:00,  5.05it/s]\n"
     ]
    }
   ],
   "source": [
    "\n",
    "for table in tqdm(table_names):\n",
    "    cache_compiler(\n",
    "        start_time.strftime(nemosis_fmt),\n",
    "        end_time.strftime(nemosis_fmt),\n",
    "        table,\n",
    "        nemosis_data_cache,\n",
    "        keep_csv=True,\n",
    "        fformat=\"parquet\",\n",
    "        rebuild=False,\n",
    "    )"
   ]
  },
  {
   "cell_type": "markdown",
   "id": "808965c7-8c5b-4e8c-adba-5a932c659bfe",
   "metadata": {},
   "source": [
    "## Preprocess Data\n",
    "\n",
    "We will compact data (squish many small files into one big file).\n",
    "\n",
    "We'll also parse datetime strings into datetimes, drop `INTERVENTION` columns, deduplicate and interpolate rooftop solar, and sort each dataset individually.\n",
    "\n",
    "The docs for polars say that you should do one big query, instead of lots of chained queries, so that the optimiser can do it's thing. However in this case that leads to running out of memory on a normal laptop. So we're going to split it up.\n",
    "\n",
    "The sorting is to make the subsequent `group_by_dynamic` more memory efficient."
   ]
  },
  {
   "cell_type": "code",
   "execution_count": 11,
   "id": "4e62e5e0-09f0-4661-bba6-9262485f2b2d",
   "metadata": {},
   "outputs": [],
   "source": [
    "def parse_datetimes(\n",
    "    lf, cols=[\"SETTLEMENTDATE\"], format=\"%Y/%m/%d %H:%M:%S\"\n",
    ") -> pl.LazyFrame:\n",
    "    for col in cols:\n",
    "        lf = lf.with_columns(\n",
    "            pl.col(col).str.strptime(pl.Datetime(time_unit=\"ms\"), format=format)\n",
    "        )\n",
    "    return lf\n",
    "\n",
    "\n",
    "def list_raw_files(tablename) -> List[str]:\n",
    "    return [\n",
    "        os.path.join(nemosis_data_cache, fname)\n",
    "        for fname in os.listdir(nemosis_data_cache)\n",
    "        if fname.endswith(\".parquet\") and (table in fname)\n",
    "    ]\n",
    "\n",
    "\n",
    "def drop_intervention(lf) -> pl.LazyFrame:\n",
    "    if \"INTERVENTION\" in lf.collect_schema():\n",
    "        return lf.filter(pl.col(\"INTERVENTION\") == 0).select(pl.exclude(\"INTERVENTION\"))\n",
    "    else:\n",
    "        return lf\n",
    "\n",
    "\n",
    "def scan_raw_table(tablename) -> pl.LazyFrame:\n",
    "    return pl.concat(\n",
    "        [(pl.scan_parquet(path)) for path in list_raw_files(tablename)],\n",
    "        how=\"diagonal_relaxed\",\n",
    "    )\n",
    "\n",
    "\n",
    "# requires collecting\n",
    "def upsample(lf, time_col, group_col=\"REGIONID\") -> pl.DataFrame:\n",
    "    return (\n",
    "        lf.sort(time_col, group_col)\n",
    "        .collect()\n",
    "        .upsample(\n",
    "            time_column=time_col,\n",
    "            every=dt.timedelta(minutes=5),\n",
    "            group_by=group_col,\n",
    "            maintain_order=True,\n",
    "        )\n",
    "        .fill_null(strategy=\"backward\", limit=30 // 5 - 1)\n",
    "    )"
   ]
  },
  {
   "cell_type": "code",
   "execution_count": 12,
   "id": "f6a43017-47ac-4cfb-bf72-50423988ba45",
   "metadata": {},
   "outputs": [],
   "source": [
    "os.makedirs(sorted_data_cache, exist_ok=True)"
   ]
  },
  {
   "cell_type": "markdown",
   "id": "033e2aaf-6d14-4191-b94f-752b905bf103",
   "metadata": {},
   "source": [
    "### Dispatchprice and Tradingprice\n",
    "\n",
    "Compact into one file, because they're small."
   ]
  },
  {
   "cell_type": "code",
   "execution_count": 13,
   "id": "66c486d7-5f76-4770-ac81-c5e773565d51",
   "metadata": {},
   "outputs": [],
   "source": [
    "table = \"TRADINGPRICE\"\n",
    "dest_path = os.path.join(sorted_data_cache, table + \".parquet\")\n",
    "(\n",
    "    scan_raw_table(table)\n",
    "    .pipe(parse_datetimes)\n",
    "    .pipe(drop_intervention)\n",
    "    .pipe(lambda lf: upsample(lf, time_col=\"SETTLEMENTDATE\"))\n",
    "    .write_parquet(dest_path)\n",
    ")"
   ]
  },
  {
   "cell_type": "code",
   "execution_count": 14,
   "id": "4d8dcbdb-e7db-4541-a2db-e91d4f309dcc",
   "metadata": {},
   "outputs": [],
   "source": [
    "table = \"DISPATCHPRICE\"\n",
    "dest_path = os.path.join(sorted_data_cache, table + \".parquet\")\n",
    "(\n",
    "    scan_raw_table(table)\n",
    "    .pipe(parse_datetimes)\n",
    "    .pipe(drop_intervention)\n",
    "    .sink_parquet(dest_path)\n",
    ")"
   ]
  },
  {
   "cell_type": "markdown",
   "id": "50d04761-ff13-45b6-9b30-1af2c89611cb",
   "metadata": {},
   "source": [
    "### Static Data\n",
    "\n",
    "Fuel type and region for each generator.\n",
    "\n"
   ]
  },
  {
   "cell_type": "code",
   "execution_count": 15,
   "id": "f6c47733-3e21-40a0-80b3-2a6e48d0e6eb",
   "metadata": {},
   "outputs": [
    {
     "name": "stdout",
     "output_type": "stream",
     "text": [
      "WARNING: {'Reg Cap (MW)'} not in /home/matthew/Data/nemosis/NEM Registration and Exemption List.xls. Loading ['Participant', 'Station Name', 'Region', 'Dispatch Type', 'Category', 'Classification', 'Fuel Source - Primary', 'Fuel Source - Descriptor', 'Technology Type - Primary', 'Technology Type - Descriptor', 'Aggregation', 'DUID']\n"
     ]
    }
   ],
   "source": [
    "static_pd: \"pd.DataFrame\" = static_table(\n",
    "    \"Generators and Scheduled Loads\", nemosis_data_cache\n",
    ")\n",
    "\n",
    "static: pl.LazyFrame = (\n",
    "    pl.from_pandas(static_pd)\n",
    "    .lazy()\n",
    "    # simplify fuel categories\n",
    "    .with_columns(\n",
    "        pl.concat_str(\n",
    "            [\n",
    "                \"Fuel Source - Primary\",\n",
    "                \"Technology Type - Descriptor\",\n",
    "                \"Fuel Source - Descriptor\",\n",
    "            ],\n",
    "            separator=\" - \",\n",
    "        )\n",
    "        .str.to_lowercase()\n",
    "        .alias(\"Fuel Detail\"),\n",
    "    )\n",
    "    .filter(~pl.col(\"Participant\").str.contains(\"Basslink\"))\n",
    "    .with_columns(\n",
    "        pl.when(pl.col(\"Fuel Detail\").str.contains(\"battery\"))\n",
    "        .then(pl.lit(\"battery\"))\n",
    "        .when(\n",
    "            pl.col(\"Fuel Detail\").str.contains(\"hydro\")\n",
    "            & (pl.col(\"Dispatch Type\") == \"Load\")\n",
    "        )\n",
    "        .then(pl.lit(\"pumps\"))\n",
    "        .when(pl.col(\"Fuel Detail\").str.contains(\"hydro\"))\n",
    "        .then(pl.lit(\"hydro\"))\n",
    "        .when(pl.col(\"Fuel Detail\").str.contains(\"solar\"))\n",
    "        .then(pl.lit(\"solar_gridscale\"))\n",
    "        .when(pl.col(\"Fuel Detail\").str.contains(\"wind\"))\n",
    "        .then(pl.lit(\"wind\"))\n",
    "        .when(pl.col(\"Fuel Detail\").str.contains(\"waste coal mine gas\"))\n",
    "        .then(pl.lit(\"coal\"))\n",
    "        .when(\n",
    "            pl.any_horizontal(\n",
    "                (\n",
    "                    pl.col(\"Fuel Detail\").str.contains(s)\n",
    "                    for s in [\n",
    "                        \"natural gas\",\n",
    "                        \"ocgt\",\n",
    "                        \"coal seam gas\",\n",
    "                        \"coal seam methane\",\n",
    "                    ]\n",
    "                )\n",
    "            )\n",
    "        )\n",
    "        .then(pl.lit(\"gas\"))\n",
    "        .when(\n",
    "            pl.any_horizontal(\n",
    "                (pl.col(\"Fuel Detail\").str.contains(c))\n",
    "                # don't blindly search for the word \"coal\"\n",
    "                # because coal seam gas should count as gas not coal\n",
    "                for c in [\"black coal\", \"brown coal\"]\n",
    "            )\n",
    "        )\n",
    "        .then(pl.lit(\"coal\"))\n",
    "        .when(pl.col(\"Fuel Detail\").str.contains(\"diesel\"))\n",
    "        .then(pl.lit(\"distillate\"))\n",
    "        .when(pl.col(\"Fuel Detail\").str.contains(\"biomass\"))\n",
    "        .then(pl.lit(\"biomass\"))\n",
    "        .when(pl.col(\"DUID\").str.contains(\"PUMP\") & (pl.col(\"Dispatch Type\") == \"Load\"))\n",
    "        .then(pl.lit(\"pumps\"))\n",
    "        .alias(\"FUEL_TYPE\")\n",
    "    )\n",
    "    .select(\"DUID\", pl.col(\"Region\").alias(\"REGIONID\"), \"FUEL_TYPE\")\n",
    ")\n",
    "\n",
    "# check we've categorised everything\n",
    "assert not static.select(\n",
    "    pl.col(\"FUEL_TYPE\").is_null().any().alias(\"UNKNOWN\")\n",
    ").collect()[\"UNKNOWN\"][0]"
   ]
  },
  {
   "cell_type": "markdown",
   "id": "80214596-1250-4c79-8757-b209cf455d99",
   "metadata": {},
   "source": [
    "### Dispatchload\n",
    "\n",
    "We'll join this to static data to get region and fuel type. Then compact into one row per (time interval, fuel type, region).\n",
    "Since this is so large, do it one file at a time."
   ]
  },
  {
   "cell_type": "code",
   "execution_count": 16,
   "id": "8cc9e32c-8ee6-4df6-be9b-4dc8124212ee",
   "metadata": {},
   "outputs": [
    {
     "name": "stderr",
     "output_type": "stream",
     "text": [
      "100%|█████████████████████████████████████████████████████████████████████████████████████████████████████████████████████████████████████████████████| 133/133 [00:22<00:00,  5.79it/s]\n"
     ]
    }
   ],
   "source": [
    "table = \"DISPATCHLOAD\"\n",
    "\n",
    "dest_dir = os.path.join(aggregated_data_cache, table)\n",
    "shutil.rmtree(dest_dir, ignore_errors=True)\n",
    "os.makedirs(dest_dir)\n",
    "\n",
    "\n",
    "agged_files = []\n",
    "\n",
    "for source_path in tqdm(list_raw_files(table)):\n",
    "    assert os.path.exists(source_path), f\"Source path doesn't exist: {source_path}\"\n",
    "    dest_path = os.path.join(dest_dir, os.path.basename(source_path))\n",
    "    assert source_path != dest_path\n",
    "    agged_files.append(dest_path)\n",
    "\n",
    "    try:\n",
    "        schema = pl.read_parquet_schema(source_path)\n",
    "        present_fcas_cols = [c for c in fcas_markets if c in schema]\n",
    "        (\n",
    "            pl.scan_parquet(source_path)\n",
    "            .pipe(drop_intervention)\n",
    "            .join(static, on=\"DUID\")\n",
    "            .with_columns(\n",
    "                pl.col(\"FUEL_TYPE\").fill_null(value=\"UNKNOWN\"),\n",
    "                pl.mean_horizontal(\"INITIALMW\", \"TOTALCLEARED\").alias(\"POWER\"),\n",
    "            )\n",
    "            .group_by(\"SETTLEMENTDATE\", \"REGIONID\", \"FUEL_TYPE\")\n",
    "            .agg(\n",
    "                pl.col(\"POWER\").sum(),\n",
    "                pl.col(present_fcas_cols).sum(),\n",
    "            )\n",
    "            .pipe(parse_datetimes)\n",
    "            .sink_parquet(dest_path)\n",
    "        )\n",
    "    except Exception:\n",
    "        print(f\"Error with {source_path}\")\n",
    "        if os.path.exists(dest_path):\n",
    "            os.remove(dest_path)\n",
    "        raise"
   ]
  },
  {
   "cell_type": "markdown",
   "id": "97a62fc5-894d-44fb-a2c0-e9b2386ee2d7",
   "metadata": {},
   "source": [
    "After aggregating by fuel type (and region), now we have lots of tiny files we can compact into one.\n",
    "\n",
    "(`scan_parquet` with a glob pattern doesn't always work, because of schema mismatches.)"
   ]
  },
  {
   "cell_type": "code",
   "execution_count": 17,
   "id": "6d54efcb-cda7-4a9a-b484-6c510a92fe18",
   "metadata": {},
   "outputs": [],
   "source": [
    "dest_path = os.path.join(sorted_data_cache, table + \".parquet\")\n",
    "(\n",
    "    pl.concat(\n",
    "        [pl.scan_parquet(f) for f in agged_files], how=\"diagonal_relaxed\"\n",
    "    ).sink_parquet(dest_path)\n",
    ")"
   ]
  },
  {
   "cell_type": "markdown",
   "id": "c954e9af-25c6-42ab-9c85-777985866f83",
   "metadata": {},
   "source": [
    "### Rooftop Data"
   ]
  },
  {
   "cell_type": "code",
   "execution_count": 18,
   "id": "7e01c22c-6ead-415d-9940-b8eb6e9c2a7e",
   "metadata": {},
   "outputs": [
    {
     "data": {
      "text/html": [
       "<div><style>\n",
       ".dataframe > thead > tr,\n",
       ".dataframe > tbody > tr {\n",
       "  text-align: right;\n",
       "  white-space: pre-wrap;\n",
       "}\n",
       "</style>\n",
       "<small>shape: (5, 6)</small><table border=\"1\" class=\"dataframe\"><thead><tr><th>INTERVAL_DATETIME</th><th>REGIONID</th><th>POWER</th><th>QI</th><th>TYPE</th><th>LASTCHANGED</th></tr><tr><td>str</td><td>str</td><td>f64</td><td>f64</td><td>str</td><td>str</td></tr></thead><tbody><tr><td>&quot;2020/12/01 00:30:00&quot;</td><td>&quot;NSW1&quot;</td><td>0.0</td><td>1.0</td><td>&quot;MEASUREMENT&quot;</td><td>&quot;2020/12/01 00:50:25&quot;</td></tr><tr><td>&quot;2020/12/01 00:30:00&quot;</td><td>&quot;NSW1&quot;</td><td>0.0</td><td>0.6</td><td>&quot;SATELLITE&quot;</td><td>&quot;2020/12/01 00:50:32&quot;</td></tr><tr><td>&quot;2020/12/01 00:30:00&quot;</td><td>&quot;QLD1&quot;</td><td>0.0</td><td>1.0</td><td>&quot;MEASUREMENT&quot;</td><td>&quot;2020/12/01 00:50:25&quot;</td></tr><tr><td>&quot;2020/12/01 00:30:00&quot;</td><td>&quot;QLD1&quot;</td><td>0.0</td><td>0.6</td><td>&quot;SATELLITE&quot;</td><td>&quot;2020/12/01 00:50:32&quot;</td></tr><tr><td>&quot;2020/12/01 00:30:00&quot;</td><td>&quot;QLDC&quot;</td><td>0.0</td><td>1.0</td><td>&quot;MEASUREMENT&quot;</td><td>&quot;2020/12/01 00:50:25&quot;</td></tr></tbody></table></div>"
      ],
      "text/plain": [
       "shape: (5, 6)\n",
       "┌─────────────────────┬──────────┬───────┬─────┬─────────────┬─────────────────────┐\n",
       "│ INTERVAL_DATETIME   ┆ REGIONID ┆ POWER ┆ QI  ┆ TYPE        ┆ LASTCHANGED         │\n",
       "│ ---                 ┆ ---      ┆ ---   ┆ --- ┆ ---         ┆ ---                 │\n",
       "│ str                 ┆ str      ┆ f64   ┆ f64 ┆ str         ┆ str                 │\n",
       "╞═════════════════════╪══════════╪═══════╪═════╪═════════════╪═════════════════════╡\n",
       "│ 2020/12/01 00:30:00 ┆ NSW1     ┆ 0.0   ┆ 1.0 ┆ MEASUREMENT ┆ 2020/12/01 00:50:25 │\n",
       "│ 2020/12/01 00:30:00 ┆ NSW1     ┆ 0.0   ┆ 0.6 ┆ SATELLITE   ┆ 2020/12/01 00:50:32 │\n",
       "│ 2020/12/01 00:30:00 ┆ QLD1     ┆ 0.0   ┆ 1.0 ┆ MEASUREMENT ┆ 2020/12/01 00:50:25 │\n",
       "│ 2020/12/01 00:30:00 ┆ QLD1     ┆ 0.0   ┆ 0.6 ┆ SATELLITE   ┆ 2020/12/01 00:50:32 │\n",
       "│ 2020/12/01 00:30:00 ┆ QLDC     ┆ 0.0   ┆ 1.0 ┆ MEASUREMENT ┆ 2020/12/01 00:50:25 │\n",
       "└─────────────────────┴──────────┴───────┴─────┴─────────────┴─────────────────────┘"
      ]
     },
     "execution_count": 18,
     "metadata": {},
     "output_type": "execute_result"
    }
   ],
   "source": [
    "table = \"ROOFTOP_PV_ACTUAL\"\n",
    "rooftop_duplicated = scan_raw_table(table)\n",
    "\n",
    "rooftop_duplicated.head().collect()"
   ]
  },
  {
   "cell_type": "code",
   "execution_count": 19,
   "id": "3eba01ae-694e-46d4-9111-26a0576f16b0",
   "metadata": {},
   "outputs": [],
   "source": [
    "# deduplicate across the different methods of estimation\n",
    "rooftop_30 = (\n",
    "    rooftop_duplicated.pipe(drop_intervention)\n",
    "    .filter(pl.col(\"REGIONID\").str.ends_with(\"1\"))\n",
    "    # deduplicate\n",
    "    .sort(by=[\"TYPE\", \"QI\", \"LASTCHANGED\"], descending=[False, True, True])\n",
    "    .group_by([\"REGIONID\", \"INTERVAL_DATETIME\"])\n",
    "    .first()\n",
    "    .select([\"REGIONID\", \"INTERVAL_DATETIME\", \"POWER\"])\n",
    "    .rename({\"INTERVAL_DATETIME\": \"INTERVAL_END\"})\n",
    ")"
   ]
  },
  {
   "cell_type": "code",
   "execution_count": 20,
   "id": "82e6416d-fbc0-4085-b0d1-89f0a1bb404e",
   "metadata": {},
   "outputs": [],
   "source": [
    "# now interpolate rooftop solar from 30 minutes to 5\n",
    "\n",
    "(\n",
    "    rooftop_30\n",
    "    .pipe(lambda lf: parse_datetimes(lf, cols=[\"INTERVAL_END\"]))\n",
    "    .pipe(lambda lf: upsample(lf, time_col=\"INTERVAL_END\"))\n",
    "    .filter(pl.col(\"REGIONID\").is_not_null())\n",
    "    .write_parquet(sorted_rooftop_path)\n",
    ")"
   ]
  },
  {
   "cell_type": "markdown",
   "id": "37e9e757-1ad8-4c0b-ad60-1045e891b401",
   "metadata": {},
   "source": [
    "## Scan Data"
   ]
  },
  {
   "cell_type": "code",
   "execution_count": 21,
   "id": "72f1a094-b6c1-47c0-9e6f-4184259c85bd",
   "metadata": {},
   "outputs": [
    {
     "data": {
      "text/html": [
       "<div><style>\n",
       ".dataframe > thead > tr,\n",
       ".dataframe > tbody > tr {\n",
       "  text-align: right;\n",
       "  white-space: pre-wrap;\n",
       "}\n",
       "</style>\n",
       "<small>shape: (5, 14)</small><table border=\"1\" class=\"dataframe\"><thead><tr><th>SETTLEMENTDATE</th><th>REGIONID</th><th>RRP</th><th>RAISE6SECRRP</th><th>RAISE60SECRRP</th><th>RAISE5MINRRP</th><th>RAISEREGRRP</th><th>LOWER6SECRRP</th><th>LOWER60SECRRP</th><th>LOWER5MINRRP</th><th>LOWERREGRRP</th><th>PRICE_STATUS</th><th>RAISE1SECRRP</th><th>LOWER1SECRRP</th></tr><tr><td>datetime[ms]</td><td>str</td><td>f64</td><td>f64</td><td>f64</td><td>f64</td><td>f64</td><td>f64</td><td>f64</td><td>f64</td><td>f64</td><td>str</td><td>f64</td><td>f64</td></tr></thead><tbody><tr><td>2017-02-01 00:05:00</td><td>&quot;NSW1&quot;</td><td>55.94</td><td>1.4</td><td>1.0</td><td>1.2</td><td>7.4</td><td>0.02</td><td>0.06</td><td>0.17</td><td>9.0</td><td>&quot;FIRM&quot;</td><td>null</td><td>null</td></tr><tr><td>2017-02-01 00:05:00</td><td>&quot;QLD1&quot;</td><td>59.64289</td><td>1.4</td><td>1.0</td><td>1.2</td><td>7.4</td><td>0.02</td><td>0.06</td><td>0.17</td><td>9.0</td><td>&quot;FIRM&quot;</td><td>null</td><td>null</td></tr><tr><td>2017-02-01 00:05:00</td><td>&quot;SA1&quot;</td><td>42.22689</td><td>1.4</td><td>1.0</td><td>1.2</td><td>7.4</td><td>0.02</td><td>0.06</td><td>0.17</td><td>9.0</td><td>&quot;FIRM&quot;</td><td>null</td><td>null</td></tr><tr><td>2017-02-01 00:05:00</td><td>&quot;TAS1&quot;</td><td>73.9</td><td>5.0</td><td>2.39</td><td>1.2</td><td>15.0</td><td>0.0</td><td>0.0</td><td>0.0</td><td>0.1</td><td>&quot;FIRM&quot;</td><td>null</td><td>null</td></tr><tr><td>2017-02-01 00:05:00</td><td>&quot;VIC1&quot;</td><td>35.21009</td><td>1.4</td><td>1.0</td><td>1.2</td><td>7.4</td><td>0.02</td><td>0.06</td><td>0.17</td><td>9.0</td><td>&quot;FIRM&quot;</td><td>null</td><td>null</td></tr></tbody></table></div>"
      ],
      "text/plain": [
       "shape: (5, 14)\n",
       "┌────────────┬──────────┬──────────┬───────────┬───┬───────────┬───────────┬───────────┬───────────┐\n",
       "│ SETTLEMENT ┆ REGIONID ┆ RRP      ┆ RAISE6SEC ┆ … ┆ LOWERREGR ┆ PRICE_STA ┆ RAISE1SEC ┆ LOWER1SEC │\n",
       "│ DATE       ┆ ---      ┆ ---      ┆ RRP       ┆   ┆ RP        ┆ TUS       ┆ RRP       ┆ RRP       │\n",
       "│ ---        ┆ str      ┆ f64      ┆ ---       ┆   ┆ ---       ┆ ---       ┆ ---       ┆ ---       │\n",
       "│ datetime[m ┆          ┆          ┆ f64       ┆   ┆ f64       ┆ str       ┆ f64       ┆ f64       │\n",
       "│ s]         ┆          ┆          ┆           ┆   ┆           ┆           ┆           ┆           │\n",
       "╞════════════╪══════════╪══════════╪═══════════╪═══╪═══════════╪═══════════╪═══════════╪═══════════╡\n",
       "│ 2017-02-01 ┆ NSW1     ┆ 55.94    ┆ 1.4       ┆ … ┆ 9.0       ┆ FIRM      ┆ null      ┆ null      │\n",
       "│ 00:05:00   ┆          ┆          ┆           ┆   ┆           ┆           ┆           ┆           │\n",
       "│ 2017-02-01 ┆ QLD1     ┆ 59.64289 ┆ 1.4       ┆ … ┆ 9.0       ┆ FIRM      ┆ null      ┆ null      │\n",
       "│ 00:05:00   ┆          ┆          ┆           ┆   ┆           ┆           ┆           ┆           │\n",
       "│ 2017-02-01 ┆ SA1      ┆ 42.22689 ┆ 1.4       ┆ … ┆ 9.0       ┆ FIRM      ┆ null      ┆ null      │\n",
       "│ 00:05:00   ┆          ┆          ┆           ┆   ┆           ┆           ┆           ┆           │\n",
       "│ 2017-02-01 ┆ TAS1     ┆ 73.9     ┆ 5.0       ┆ … ┆ 0.1       ┆ FIRM      ┆ null      ┆ null      │\n",
       "│ 00:05:00   ┆          ┆          ┆           ┆   ┆           ┆           ┆           ┆           │\n",
       "│ 2017-02-01 ┆ VIC1     ┆ 35.21009 ┆ 1.4       ┆ … ┆ 9.0       ┆ FIRM      ┆ null      ┆ null      │\n",
       "│ 00:05:00   ┆          ┆          ┆           ┆   ┆           ┆           ┆           ┆           │\n",
       "└────────────┴──────────┴──────────┴───────────┴───┴───────────┴───────────┴───────────┴───────────┘"
      ]
     },
     "execution_count": 21,
     "metadata": {},
     "output_type": "execute_result"
    }
   ],
   "source": [
    "dispatchprice = pl.scan_parquet(\n",
    "    os.path.join(sorted_data_cache, \"DISPATCHPRICE.parquet\"), low_memory=True\n",
    ")\n",
    "assert \"INTERVENTION\" not in dispatchprice.collect_schema()\n",
    "dispatchprice.head().collect()"
   ]
  },
  {
   "cell_type": "code",
   "execution_count": 22,
   "id": "613b7763-dbf2-4841-93cc-7f6ef907651f",
   "metadata": {},
   "outputs": [
    {
     "data": {
      "text/html": [
       "<div><style>\n",
       ".dataframe > thead > tr,\n",
       ".dataframe > tbody > tr {\n",
       "  text-align: right;\n",
       "  white-space: pre-wrap;\n",
       "}\n",
       "</style>\n",
       "<small>shape: (5, 14)</small><table border=\"1\" class=\"dataframe\"><thead><tr><th>SETTLEMENTDATE</th><th>REGIONID</th><th>RRP</th><th>RAISE6SECRRP</th><th>RAISE60SECRRP</th><th>RAISE5MINRRP</th><th>RAISEREGRRP</th><th>LOWER6SECRRP</th><th>LOWER60SECRRP</th><th>LOWER5MINRRP</th><th>LOWERREGRRP</th><th>PRICE_STATUS</th><th>RAISE1SECRRP</th><th>LOWER1SECRRP</th></tr><tr><td>datetime[ms]</td><td>str</td><td>f64</td><td>f64</td><td>f64</td><td>f64</td><td>f64</td><td>f64</td><td>f64</td><td>f64</td><td>f64</td><td>str</td><td>f64</td><td>f64</td></tr></thead><tbody><tr><td>2013-12-01 00:30:00</td><td>&quot;NSW1&quot;</td><td>48.98</td><td>0.21</td><td>0.17</td><td>0.63</td><td>0.63</td><td>0.2</td><td>0.18</td><td>0.27</td><td>0.27</td><td>&quot;FIRM&quot;</td><td>null</td><td>null</td></tr><tr><td>2013-12-01 00:35:00</td><td>&quot;NSW1&quot;</td><td>47.79</td><td>0.41</td><td>0.17</td><td>0.68</td><td>1.0</td><td>0.09</td><td>0.18</td><td>0.27</td><td>0.63</td><td>&quot;FIRM&quot;</td><td>null</td><td>null</td></tr><tr><td>2013-12-01 00:40:00</td><td>&quot;NSW1&quot;</td><td>47.79</td><td>0.41</td><td>0.17</td><td>0.68</td><td>1.0</td><td>0.09</td><td>0.18</td><td>0.27</td><td>0.63</td><td>&quot;FIRM&quot;</td><td>null</td><td>null</td></tr><tr><td>2013-12-01 00:45:00</td><td>&quot;NSW1&quot;</td><td>47.79</td><td>0.41</td><td>0.17</td><td>0.68</td><td>1.0</td><td>0.09</td><td>0.18</td><td>0.27</td><td>0.63</td><td>&quot;FIRM&quot;</td><td>null</td><td>null</td></tr><tr><td>2013-12-01 00:50:00</td><td>&quot;NSW1&quot;</td><td>47.79</td><td>0.41</td><td>0.17</td><td>0.68</td><td>1.0</td><td>0.09</td><td>0.18</td><td>0.27</td><td>0.63</td><td>&quot;FIRM&quot;</td><td>null</td><td>null</td></tr></tbody></table></div>"
      ],
      "text/plain": [
       "shape: (5, 14)\n",
       "┌────────────┬──────────┬───────┬────────────┬───┬────────────┬────────────┬───────────┬───────────┐\n",
       "│ SETTLEMENT ┆ REGIONID ┆ RRP   ┆ RAISE6SECR ┆ … ┆ LOWERREGRR ┆ PRICE_STAT ┆ RAISE1SEC ┆ LOWER1SEC │\n",
       "│ DATE       ┆ ---      ┆ ---   ┆ RP         ┆   ┆ P          ┆ US         ┆ RRP       ┆ RRP       │\n",
       "│ ---        ┆ str      ┆ f64   ┆ ---        ┆   ┆ ---        ┆ ---        ┆ ---       ┆ ---       │\n",
       "│ datetime[m ┆          ┆       ┆ f64        ┆   ┆ f64        ┆ str        ┆ f64       ┆ f64       │\n",
       "│ s]         ┆          ┆       ┆            ┆   ┆            ┆            ┆           ┆           │\n",
       "╞════════════╪══════════╪═══════╪════════════╪═══╪════════════╪════════════╪═══════════╪═══════════╡\n",
       "│ 2013-12-01 ┆ NSW1     ┆ 48.98 ┆ 0.21       ┆ … ┆ 0.27       ┆ FIRM       ┆ null      ┆ null      │\n",
       "│ 00:30:00   ┆          ┆       ┆            ┆   ┆            ┆            ┆           ┆           │\n",
       "│ 2013-12-01 ┆ NSW1     ┆ 47.79 ┆ 0.41       ┆ … ┆ 0.63       ┆ FIRM       ┆ null      ┆ null      │\n",
       "│ 00:35:00   ┆          ┆       ┆            ┆   ┆            ┆            ┆           ┆           │\n",
       "│ 2013-12-01 ┆ NSW1     ┆ 47.79 ┆ 0.41       ┆ … ┆ 0.63       ┆ FIRM       ┆ null      ┆ null      │\n",
       "│ 00:40:00   ┆          ┆       ┆            ┆   ┆            ┆            ┆           ┆           │\n",
       "│ 2013-12-01 ┆ NSW1     ┆ 47.79 ┆ 0.41       ┆ … ┆ 0.63       ┆ FIRM       ┆ null      ┆ null      │\n",
       "│ 00:45:00   ┆          ┆       ┆            ┆   ┆            ┆            ┆           ┆           │\n",
       "│ 2013-12-01 ┆ NSW1     ┆ 47.79 ┆ 0.41       ┆ … ┆ 0.63       ┆ FIRM       ┆ null      ┆ null      │\n",
       "│ 00:50:00   ┆          ┆       ┆            ┆   ┆            ┆            ┆           ┆           │\n",
       "└────────────┴──────────┴───────┴────────────┴───┴────────────┴────────────┴───────────┴───────────┘"
      ]
     },
     "execution_count": 22,
     "metadata": {},
     "output_type": "execute_result"
    }
   ],
   "source": [
    "tradingprice = pl.scan_parquet(\n",
    "    os.path.join(sorted_data_cache, \"*TRADINGPRICE*.parquet\"), low_memory=True\n",
    ")\n",
    "assert \"INTERVENTION\" not in tradingprice.collect_schema()\n",
    "tradingprice.head().collect()"
   ]
  },
  {
   "cell_type": "code",
   "execution_count": 23,
   "id": "b9fbc89c-6e1d-47da-9fd1-c32367b10051",
   "metadata": {},
   "outputs": [],
   "source": [
    "actual = (\n",
    "    tradingprice.select(\n",
    "        (pl.col(\"SETTLEMENTDATE\").shift(-1) - pl.col(\"SETTLEMENTDATE\")).alias(\n",
    "            \"INTERVAL_LENGTH\"\n",
    "        )\n",
    "    )\n",
    "    .head(1)\n",
    "    .collect()\n",
    "    .item()\n",
    ")\n",
    "expected = dt.timedelta(minutes=5)\n",
    "assert actual == expected, \"tradingprice not upsampled\""
   ]
  },
  {
   "cell_type": "code",
   "execution_count": 24,
   "id": "b74f9661-ded9-47ae-8aca-18324beb0c5c",
   "metadata": {},
   "outputs": [
    {
     "data": {
      "text/html": [
       "<div><style>\n",
       ".dataframe > thead > tr,\n",
       ".dataframe > tbody > tr {\n",
       "  text-align: right;\n",
       "  white-space: pre-wrap;\n",
       "}\n",
       "</style>\n",
       "<small>shape: (5, 3)</small><table border=\"1\" class=\"dataframe\"><thead><tr><th>INTERVAL_END</th><th>REGIONID</th><th>POWER</th></tr><tr><td>datetime[ms]</td><td>str</td><td>f64</td></tr></thead><tbody><tr><td>2016-08-01 00:30:00</td><td>&quot;NSW1&quot;</td><td>0.0</td></tr><tr><td>2016-08-01 00:35:00</td><td>&quot;NSW1&quot;</td><td>0.0</td></tr><tr><td>2016-08-01 00:40:00</td><td>&quot;NSW1&quot;</td><td>0.0</td></tr><tr><td>2016-08-01 00:45:00</td><td>&quot;NSW1&quot;</td><td>0.0</td></tr><tr><td>2016-08-01 00:50:00</td><td>&quot;NSW1&quot;</td><td>0.0</td></tr></tbody></table></div>"
      ],
      "text/plain": [
       "shape: (5, 3)\n",
       "┌─────────────────────┬──────────┬───────┐\n",
       "│ INTERVAL_END        ┆ REGIONID ┆ POWER │\n",
       "│ ---                 ┆ ---      ┆ ---   │\n",
       "│ datetime[ms]        ┆ str      ┆ f64   │\n",
       "╞═════════════════════╪══════════╪═══════╡\n",
       "│ 2016-08-01 00:30:00 ┆ NSW1     ┆ 0.0   │\n",
       "│ 2016-08-01 00:35:00 ┆ NSW1     ┆ 0.0   │\n",
       "│ 2016-08-01 00:40:00 ┆ NSW1     ┆ 0.0   │\n",
       "│ 2016-08-01 00:45:00 ┆ NSW1     ┆ 0.0   │\n",
       "│ 2016-08-01 00:50:00 ┆ NSW1     ┆ 0.0   │\n",
       "└─────────────────────┴──────────┴───────┘"
      ]
     },
     "execution_count": 24,
     "metadata": {},
     "output_type": "execute_result"
    }
   ],
   "source": [
    "rooftop = pl.scan_parquet(sorted_rooftop_path, low_memory=True)\n",
    "assert \"INTERVENTION\" not in rooftop.collect_schema()\n",
    "rooftop.head().collect()"
   ]
  },
  {
   "cell_type": "code",
   "execution_count": 25,
   "id": "3a7086e2-88bc-46b6-9242-b9573caf2e7d",
   "metadata": {},
   "outputs": [
    {
     "data": {
      "text/html": [
       "<div><style>\n",
       ".dataframe > thead > tr,\n",
       ".dataframe > tbody > tr {\n",
       "  text-align: right;\n",
       "  white-space: pre-wrap;\n",
       "}\n",
       "</style>\n",
       "<small>shape: (5, 12)</small><table border=\"1\" class=\"dataframe\"><thead><tr><th>SETTLEMENTDATE</th><th>REGIONID</th><th>FUEL_TYPE</th><th>POWER</th><th>RAISE6SEC</th><th>RAISE5MIN</th><th>RAISEREG</th><th>LOWER6SEC</th><th>LOWER5MIN</th><th>LOWERREG</th><th>RAISE1SEC</th><th>LOWER1SEC</th></tr><tr><td>datetime[ms]</td><td>str</td><td>str</td><td>f64</td><td>f64</td><td>f64</td><td>f64</td><td>f64</td><td>f64</td><td>f64</td><td>f64</td><td>f64</td></tr></thead><tbody><tr><td>2014-10-01 01:50:00</td><td>&quot;NSW1&quot;</td><td>&quot;gas&quot;</td><td>79.657395</td><td>0.0</td><td>0.0</td><td>0.0</td><td>0.0</td><td>0.0</td><td>0.0</td><td>null</td><td>null</td></tr><tr><td>2014-10-01 02:05:00</td><td>&quot;VIC1&quot;</td><td>&quot;coal&quot;</td><td>3761.77155</td><td>63.0</td><td>111.6526</td><td>0.0</td><td>20.0</td><td>109.0</td><td>14.33043</td><td>null</td><td>null</td></tr><tr><td>2014-10-01 07:25:00</td><td>&quot;VIC1&quot;</td><td>&quot;gas&quot;</td><td>284.0</td><td>0.0</td><td>0.0</td><td>0.0</td><td>0.0</td><td>0.0</td><td>0.0</td><td>null</td><td>null</td></tr><tr><td>2014-10-01 07:35:00</td><td>&quot;VIC1&quot;</td><td>&quot;wind&quot;</td><td>87.1525</td><td>0.0</td><td>0.0</td><td>0.0</td><td>0.0</td><td>0.0</td><td>0.0</td><td>null</td><td>null</td></tr><tr><td>2014-10-01 08:00:00</td><td>&quot;SA1&quot;</td><td>&quot;wind&quot;</td><td>150.10394</td><td>0.0</td><td>0.0</td><td>0.0</td><td>0.0</td><td>0.0</td><td>0.0</td><td>null</td><td>null</td></tr></tbody></table></div>"
      ],
      "text/plain": [
       "shape: (5, 12)\n",
       "┌────────────┬──────────┬───────────┬───────────┬───┬───────────┬──────────┬───────────┬───────────┐\n",
       "│ SETTLEMENT ┆ REGIONID ┆ FUEL_TYPE ┆ POWER     ┆ … ┆ LOWER5MIN ┆ LOWERREG ┆ RAISE1SEC ┆ LOWER1SEC │\n",
       "│ DATE       ┆ ---      ┆ ---       ┆ ---       ┆   ┆ ---       ┆ ---      ┆ ---       ┆ ---       │\n",
       "│ ---        ┆ str      ┆ str       ┆ f64       ┆   ┆ f64       ┆ f64      ┆ f64       ┆ f64       │\n",
       "│ datetime[m ┆          ┆           ┆           ┆   ┆           ┆          ┆           ┆           │\n",
       "│ s]         ┆          ┆           ┆           ┆   ┆           ┆          ┆           ┆           │\n",
       "╞════════════╪══════════╪═══════════╪═══════════╪═══╪═══════════╪══════════╪═══════════╪═══════════╡\n",
       "│ 2014-10-01 ┆ NSW1     ┆ gas       ┆ 79.657395 ┆ … ┆ 0.0       ┆ 0.0      ┆ null      ┆ null      │\n",
       "│ 01:50:00   ┆          ┆           ┆           ┆   ┆           ┆          ┆           ┆           │\n",
       "│ 2014-10-01 ┆ VIC1     ┆ coal      ┆ 3761.7715 ┆ … ┆ 109.0     ┆ 14.33043 ┆ null      ┆ null      │\n",
       "│ 02:05:00   ┆          ┆           ┆ 5         ┆   ┆           ┆          ┆           ┆           │\n",
       "│ 2014-10-01 ┆ VIC1     ┆ gas       ┆ 284.0     ┆ … ┆ 0.0       ┆ 0.0      ┆ null      ┆ null      │\n",
       "│ 07:25:00   ┆          ┆           ┆           ┆   ┆           ┆          ┆           ┆           │\n",
       "│ 2014-10-01 ┆ VIC1     ┆ wind      ┆ 87.1525   ┆ … ┆ 0.0       ┆ 0.0      ┆ null      ┆ null      │\n",
       "│ 07:35:00   ┆          ┆           ┆           ┆   ┆           ┆          ┆           ┆           │\n",
       "│ 2014-10-01 ┆ SA1      ┆ wind      ┆ 150.10394 ┆ … ┆ 0.0       ┆ 0.0      ┆ null      ┆ null      │\n",
       "│ 08:00:00   ┆          ┆           ┆           ┆   ┆           ┆          ┆           ┆           │\n",
       "└────────────┴──────────┴───────────┴───────────┴───┴───────────┴──────────┴───────────┴───────────┘"
      ]
     },
     "execution_count": 25,
     "metadata": {},
     "output_type": "execute_result"
    }
   ],
   "source": [
    "source_path = os.path.join(sorted_data_cache, \"DISPATCHLOAD.parquet\")\n",
    "\n",
    "dispatchload = pl.scan_parquet(source_path, low_memory=True)\n",
    "assert \"INTERVENTION\" not in dispatchload.collect_schema()\n",
    "dispatchload.head().collect()"
   ]
  },
  {
   "cell_type": "markdown",
   "id": "580d196a-ea24-419b-9ccc-d37a76fd9df6",
   "metadata": {},
   "source": [
    "Resistor Revenue"
   ]
  },
  {
   "cell_type": "code",
   "execution_count": 26,
   "id": "8de6ec5b-5631-4eba-8979-b72475c06895",
   "metadata": {},
   "outputs": [],
   "source": [
    "neg_results = (\n",
    "    dispatchprice\n",
    "    .filter(pl.col(\"RRP\") < 0)\n",
    "    .sort(\"SETTLEMENTDATE\")\n",
    "    .group_by_dynamic(\"SETTLEMENTDATE\", every=\"1mo\", group_by=\"REGIONID\")\n",
    "    .agg(\n",
    "        (-pl.col(\"RRP\") / INTERVALS_PER_H).sum().alias(\"REVENUE\")\n",
    "    )\n",
    "    .collect()\n",
    ")"
   ]
  },
  {
   "cell_type": "code",
   "execution_count": 27,
   "id": "2b58f9dc-7772-4a20-9028-ff16fc3566b1",
   "metadata": {},
   "outputs": [
    {
     "data": {
      "application/vnd.plotly.v1+json": {
       "config": {
        "plotlyServerURL": "https://plot.ly"
       },
       "data": [
        {
         "hovertemplate": "REGIONID=SA1<br>SETTLEMENTDATE=%{x}<br>REVENUE=%{y}<extra></extra>",
         "legendgroup": "SA1",
         "line": {
          "color": "#636efa",
          "dash": "solid"
         },
         "marker": {
          "symbol": "circle"
         },
         "mode": "lines",
         "name": "SA1",
         "orientation": "v",
         "showlegend": true,
         "type": "scatter",
         "x": [
          "2013-12-01T00:00:00.000",
          "2014-01-01T00:00:00.000",
          "2014-02-01T00:00:00.000",
          "2014-03-01T00:00:00.000",
          "2014-04-01T00:00:00.000",
          "2014-05-01T00:00:00.000",
          "2014-06-01T00:00:00.000",
          "2014-07-01T00:00:00.000",
          "2014-08-01T00:00:00.000",
          "2014-09-01T00:00:00.000",
          "2014-10-01T00:00:00.000",
          "2014-11-01T00:00:00.000",
          "2014-12-01T00:00:00.000",
          "2015-01-01T00:00:00.000",
          "2015-02-01T00:00:00.000",
          "2015-03-01T00:00:00.000",
          "2015-04-01T00:00:00.000",
          "2015-05-01T00:00:00.000",
          "2015-06-01T00:00:00.000",
          "2015-07-01T00:00:00.000",
          "2015-08-01T00:00:00.000",
          "2015-09-01T00:00:00.000",
          "2015-10-01T00:00:00.000",
          "2015-11-01T00:00:00.000",
          "2015-12-01T00:00:00.000",
          "2016-01-01T00:00:00.000",
          "2016-02-01T00:00:00.000",
          "2016-03-01T00:00:00.000",
          "2016-04-01T00:00:00.000",
          "2016-05-01T00:00:00.000",
          "2016-06-01T00:00:00.000",
          "2016-07-01T00:00:00.000",
          "2016-08-01T00:00:00.000",
          "2016-09-01T00:00:00.000",
          "2016-10-01T00:00:00.000",
          "2016-11-01T00:00:00.000",
          "2016-12-01T00:00:00.000",
          "2017-01-01T00:00:00.000",
          "2017-02-01T00:00:00.000",
          "2017-03-01T00:00:00.000",
          "2017-04-01T00:00:00.000",
          "2017-05-01T00:00:00.000",
          "2017-07-01T00:00:00.000",
          "2017-08-01T00:00:00.000",
          "2017-09-01T00:00:00.000",
          "2017-10-01T00:00:00.000",
          "2017-11-01T00:00:00.000",
          "2017-12-01T00:00:00.000",
          "2018-01-01T00:00:00.000",
          "2018-02-01T00:00:00.000",
          "2018-03-01T00:00:00.000",
          "2018-04-01T00:00:00.000",
          "2018-05-01T00:00:00.000",
          "2018-06-01T00:00:00.000",
          "2018-07-01T00:00:00.000",
          "2018-08-01T00:00:00.000",
          "2018-09-01T00:00:00.000",
          "2018-10-01T00:00:00.000",
          "2018-11-01T00:00:00.000",
          "2018-12-01T00:00:00.000",
          "2019-01-01T00:00:00.000",
          "2019-02-01T00:00:00.000",
          "2019-03-01T00:00:00.000",
          "2019-04-01T00:00:00.000",
          "2019-05-01T00:00:00.000",
          "2019-06-01T00:00:00.000",
          "2019-07-01T00:00:00.000",
          "2019-08-01T00:00:00.000",
          "2019-09-01T00:00:00.000",
          "2019-10-01T00:00:00.000",
          "2019-11-01T00:00:00.000",
          "2019-12-01T00:00:00.000",
          "2020-01-01T00:00:00.000",
          "2020-02-01T00:00:00.000",
          "2020-03-01T00:00:00.000",
          "2020-04-01T00:00:00.000",
          "2020-05-01T00:00:00.000",
          "2020-06-01T00:00:00.000",
          "2020-07-01T00:00:00.000",
          "2020-08-01T00:00:00.000",
          "2020-09-01T00:00:00.000",
          "2020-10-01T00:00:00.000",
          "2020-11-01T00:00:00.000",
          "2020-12-01T00:00:00.000",
          "2021-01-01T00:00:00.000",
          "2021-02-01T00:00:00.000",
          "2021-03-01T00:00:00.000",
          "2021-04-01T00:00:00.000",
          "2021-05-01T00:00:00.000",
          "2021-06-01T00:00:00.000",
          "2021-07-01T00:00:00.000",
          "2021-08-01T00:00:00.000",
          "2021-09-01T00:00:00.000",
          "2021-10-01T00:00:00.000",
          "2021-11-01T00:00:00.000",
          "2021-12-01T00:00:00.000",
          "2022-01-01T00:00:00.000",
          "2022-02-01T00:00:00.000",
          "2022-03-01T00:00:00.000",
          "2022-04-01T00:00:00.000",
          "2022-05-01T00:00:00.000",
          "2022-06-01T00:00:00.000",
          "2022-07-01T00:00:00.000",
          "2022-08-01T00:00:00.000",
          "2022-09-01T00:00:00.000",
          "2022-10-01T00:00:00.000",
          "2022-11-01T00:00:00.000",
          "2022-12-01T00:00:00.000",
          "2023-01-01T00:00:00.000",
          "2023-02-01T00:00:00.000",
          "2023-03-01T00:00:00.000",
          "2023-04-01T00:00:00.000",
          "2023-05-01T00:00:00.000",
          "2023-06-01T00:00:00.000",
          "2023-07-01T00:00:00.000",
          "2023-08-01T00:00:00.000",
          "2023-09-01T00:00:00.000",
          "2023-10-01T00:00:00.000",
          "2023-11-01T00:00:00.000",
          "2023-12-01T00:00:00.000",
          "2024-01-01T00:00:00.000",
          "2024-02-01T00:00:00.000",
          "2024-03-01T00:00:00.000",
          "2024-04-01T00:00:00.000",
          "2024-05-01T00:00:00.000",
          "2024-06-01T00:00:00.000",
          "2024-07-01T00:00:00.000",
          "2024-08-01T00:00:00.000",
          "2024-09-01T00:00:00.000",
          "2024-10-01T00:00:00.000",
          "2024-11-01T00:00:00.000",
          "2024-12-01T00:00:00.000"
         ],
         "xaxis": "x",
         "y": {
          "bdata": "VisTfqlHMUC0J24CaSmKQNMrZRniQjlAaQi0YToKF0DzmcYJJnE0QNB5jV2iUDdAWe10+lRoIUCkuKrsOzBYQKWLOmBEiBFA+0Fwb5EKOkDDlEiiFw5bQEZghtlemF1AeWtgqwRpRUChEAGH0HNQQFoFRJt2H1ZA4vIf0m9YRkADS5uXsL87QOZ942uvrnZAvAwStSfpc0CB6gx5Ma5tQIsFq9eayl9AnXjh4VDSlj9Bn8iTZDiPQA1xrIu7m4JAmlq21tf2fUAKDkJTydVlQEw3iUEgkGBA2gHESuL2iEDppyVDi8eLQAP06DOtO5VAI7bO0qiqUUAG0ALH8KCWQG++/hGTx3lARGRYxetRkUBarpE384SZQKHWNO8YAZRAQjnRrqJoe0Dwela/v3hfQF9mxV2qzEVAclDCTH8ZoEAlKmcCWMp7QAc6baDTElNAt8oAPdpIi0C6WPKL5WiHQAJIbeLcHZFAhgRmmP2zlUAug+X1zeKOQHZ3d3d3NzxAB7UFcftdlUDOaL5dCW1ZQExIWEFZd3pApCHQhpG3lEA4oRABh1RfQBxK2npz5ShAiv1l9zJotUC91rgRGY+hQOPilRHkEZZAMMNs7+CKcUC5Rt5Mv8VyQNr4OSs/fJBA5LAOWgJddEDXHqoWrpGMQImYEklEQoFAwnEGbHQTjUDLuRRXHX6RQJsTjjM4x5JAoN8dBrBAs0Bu3c1T/QPAQOgwX14K2sFA8dV7F37VyEDlAqqSgqfCQPTdwPe535ZAR59pnJCtlkCsZrC82FLGQH8PlxwvGq5A3NyYniiGokCcDncIzoCTQOaxU5kPB25AE5Ac1vHHgECWUxUtY76pQHXqymf2WcZA/CC4tzRyvUDCdDQhorCyQO2mgQwyXMNAhnKiXZV1ukAaDeAtJOm6QEb7MiuN8sJAu3mqQ/aPo0Bjr3d/LCinQMXBuC7TcaRAsMHVFHeMs0AeDiVtl+28QNzaryjrvMhAyt4/Aw+Wy0DEf6e2v9y7QL912FeXUrdAQo1VXWoYsUAlOzYCJwSyQFaA3GtAK7RAe/fHe41orUDQN3zlCFatQNWALgdvCqZAoaF/gqvVs0Dmw8bPIY+8QHk7wmmSCsJAgDtjcljAykAMk6kCd9PUQC8S2nI5JM1AKl+9dwgMxECj8TFFJgjAQBZ3qf6y6b5AfBLF0cbYuUBcBonaq1KoQM1IqtwTI7pAGYums6nvuEA5zJcXbmK9QCswZHWosclAB64F0G/Ey0C3MybXeivHQM3km23I8MtA5O0Ip00xyEA9xZd2nADHQF2HfRVfwbVAI0VkWImgqECsHFpkQ2GlQFXJ7YQ8xZpAV9eOzzs6sECiKNAnYkvDQJD3qpVWzcdALffcHEie0UAqV3iXFJvHQPOmIhXqB8dA",
          "dtype": "f8"
         },
         "yaxis": "y"
        },
        {
         "hovertemplate": "REGIONID=NSW1<br>SETTLEMENTDATE=%{x}<br>REVENUE=%{y}<extra></extra>",
         "legendgroup": "NSW1",
         "line": {
          "color": "#EF553B",
          "dash": "solid"
         },
         "marker": {
          "symbol": "circle"
         },
         "mode": "lines",
         "name": "NSW1",
         "orientation": "v",
         "showlegend": true,
         "type": "scatter",
         "x": [
          "2015-05-01T00:00:00.000",
          "2015-12-01T00:00:00.000",
          "2016-03-01T00:00:00.000",
          "2016-06-01T00:00:00.000",
          "2016-10-01T00:00:00.000",
          "2016-11-01T00:00:00.000",
          "2017-01-01T00:00:00.000",
          "2017-02-01T00:00:00.000",
          "2018-02-01T00:00:00.000",
          "2018-03-01T00:00:00.000",
          "2018-06-01T00:00:00.000",
          "2018-09-01T00:00:00.000",
          "2019-01-01T00:00:00.000",
          "2019-02-01T00:00:00.000",
          "2019-06-01T00:00:00.000",
          "2019-07-01T00:00:00.000",
          "2019-08-01T00:00:00.000",
          "2019-09-01T00:00:00.000",
          "2019-10-01T00:00:00.000",
          "2020-01-01T00:00:00.000",
          "2020-02-01T00:00:00.000",
          "2020-03-01T00:00:00.000",
          "2020-04-01T00:00:00.000",
          "2020-05-01T00:00:00.000",
          "2020-07-01T00:00:00.000",
          "2020-08-01T00:00:00.000",
          "2020-09-01T00:00:00.000",
          "2020-10-01T00:00:00.000",
          "2020-11-01T00:00:00.000",
          "2020-12-01T00:00:00.000",
          "2021-01-01T00:00:00.000",
          "2021-02-01T00:00:00.000",
          "2021-03-01T00:00:00.000",
          "2021-04-01T00:00:00.000",
          "2021-05-01T00:00:00.000",
          "2021-06-01T00:00:00.000",
          "2021-07-01T00:00:00.000",
          "2021-08-01T00:00:00.000",
          "2021-09-01T00:00:00.000",
          "2021-10-01T00:00:00.000",
          "2021-11-01T00:00:00.000",
          "2021-12-01T00:00:00.000",
          "2022-01-01T00:00:00.000",
          "2022-02-01T00:00:00.000",
          "2022-03-01T00:00:00.000",
          "2022-04-01T00:00:00.000",
          "2022-05-01T00:00:00.000",
          "2022-06-01T00:00:00.000",
          "2022-07-01T00:00:00.000",
          "2022-08-01T00:00:00.000",
          "2022-09-01T00:00:00.000",
          "2022-10-01T00:00:00.000",
          "2022-11-01T00:00:00.000",
          "2022-12-01T00:00:00.000",
          "2023-01-01T00:00:00.000",
          "2023-02-01T00:00:00.000",
          "2023-03-01T00:00:00.000",
          "2023-04-01T00:00:00.000",
          "2023-05-01T00:00:00.000",
          "2023-06-01T00:00:00.000",
          "2023-07-01T00:00:00.000",
          "2023-08-01T00:00:00.000",
          "2023-09-01T00:00:00.000",
          "2023-10-01T00:00:00.000",
          "2023-11-01T00:00:00.000",
          "2023-12-01T00:00:00.000",
          "2024-01-01T00:00:00.000",
          "2024-02-01T00:00:00.000",
          "2024-03-01T00:00:00.000",
          "2024-04-01T00:00:00.000",
          "2024-05-01T00:00:00.000",
          "2024-06-01T00:00:00.000",
          "2024-07-01T00:00:00.000",
          "2024-08-01T00:00:00.000",
          "2024-09-01T00:00:00.000",
          "2024-10-01T00:00:00.000",
          "2024-11-01T00:00:00.000",
          "2024-12-01T00:00:00.000"
         ],
         "xaxis": "x",
         "y": {
          "bdata": "TNBMHREhc0Ch0R3EDsdkQB6CvZzseeE+ljYvYUf2uz7waOOItfjEPvYGX5hM1VRASMSUSKKXcT86kst/SNVUQJY2L2FH9ss+gNk9eViotT9ImlJx9rEfQBoS91j6LCRAhetRuB7lIkC0o0sSXpX+PhasXmvciAQ/D9b/OcyX9z6tm2UpbAkTQI4rG8OJWTBAay4kTakwE0DGndLBepJ+QPBo44i1+MQ+8WjjiLX49D4KKT+p9pdSQFvTvOMU5RNA+WuyRj04JEAXxC0MfsgLQIPTghd9rRFAPRczrxDDEECJoFcpKpAqQLK61XOSZWxAPR94j0a4BUBLIuhVisIZQLFYsHqtcds/H5V1EiT8aEBwoRhG99aBQM/dm8zlPItA/CJCNpOZlkDvExqb4LCKQLWBThsIX5dA/scc3p58m0CFl80JNzqDQB7XhorxrX1AlEBdtxucTkBUMW/ogM95QJXkkyiO+DFAf4eiQJ8gLkAHdDk465YKQEZX/Ll7NUpAEGjDdLS3U0DOpbiqjEeBQPs6cM44OZxAGU6sZnCqlECsuEv1B9SaQAWO8U6jPaVAHvmDgUe4j0B42ZxwjMmWQK5XaztgZ3hAgBtP8R3ZlEARkBzWATpwQCS8Kj3AB3VA8PRKWWaHlECGeuc9qzqUQO7rwDlVCrBAFVJ+UtcotEACSG3ifKqUQP7UeOmyjqBAhjCR5VuOoUDYHWXXaH2RQHSt0Bq2KotA3KgocWC8jED6wHs0QuJkQGF8q4jNkXRA1EAGBZj5gkAZDJvuApCnQMT7hMaYNrZABrZKsIj9r0DPdl+oFlCaQPxXVppEqKpA",
          "dtype": "f8"
         },
         "yaxis": "y"
        },
        {
         "hovertemplate": "REGIONID=QLD1<br>SETTLEMENTDATE=%{x}<br>REVENUE=%{y}<extra></extra>",
         "legendgroup": "QLD1",
         "line": {
          "color": "#00cc96",
          "dash": "solid"
         },
         "marker": {
          "symbol": "circle"
         },
         "mode": "lines",
         "name": "QLD1",
         "orientation": "v",
         "showlegend": true,
         "type": "scatter",
         "x": [
          "2014-03-01T00:00:00.000",
          "2014-05-01T00:00:00.000",
          "2014-07-01T00:00:00.000",
          "2014-08-01T00:00:00.000",
          "2014-09-01T00:00:00.000",
          "2014-10-01T00:00:00.000",
          "2014-11-01T00:00:00.000",
          "2014-12-01T00:00:00.000",
          "2015-02-01T00:00:00.000",
          "2015-04-01T00:00:00.000",
          "2015-05-01T00:00:00.000",
          "2015-07-01T00:00:00.000",
          "2015-11-01T00:00:00.000",
          "2015-12-01T00:00:00.000",
          "2016-02-01T00:00:00.000",
          "2016-03-01T00:00:00.000",
          "2016-06-01T00:00:00.000",
          "2016-10-01T00:00:00.000",
          "2016-11-01T00:00:00.000",
          "2017-01-01T00:00:00.000",
          "2017-02-01T00:00:00.000",
          "2017-03-01T00:00:00.000",
          "2017-06-01T00:00:00.000",
          "2017-07-01T00:00:00.000",
          "2017-08-01T00:00:00.000",
          "2017-10-01T00:00:00.000",
          "2017-11-01T00:00:00.000",
          "2018-01-01T00:00:00.000",
          "2018-02-01T00:00:00.000",
          "2018-03-01T00:00:00.000",
          "2018-04-01T00:00:00.000",
          "2018-05-01T00:00:00.000",
          "2018-06-01T00:00:00.000",
          "2018-08-01T00:00:00.000",
          "2018-09-01T00:00:00.000",
          "2018-10-01T00:00:00.000",
          "2018-12-01T00:00:00.000",
          "2019-01-01T00:00:00.000",
          "2019-02-01T00:00:00.000",
          "2019-03-01T00:00:00.000",
          "2019-04-01T00:00:00.000",
          "2019-05-01T00:00:00.000",
          "2019-06-01T00:00:00.000",
          "2019-07-01T00:00:00.000",
          "2019-08-01T00:00:00.000",
          "2019-09-01T00:00:00.000",
          "2019-10-01T00:00:00.000",
          "2019-11-01T00:00:00.000",
          "2019-12-01T00:00:00.000",
          "2020-01-01T00:00:00.000",
          "2020-02-01T00:00:00.000",
          "2020-03-01T00:00:00.000",
          "2020-04-01T00:00:00.000",
          "2020-05-01T00:00:00.000",
          "2020-06-01T00:00:00.000",
          "2020-07-01T00:00:00.000",
          "2020-08-01T00:00:00.000",
          "2020-09-01T00:00:00.000",
          "2020-10-01T00:00:00.000",
          "2020-11-01T00:00:00.000",
          "2020-12-01T00:00:00.000",
          "2021-01-01T00:00:00.000",
          "2021-02-01T00:00:00.000",
          "2021-03-01T00:00:00.000",
          "2021-04-01T00:00:00.000",
          "2021-05-01T00:00:00.000",
          "2021-06-01T00:00:00.000",
          "2021-07-01T00:00:00.000",
          "2021-08-01T00:00:00.000",
          "2021-09-01T00:00:00.000",
          "2021-10-01T00:00:00.000",
          "2021-11-01T00:00:00.000",
          "2021-12-01T00:00:00.000",
          "2022-01-01T00:00:00.000",
          "2022-02-01T00:00:00.000",
          "2022-03-01T00:00:00.000",
          "2022-04-01T00:00:00.000",
          "2022-05-01T00:00:00.000",
          "2022-06-01T00:00:00.000",
          "2022-07-01T00:00:00.000",
          "2022-08-01T00:00:00.000",
          "2022-09-01T00:00:00.000",
          "2022-10-01T00:00:00.000",
          "2022-11-01T00:00:00.000",
          "2022-12-01T00:00:00.000",
          "2023-01-01T00:00:00.000",
          "2023-02-01T00:00:00.000",
          "2023-03-01T00:00:00.000",
          "2023-04-01T00:00:00.000",
          "2023-05-01T00:00:00.000",
          "2023-06-01T00:00:00.000",
          "2023-07-01T00:00:00.000",
          "2023-08-01T00:00:00.000",
          "2023-09-01T00:00:00.000",
          "2023-10-01T00:00:00.000",
          "2023-11-01T00:00:00.000",
          "2023-12-01T00:00:00.000",
          "2024-01-01T00:00:00.000",
          "2024-02-01T00:00:00.000",
          "2024-03-01T00:00:00.000",
          "2024-04-01T00:00:00.000",
          "2024-05-01T00:00:00.000",
          "2024-06-01T00:00:00.000",
          "2024-07-01T00:00:00.000",
          "2024-08-01T00:00:00.000",
          "2024-09-01T00:00:00.000",
          "2024-10-01T00:00:00.000",
          "2024-11-01T00:00:00.000",
          "2024-12-01T00:00:00.000"
         ],
         "xaxis": "x",
         "y": {
          "bdata": "VVVVVVXVVEBVVVVVVdVUQHnUhUXSo4JAgEOoUrOH0D92w7ZFGd9UQOXfZ1w4yCFAqTC2EOSgtj8GHYfUpwd6QId10BJROeM+z16QBzXbVEAiedSFRTKBPyNfHG8FwyRAKws5yWnWVEDFxObj2lBxP9oeqhYeP39AVVVVVVXVZECWNi9hR/a7PvBo44i1+MQ+xUgJ1DXXY0DpJjEILER/QJxTtjVfO4JA4mBclwfWtj/NCccZ8NF0QFVVVVVV1VRAasz+U0SWbUB4O8JpYVF0QDpjcn0C0IFA20YDeItDb0DwaOOItfjEPlVVVVVVVbU/vBCFqUBAcT9l/PuMC4cCQC0Tfqmfly5ArLhL9XfJkj+Md1qRezqDQDouvRCF33BAeckSsLCdYEBTtjUPTVQyQJY2L2FH9vs+cPv4XlYTEECzoB1dkqAuQOFIjfZlFjVAdpoYpd7UgkBVO50+RQiLQKv0AANGtpBAh6dXym71skDaDiBW7lClQANogWOcdolAOYqGnxJq1j9JCdR1m0eFQPBo44i1+MQ+/MIFs/wUcUBSy9b6oolYQKqAaNO+haNAd1qRq7sdhEAG6/8chp2AQAVBbUHMYKJAbPeFan2ToUBKcz5P0q+jQE5f4qLN9o5A2q8oEnmRckAd/pqskZ9vQG863CFYw3RAypwui1lxg0BWv78u9OqoQJydDI6ykaBAuuz9M/ChxUB9FfOGcK2xQE+FUo6075tAG197ZsHNvUDq4fHaKKW8QEnfkZ63DKJApQcYcMlRcUCqS7NmUcUkQJ3seREAfWZAxqLp7GT5U0DRFX/u3nFXQHecARv9a1xAuOGKng66ckDRvsyK+2VmQHc1Zv9F5qdAXZLwqqwEpkBKcz5PRsiUQO8FeVC7Mp1A7QinBVM2pkB8EsXRkhiOQBeto6pZZ45Autihh9dwlkDpQxfUQ9ChQNjYJapnAphA92NtZodhlEAmRqmXVvimQG3NQ5PzU7dAYnyriFmevEDmllZD0iq+QK0XQzmR66JA+WabG6tso0BkQTu6xEB7QPDPH62kk4JA/gHpdb7Dj0CfGi/dwJegQMNs70BiWq1AM/lmmxcLpkCuYt7Qud+iQKV7sJ+kxrFAs0yZrl4SwUAldQKaPi/AQBCFqUAQgalAiZtA/svqqkA=",
          "dtype": "f8"
         },
         "yaxis": "y"
        },
        {
         "hovertemplate": "REGIONID=TAS1<br>SETTLEMENTDATE=%{x}<br>REVENUE=%{y}<extra></extra>",
         "legendgroup": "TAS1",
         "line": {
          "color": "#ab63fa",
          "dash": "solid"
         },
         "marker": {
          "symbol": "circle"
         },
         "mode": "lines",
         "name": "TAS1",
         "orientation": "v",
         "showlegend": true,
         "type": "scatter",
         "x": [
          "2013-12-01T00:00:00.000",
          "2014-01-01T00:00:00.000",
          "2014-02-01T00:00:00.000",
          "2014-03-01T00:00:00.000",
          "2014-04-01T00:00:00.000",
          "2014-05-01T00:00:00.000",
          "2014-06-01T00:00:00.000",
          "2014-07-01T00:00:00.000",
          "2014-08-01T00:00:00.000",
          "2014-09-01T00:00:00.000",
          "2014-11-01T00:00:00.000",
          "2014-12-01T00:00:00.000",
          "2015-01-01T00:00:00.000",
          "2015-02-01T00:00:00.000",
          "2015-03-01T00:00:00.000",
          "2015-04-01T00:00:00.000",
          "2015-05-01T00:00:00.000",
          "2015-06-01T00:00:00.000",
          "2015-07-01T00:00:00.000",
          "2015-08-01T00:00:00.000",
          "2015-09-01T00:00:00.000",
          "2015-11-01T00:00:00.000",
          "2015-12-01T00:00:00.000",
          "2016-01-01T00:00:00.000",
          "2016-02-01T00:00:00.000",
          "2016-03-01T00:00:00.000",
          "2016-04-01T00:00:00.000",
          "2016-05-01T00:00:00.000",
          "2016-06-01T00:00:00.000",
          "2016-07-01T00:00:00.000",
          "2016-08-01T00:00:00.000",
          "2016-09-01T00:00:00.000",
          "2016-10-01T00:00:00.000",
          "2016-11-01T00:00:00.000",
          "2016-12-01T00:00:00.000",
          "2017-01-01T00:00:00.000",
          "2017-02-01T00:00:00.000",
          "2017-03-01T00:00:00.000",
          "2017-04-01T00:00:00.000",
          "2017-05-01T00:00:00.000",
          "2017-06-01T00:00:00.000",
          "2017-07-01T00:00:00.000",
          "2017-08-01T00:00:00.000",
          "2017-09-01T00:00:00.000",
          "2017-10-01T00:00:00.000",
          "2017-11-01T00:00:00.000",
          "2017-12-01T00:00:00.000",
          "2018-01-01T00:00:00.000",
          "2018-02-01T00:00:00.000",
          "2018-03-01T00:00:00.000",
          "2018-04-01T00:00:00.000",
          "2018-05-01T00:00:00.000",
          "2018-06-01T00:00:00.000",
          "2018-07-01T00:00:00.000",
          "2018-08-01T00:00:00.000",
          "2018-09-01T00:00:00.000",
          "2018-10-01T00:00:00.000",
          "2018-11-01T00:00:00.000",
          "2018-12-01T00:00:00.000",
          "2019-01-01T00:00:00.000",
          "2019-02-01T00:00:00.000",
          "2019-03-01T00:00:00.000",
          "2019-04-01T00:00:00.000",
          "2019-05-01T00:00:00.000",
          "2019-06-01T00:00:00.000",
          "2019-07-01T00:00:00.000",
          "2019-08-01T00:00:00.000",
          "2019-09-01T00:00:00.000",
          "2019-10-01T00:00:00.000",
          "2019-11-01T00:00:00.000",
          "2019-12-01T00:00:00.000",
          "2020-01-01T00:00:00.000",
          "2020-02-01T00:00:00.000",
          "2020-03-01T00:00:00.000",
          "2020-04-01T00:00:00.000",
          "2020-05-01T00:00:00.000",
          "2020-06-01T00:00:00.000",
          "2020-07-01T00:00:00.000",
          "2020-08-01T00:00:00.000",
          "2020-09-01T00:00:00.000",
          "2020-10-01T00:00:00.000",
          "2020-11-01T00:00:00.000",
          "2020-12-01T00:00:00.000",
          "2021-01-01T00:00:00.000",
          "2021-02-01T00:00:00.000",
          "2021-03-01T00:00:00.000",
          "2021-04-01T00:00:00.000",
          "2021-05-01T00:00:00.000",
          "2021-06-01T00:00:00.000",
          "2021-07-01T00:00:00.000",
          "2021-08-01T00:00:00.000",
          "2021-09-01T00:00:00.000",
          "2021-10-01T00:00:00.000",
          "2021-11-01T00:00:00.000",
          "2021-12-01T00:00:00.000",
          "2022-01-01T00:00:00.000",
          "2022-02-01T00:00:00.000",
          "2022-03-01T00:00:00.000",
          "2022-04-01T00:00:00.000",
          "2022-05-01T00:00:00.000",
          "2022-06-01T00:00:00.000",
          "2022-07-01T00:00:00.000",
          "2022-08-01T00:00:00.000",
          "2022-09-01T00:00:00.000",
          "2022-10-01T00:00:00.000",
          "2022-11-01T00:00:00.000",
          "2022-12-01T00:00:00.000",
          "2023-01-01T00:00:00.000",
          "2023-02-01T00:00:00.000",
          "2023-03-01T00:00:00.000",
          "2023-04-01T00:00:00.000",
          "2023-05-01T00:00:00.000",
          "2023-06-01T00:00:00.000",
          "2023-07-01T00:00:00.000",
          "2023-08-01T00:00:00.000",
          "2023-09-01T00:00:00.000",
          "2023-10-01T00:00:00.000",
          "2023-11-01T00:00:00.000",
          "2023-12-01T00:00:00.000",
          "2024-01-01T00:00:00.000",
          "2024-02-01T00:00:00.000",
          "2024-03-01T00:00:00.000",
          "2024-04-01T00:00:00.000",
          "2024-05-01T00:00:00.000",
          "2024-06-01T00:00:00.000",
          "2024-07-01T00:00:00.000",
          "2024-08-01T00:00:00.000",
          "2024-09-01T00:00:00.000",
          "2024-10-01T00:00:00.000",
          "2024-11-01T00:00:00.000",
          "2024-12-01T00:00:00.000"
         ],
         "xaxis": "x",
         "y": {
          "bdata": "7xoaPDkIXEDZrPpcEd2xQGaIY11cw2VAoqzyF40uRUDkv1PbYLvoP0pGzsKeDlVA3d3d3d3drT+m+rtkCRjyP5e6UVHi8AFAQbE7yq5RIkDcHMGgX7tEQN/wlVMV/RVA22gAb0FjcUDYZI16iEbEP9COLkl4leM/A2iBY7zT1z+DJwfGFBaAQNbAVgkWEyxAwcqhRbbz/D/y6hwDshBVQLZ3IMUTRBtAuB6F61G4rj/sz36kiER1QL9Y8oslv9A/H4XrUbgexT8TsDBXGTAFQOM+X6CRddc/bgFVyQ0Ic0ALsI9OXTZDQEXGfb6AZIJAHzmsg1b5bUD5UfovfWFtQNGJFx5+O45Avtnmxvx6mEBa5S8aHzU5QETFOH+Tz19ABk7JTPz9YEC4uC4PLOdTQGMoJ9pVaP4/gU4b6LRVVUDWo3A9CtfjP3uW58Hd2fY/z9abK11cF0AlonImADxYQMvW+iKhXQ1Am7ho20N9IUBDWeUvGjMiQPQejTBC14lAds8sCdA9WEDK2xFOC1g9QOxRuB6F2zBAt9PpU6GQIEDdFHzAyalxQJBSL+VpoDtAfsaFA/HIgUB2ALGSbO2GQNBpA5020ME/4r9T22B74D+qT4VSzplhQEsPMOBiCIJA3otCpYRMcED9KytNmraBQLz9zDMJ8dc/SFFBWKDQ+T98vFetTGAQQOdvQiHC7HNAMPDcewh1gED86RnV/EM3QMIMs70DfSRAALappzzMYECaP7mAajGBQPXCZKrQd55AFIkcNfmyhEB46SYxCLFiQGhCgPmRXXVADS+bE14cgUDqjhFjLLdkQNTf4zlIikFA22VzwvFCU0DI8puvf5BtQCpnAliHEJBAMAqVkridZ0DcQexMGdeYQFotnfxDq3ZAI4qjhX6ZdkAUDyib8i9XQOQpvrSbwX1AbO9AiidxiUDB4nDmt8B+QHbrD6eOnZpAq0acO1cwm0ArvrS7lialQJq2f2WZE6hA+Zgi09SEhkDNr+YAAUt4QNTHVqpe5W5AHSjdg/0LdUACK4cWmaZ4QJ5EcbQQhn5AXiadW3ueZ0AYL90khuRbQPtHzNkoZCFAF6YCAUXYXEAlmi1GStABQARWDi3KvJRAN1SM87fCiECj69XazjJpQMy8Qgwh4mZA2KS1fLc2V0C7AuReQz2IQISrKbavcGJA5AAgFIGxa0AwDcNH1NmbQCdGqZdWDqlAyUQ36LgvlUD/DFwLPIigQHs52fPSe4xAoEjkqEk+ckA+fm/TH+OKQGGbesoXjJZA+TdCGQ1pmkDkcOZXUyh1QMaXdlfjt1NAC53X2EWcc0BGkchRk+h6QOvDZ9iVYFdANo5Yi//OhEC5VH+XpDGeQNl8XBtqwYFAbWYHb7Irk0D0vvG112+kQA==",
          "dtype": "f8"
         },
         "yaxis": "y"
        },
        {
         "hovertemplate": "REGIONID=VIC1<br>SETTLEMENTDATE=%{x}<br>REVENUE=%{y}<extra></extra>",
         "legendgroup": "VIC1",
         "line": {
          "color": "#FFA15A",
          "dash": "solid"
         },
         "marker": {
          "symbol": "circle"
         },
         "mode": "lines",
         "name": "VIC1",
         "orientation": "v",
         "showlegend": true,
         "type": "scatter",
         "x": [
          "2013-12-01T00:00:00.000",
          "2014-01-01T00:00:00.000",
          "2014-02-01T00:00:00.000",
          "2014-06-01T00:00:00.000",
          "2014-07-01T00:00:00.000",
          "2014-08-01T00:00:00.000",
          "2014-09-01T00:00:00.000",
          "2014-10-01T00:00:00.000",
          "2014-11-01T00:00:00.000",
          "2014-12-01T00:00:00.000",
          "2015-01-01T00:00:00.000",
          "2015-02-01T00:00:00.000",
          "2015-03-01T00:00:00.000",
          "2015-04-01T00:00:00.000",
          "2015-05-01T00:00:00.000",
          "2015-06-01T00:00:00.000",
          "2015-07-01T00:00:00.000",
          "2015-08-01T00:00:00.000",
          "2015-10-01T00:00:00.000",
          "2015-11-01T00:00:00.000",
          "2015-12-01T00:00:00.000",
          "2016-01-01T00:00:00.000",
          "2016-02-01T00:00:00.000",
          "2016-03-01T00:00:00.000",
          "2016-04-01T00:00:00.000",
          "2016-05-01T00:00:00.000",
          "2016-06-01T00:00:00.000",
          "2016-07-01T00:00:00.000",
          "2016-08-01T00:00:00.000",
          "2016-09-01T00:00:00.000",
          "2016-10-01T00:00:00.000",
          "2016-11-01T00:00:00.000",
          "2016-12-01T00:00:00.000",
          "2017-01-01T00:00:00.000",
          "2017-02-01T00:00:00.000",
          "2017-03-01T00:00:00.000",
          "2017-08-01T00:00:00.000",
          "2017-09-01T00:00:00.000",
          "2017-10-01T00:00:00.000",
          "2017-11-01T00:00:00.000",
          "2018-02-01T00:00:00.000",
          "2018-03-01T00:00:00.000",
          "2018-04-01T00:00:00.000",
          "2018-05-01T00:00:00.000",
          "2018-06-01T00:00:00.000",
          "2018-07-01T00:00:00.000",
          "2018-08-01T00:00:00.000",
          "2018-09-01T00:00:00.000",
          "2018-11-01T00:00:00.000",
          "2018-12-01T00:00:00.000",
          "2019-01-01T00:00:00.000",
          "2019-02-01T00:00:00.000",
          "2019-03-01T00:00:00.000",
          "2019-04-01T00:00:00.000",
          "2019-05-01T00:00:00.000",
          "2019-06-01T00:00:00.000",
          "2019-07-01T00:00:00.000",
          "2019-08-01T00:00:00.000",
          "2019-09-01T00:00:00.000",
          "2019-10-01T00:00:00.000",
          "2019-11-01T00:00:00.000",
          "2019-12-01T00:00:00.000",
          "2020-01-01T00:00:00.000",
          "2020-02-01T00:00:00.000",
          "2020-03-01T00:00:00.000",
          "2020-04-01T00:00:00.000",
          "2020-05-01T00:00:00.000",
          "2020-06-01T00:00:00.000",
          "2020-07-01T00:00:00.000",
          "2020-08-01T00:00:00.000",
          "2020-09-01T00:00:00.000",
          "2020-10-01T00:00:00.000",
          "2020-11-01T00:00:00.000",
          "2020-12-01T00:00:00.000",
          "2021-01-01T00:00:00.000",
          "2021-02-01T00:00:00.000",
          "2021-03-01T00:00:00.000",
          "2021-04-01T00:00:00.000",
          "2021-05-01T00:00:00.000",
          "2021-06-01T00:00:00.000",
          "2021-07-01T00:00:00.000",
          "2021-08-01T00:00:00.000",
          "2021-09-01T00:00:00.000",
          "2021-10-01T00:00:00.000",
          "2021-11-01T00:00:00.000",
          "2021-12-01T00:00:00.000",
          "2022-01-01T00:00:00.000",
          "2022-02-01T00:00:00.000",
          "2022-03-01T00:00:00.000",
          "2022-04-01T00:00:00.000",
          "2022-05-01T00:00:00.000",
          "2022-06-01T00:00:00.000",
          "2022-07-01T00:00:00.000",
          "2022-08-01T00:00:00.000",
          "2022-09-01T00:00:00.000",
          "2022-10-01T00:00:00.000",
          "2022-11-01T00:00:00.000",
          "2022-12-01T00:00:00.000",
          "2023-01-01T00:00:00.000",
          "2023-02-01T00:00:00.000",
          "2023-03-01T00:00:00.000",
          "2023-04-01T00:00:00.000",
          "2023-05-01T00:00:00.000",
          "2023-06-01T00:00:00.000",
          "2023-07-01T00:00:00.000",
          "2023-08-01T00:00:00.000",
          "2023-09-01T00:00:00.000",
          "2023-10-01T00:00:00.000",
          "2023-11-01T00:00:00.000",
          "2023-12-01T00:00:00.000",
          "2024-01-01T00:00:00.000",
          "2024-02-01T00:00:00.000",
          "2024-03-01T00:00:00.000",
          "2024-04-01T00:00:00.000",
          "2024-05-01T00:00:00.000",
          "2024-06-01T00:00:00.000",
          "2024-07-01T00:00:00.000",
          "2024-08-01T00:00:00.000",
          "2024-09-01T00:00:00.000",
          "2024-10-01T00:00:00.000",
          "2024-11-01T00:00:00.000",
          "2024-12-01T00:00:00.000"
         ],
         "xaxis": "x",
         "y": {
          "bdata": "2ZdZcZeUVUCrLs2a1YOHQEpuJyQskGBAWGs7gFhJtj8p01Wn8CURQMSEvuErp9E/zW3ViHM/I0BE9JGBKVBZQKNwPQrXcwlATmpVOG9p9T9KDAIrBypvQN7d3d0dZG9ARRoCbZjO6D+mZg+0AvMBQAYuVtTgrlFAn8iTpGum4j+IoFcpKgj0P9B+pIgMxyJAWVz2/hm49j4ecEpm4hcvQOGCWY7d7XlAsWg6O1kZZUAs6TvS8zJLQOge7CdW8HZAC3nxaxFVf0C4t0jHkmOXQP3HHN6GAxlAIafoSO7KaUAt9K5n9b1PQP7+usCSR2BAfuuwr6Icd0DqlbIMsWd+QCBe1y8YBG9AzmOnMp9+WUDgOAM2mgl9QHK6LCY2q15ANhJ7e+pr5z/AnTG5Phn/Px6CvZzsefE+JOmayTfqZkARO1PovENZQFThvCUmoUZADApwZwxzaUD+16ae8u0YQCLTtJ40nxxA147PUTRAIUDOKduaJ5VzQOik941PbJFABj+Eyz339D82fOVUxYBqQEcr0Wwx5WRAlzd0oHSvb0BEEr2MYuF/QIfUx1aqEidAi4fkURdeI0CcDI6SVzs1QO4dSPGEM19AaSCDApwYcEB5hRjCxFpwQIXe9ayuHYBAWoOrKfYIYEC6ix16WNZ1QHdqG2xHoJRAXI3Zf4pkOkC+lezYCPY0QCjgsbKwnIRAknwSxbEveUD2CEgO6zI+QHwPlxx3ii9ArG71nHQje0CO1GhfNjaLQEpBt5fs9JhAmigvH87okEBDHOvirpWtQBBYObSwmqVA9f4ZuI5dmkDsmw53CEV9QGvciBTILpVAuGjbQ129mEC3Za2OoSKXQJXs2AiEwKJAbickrCS7qkC/WyBBC2a0QOMUHckfQ7hA10y+2cZMqEDKviuCfzWxQHmFGMJMwZ5AdnRJwtcupUDzL1wwZyupQLp7k7kkIZlA7ds2eYfUhUDmpuADzmWQQPeKgYh7L6NAuOS4U04RrkCAfXTqqhWtQBNpCLTNX7VAZZKRsxKev0C7hgZPdS3GQLaR2Nvt8sBAgob+CVrivECw3rvgbF26QHFqemPnuqdAzNb6IsnumEARwqONMy2yQMPTK2WRDbNAzBs6UPLkrUC+BldTQjjHQL3mQtJq9cRAdBxSH9s9xEBDDGEie8nIQMeYu5bSOcZAEJ9hV5lTw0B//mglRCu1QApTgYDqLKRAbYPtOuaGmkCbpzrktnqEQFRvDWwlM49A1pC4x+SNuUA6p2xrAZTCQDiEKjWUHsxAfQqA8UXJwkDQXKeRTuzEQA==",
          "dtype": "f8"
         },
         "yaxis": "y"
        }
       ],
       "layout": {
        "legend": {
         "title": {
          "text": "REGIONID"
         },
         "tracegroupgap": 0
        },
        "template": {
         "data": {
          "bar": [
           {
            "error_x": {
             "color": "#2a3f5f"
            },
            "error_y": {
             "color": "#2a3f5f"
            },
            "marker": {
             "line": {
              "color": "#E5ECF6",
              "width": 0.5
             },
             "pattern": {
              "fillmode": "overlay",
              "size": 10,
              "solidity": 0.2
             }
            },
            "type": "bar"
           }
          ],
          "barpolar": [
           {
            "marker": {
             "line": {
              "color": "#E5ECF6",
              "width": 0.5
             },
             "pattern": {
              "fillmode": "overlay",
              "size": 10,
              "solidity": 0.2
             }
            },
            "type": "barpolar"
           }
          ],
          "carpet": [
           {
            "aaxis": {
             "endlinecolor": "#2a3f5f",
             "gridcolor": "white",
             "linecolor": "white",
             "minorgridcolor": "white",
             "startlinecolor": "#2a3f5f"
            },
            "baxis": {
             "endlinecolor": "#2a3f5f",
             "gridcolor": "white",
             "linecolor": "white",
             "minorgridcolor": "white",
             "startlinecolor": "#2a3f5f"
            },
            "type": "carpet"
           }
          ],
          "choropleth": [
           {
            "colorbar": {
             "outlinewidth": 0,
             "ticks": ""
            },
            "type": "choropleth"
           }
          ],
          "contour": [
           {
            "colorbar": {
             "outlinewidth": 0,
             "ticks": ""
            },
            "colorscale": [
             [
              0,
              "#0d0887"
             ],
             [
              0.1111111111111111,
              "#46039f"
             ],
             [
              0.2222222222222222,
              "#7201a8"
             ],
             [
              0.3333333333333333,
              "#9c179e"
             ],
             [
              0.4444444444444444,
              "#bd3786"
             ],
             [
              0.5555555555555556,
              "#d8576b"
             ],
             [
              0.6666666666666666,
              "#ed7953"
             ],
             [
              0.7777777777777778,
              "#fb9f3a"
             ],
             [
              0.8888888888888888,
              "#fdca26"
             ],
             [
              1,
              "#f0f921"
             ]
            ],
            "type": "contour"
           }
          ],
          "contourcarpet": [
           {
            "colorbar": {
             "outlinewidth": 0,
             "ticks": ""
            },
            "type": "contourcarpet"
           }
          ],
          "heatmap": [
           {
            "colorbar": {
             "outlinewidth": 0,
             "ticks": ""
            },
            "colorscale": [
             [
              0,
              "#0d0887"
             ],
             [
              0.1111111111111111,
              "#46039f"
             ],
             [
              0.2222222222222222,
              "#7201a8"
             ],
             [
              0.3333333333333333,
              "#9c179e"
             ],
             [
              0.4444444444444444,
              "#bd3786"
             ],
             [
              0.5555555555555556,
              "#d8576b"
             ],
             [
              0.6666666666666666,
              "#ed7953"
             ],
             [
              0.7777777777777778,
              "#fb9f3a"
             ],
             [
              0.8888888888888888,
              "#fdca26"
             ],
             [
              1,
              "#f0f921"
             ]
            ],
            "type": "heatmap"
           }
          ],
          "histogram": [
           {
            "marker": {
             "pattern": {
              "fillmode": "overlay",
              "size": 10,
              "solidity": 0.2
             }
            },
            "type": "histogram"
           }
          ],
          "histogram2d": [
           {
            "colorbar": {
             "outlinewidth": 0,
             "ticks": ""
            },
            "colorscale": [
             [
              0,
              "#0d0887"
             ],
             [
              0.1111111111111111,
              "#46039f"
             ],
             [
              0.2222222222222222,
              "#7201a8"
             ],
             [
              0.3333333333333333,
              "#9c179e"
             ],
             [
              0.4444444444444444,
              "#bd3786"
             ],
             [
              0.5555555555555556,
              "#d8576b"
             ],
             [
              0.6666666666666666,
              "#ed7953"
             ],
             [
              0.7777777777777778,
              "#fb9f3a"
             ],
             [
              0.8888888888888888,
              "#fdca26"
             ],
             [
              1,
              "#f0f921"
             ]
            ],
            "type": "histogram2d"
           }
          ],
          "histogram2dcontour": [
           {
            "colorbar": {
             "outlinewidth": 0,
             "ticks": ""
            },
            "colorscale": [
             [
              0,
              "#0d0887"
             ],
             [
              0.1111111111111111,
              "#46039f"
             ],
             [
              0.2222222222222222,
              "#7201a8"
             ],
             [
              0.3333333333333333,
              "#9c179e"
             ],
             [
              0.4444444444444444,
              "#bd3786"
             ],
             [
              0.5555555555555556,
              "#d8576b"
             ],
             [
              0.6666666666666666,
              "#ed7953"
             ],
             [
              0.7777777777777778,
              "#fb9f3a"
             ],
             [
              0.8888888888888888,
              "#fdca26"
             ],
             [
              1,
              "#f0f921"
             ]
            ],
            "type": "histogram2dcontour"
           }
          ],
          "mesh3d": [
           {
            "colorbar": {
             "outlinewidth": 0,
             "ticks": ""
            },
            "type": "mesh3d"
           }
          ],
          "parcoords": [
           {
            "line": {
             "colorbar": {
              "outlinewidth": 0,
              "ticks": ""
             }
            },
            "type": "parcoords"
           }
          ],
          "pie": [
           {
            "automargin": true,
            "type": "pie"
           }
          ],
          "scatter": [
           {
            "fillpattern": {
             "fillmode": "overlay",
             "size": 10,
             "solidity": 0.2
            },
            "type": "scatter"
           }
          ],
          "scatter3d": [
           {
            "line": {
             "colorbar": {
              "outlinewidth": 0,
              "ticks": ""
             }
            },
            "marker": {
             "colorbar": {
              "outlinewidth": 0,
              "ticks": ""
             }
            },
            "type": "scatter3d"
           }
          ],
          "scattercarpet": [
           {
            "marker": {
             "colorbar": {
              "outlinewidth": 0,
              "ticks": ""
             }
            },
            "type": "scattercarpet"
           }
          ],
          "scattergeo": [
           {
            "marker": {
             "colorbar": {
              "outlinewidth": 0,
              "ticks": ""
             }
            },
            "type": "scattergeo"
           }
          ],
          "scattergl": [
           {
            "marker": {
             "colorbar": {
              "outlinewidth": 0,
              "ticks": ""
             }
            },
            "type": "scattergl"
           }
          ],
          "scattermap": [
           {
            "marker": {
             "colorbar": {
              "outlinewidth": 0,
              "ticks": ""
             }
            },
            "type": "scattermap"
           }
          ],
          "scattermapbox": [
           {
            "marker": {
             "colorbar": {
              "outlinewidth": 0,
              "ticks": ""
             }
            },
            "type": "scattermapbox"
           }
          ],
          "scatterpolar": [
           {
            "marker": {
             "colorbar": {
              "outlinewidth": 0,
              "ticks": ""
             }
            },
            "type": "scatterpolar"
           }
          ],
          "scatterpolargl": [
           {
            "marker": {
             "colorbar": {
              "outlinewidth": 0,
              "ticks": ""
             }
            },
            "type": "scatterpolargl"
           }
          ],
          "scatterternary": [
           {
            "marker": {
             "colorbar": {
              "outlinewidth": 0,
              "ticks": ""
             }
            },
            "type": "scatterternary"
           }
          ],
          "surface": [
           {
            "colorbar": {
             "outlinewidth": 0,
             "ticks": ""
            },
            "colorscale": [
             [
              0,
              "#0d0887"
             ],
             [
              0.1111111111111111,
              "#46039f"
             ],
             [
              0.2222222222222222,
              "#7201a8"
             ],
             [
              0.3333333333333333,
              "#9c179e"
             ],
             [
              0.4444444444444444,
              "#bd3786"
             ],
             [
              0.5555555555555556,
              "#d8576b"
             ],
             [
              0.6666666666666666,
              "#ed7953"
             ],
             [
              0.7777777777777778,
              "#fb9f3a"
             ],
             [
              0.8888888888888888,
              "#fdca26"
             ],
             [
              1,
              "#f0f921"
             ]
            ],
            "type": "surface"
           }
          ],
          "table": [
           {
            "cells": {
             "fill": {
              "color": "#EBF0F8"
             },
             "line": {
              "color": "white"
             }
            },
            "header": {
             "fill": {
              "color": "#C8D4E3"
             },
             "line": {
              "color": "white"
             }
            },
            "type": "table"
           }
          ]
         },
         "layout": {
          "annotationdefaults": {
           "arrowcolor": "#2a3f5f",
           "arrowhead": 0,
           "arrowwidth": 1
          },
          "autotypenumbers": "strict",
          "coloraxis": {
           "colorbar": {
            "outlinewidth": 0,
            "ticks": ""
           }
          },
          "colorscale": {
           "diverging": [
            [
             0,
             "#8e0152"
            ],
            [
             0.1,
             "#c51b7d"
            ],
            [
             0.2,
             "#de77ae"
            ],
            [
             0.3,
             "#f1b6da"
            ],
            [
             0.4,
             "#fde0ef"
            ],
            [
             0.5,
             "#f7f7f7"
            ],
            [
             0.6,
             "#e6f5d0"
            ],
            [
             0.7,
             "#b8e186"
            ],
            [
             0.8,
             "#7fbc41"
            ],
            [
             0.9,
             "#4d9221"
            ],
            [
             1,
             "#276419"
            ]
           ],
           "sequential": [
            [
             0,
             "#0d0887"
            ],
            [
             0.1111111111111111,
             "#46039f"
            ],
            [
             0.2222222222222222,
             "#7201a8"
            ],
            [
             0.3333333333333333,
             "#9c179e"
            ],
            [
             0.4444444444444444,
             "#bd3786"
            ],
            [
             0.5555555555555556,
             "#d8576b"
            ],
            [
             0.6666666666666666,
             "#ed7953"
            ],
            [
             0.7777777777777778,
             "#fb9f3a"
            ],
            [
             0.8888888888888888,
             "#fdca26"
            ],
            [
             1,
             "#f0f921"
            ]
           ],
           "sequentialminus": [
            [
             0,
             "#0d0887"
            ],
            [
             0.1111111111111111,
             "#46039f"
            ],
            [
             0.2222222222222222,
             "#7201a8"
            ],
            [
             0.3333333333333333,
             "#9c179e"
            ],
            [
             0.4444444444444444,
             "#bd3786"
            ],
            [
             0.5555555555555556,
             "#d8576b"
            ],
            [
             0.6666666666666666,
             "#ed7953"
            ],
            [
             0.7777777777777778,
             "#fb9f3a"
            ],
            [
             0.8888888888888888,
             "#fdca26"
            ],
            [
             1,
             "#f0f921"
            ]
           ]
          },
          "colorway": [
           "#636efa",
           "#EF553B",
           "#00cc96",
           "#ab63fa",
           "#FFA15A",
           "#19d3f3",
           "#FF6692",
           "#B6E880",
           "#FF97FF",
           "#FECB52"
          ],
          "font": {
           "color": "#2a3f5f"
          },
          "geo": {
           "bgcolor": "white",
           "lakecolor": "white",
           "landcolor": "#E5ECF6",
           "showlakes": true,
           "showland": true,
           "subunitcolor": "white"
          },
          "hoverlabel": {
           "align": "left"
          },
          "hovermode": "closest",
          "mapbox": {
           "style": "light"
          },
          "paper_bgcolor": "white",
          "plot_bgcolor": "#E5ECF6",
          "polar": {
           "angularaxis": {
            "gridcolor": "white",
            "linecolor": "white",
            "ticks": ""
           },
           "bgcolor": "#E5ECF6",
           "radialaxis": {
            "gridcolor": "white",
            "linecolor": "white",
            "ticks": ""
           }
          },
          "scene": {
           "xaxis": {
            "backgroundcolor": "#E5ECF6",
            "gridcolor": "white",
            "gridwidth": 2,
            "linecolor": "white",
            "showbackground": true,
            "ticks": "",
            "zerolinecolor": "white"
           },
           "yaxis": {
            "backgroundcolor": "#E5ECF6",
            "gridcolor": "white",
            "gridwidth": 2,
            "linecolor": "white",
            "showbackground": true,
            "ticks": "",
            "zerolinecolor": "white"
           },
           "zaxis": {
            "backgroundcolor": "#E5ECF6",
            "gridcolor": "white",
            "gridwidth": 2,
            "linecolor": "white",
            "showbackground": true,
            "ticks": "",
            "zerolinecolor": "white"
           }
          },
          "shapedefaults": {
           "line": {
            "color": "#2a3f5f"
           }
          },
          "ternary": {
           "aaxis": {
            "gridcolor": "white",
            "linecolor": "white",
            "ticks": ""
           },
           "baxis": {
            "gridcolor": "white",
            "linecolor": "white",
            "ticks": ""
           },
           "bgcolor": "#E5ECF6",
           "caxis": {
            "gridcolor": "white",
            "linecolor": "white",
            "ticks": ""
           }
          },
          "title": {
           "x": 0.05
          },
          "xaxis": {
           "automargin": true,
           "gridcolor": "white",
           "linecolor": "white",
           "ticks": "",
           "title": {
            "standoff": 15
           },
           "zerolinecolor": "white",
           "zerolinewidth": 2
          },
          "yaxis": {
           "automargin": true,
           "gridcolor": "white",
           "linecolor": "white",
           "ticks": "",
           "title": {
            "standoff": 15
           },
           "zerolinecolor": "white",
           "zerolinewidth": 2
          }
         }
        },
        "title": {
         "text": "Revenue ($)"
        },
        "xaxis": {
         "anchor": "y",
         "domain": [
          0,
          1
         ],
         "title": {
          "text": "SETTLEMENTDATE"
         }
        },
        "yaxis": {
         "anchor": "x",
         "domain": [
          0,
          1
         ],
         "title": {
          "text": "REVENUE"
         }
        }
       }
      }
     },
     "metadata": {},
     "output_type": "display_data"
    }
   ],
   "source": [
    "\n",
    "fig = px.line(\n",
    "    neg_results,\n",
    "    x=\"SETTLEMENTDATE\",\n",
    "    y=\"REVENUE\",\n",
    "    color=\"REGIONID\",\n",
    "    title=f\"Revenue ($)\"\n",
    ")\n",
    "\n",
    "#fig.for_each_annotation(lambda a: a.update(text=a.text.split(\"=\")[-1]))\n",
    "\n",
    "fig.show()"
   ]
  },
  {
   "cell_type": "markdown",
   "id": "006e97f8-d4b6-476e-9aaa-1cd393224ecb",
   "metadata": {},
   "source": [
    "## Computation"
   ]
  },
  {
   "cell_type": "code",
   "execution_count": 52,
   "id": "c8627dd7-3550-4e2f-8dad-df0cb5ebb848",
   "metadata": {},
   "outputs": [],
   "source": [
    "figures = {}"
   ]
  },
  {
   "cell_type": "markdown",
   "id": "88669972-0c5d-4193-a84d-eb7a79a3e025",
   "metadata": {},
   "source": [
    "### Capture Price Ratio"
   ]
  },
  {
   "cell_type": "code",
   "execution_count": 28,
   "id": "f6db586e-94a1-4405-af18-7b6f09d67ce8",
   "metadata": {},
   "outputs": [],
   "source": [
    "os.makedirs(results_dir, exist_ok=True)"
   ]
  },
  {
   "cell_type": "markdown",
   "id": "e303f4c7-8119-4aef-aac6-76370659e90f",
   "metadata": {},
   "source": [
    "* dispatchload joined with static\n",
    "* concat with rooftop\n",
    "* join with prices\n",
    "* capture rate over time\n",
    "* plot"
   ]
  },
  {
   "cell_type": "code",
   "execution_count": 29,
   "id": "779b558c-a289-44f9-b559-e6ea2780131c",
   "metadata": {},
   "outputs": [],
   "source": [
    "regionid_enum = pl.Enum([\"QLD1\", \"NSW1\", \"VIC1\", \"TAS1\", \"SA1\"])\n",
    "fuel_type_enum = pl.Enum(\n",
    "    [\n",
    "        \"gas\",\n",
    "        \"coal\",\n",
    "        \"solar_rooftop\",\n",
    "        \"solar_gridscale\",\n",
    "        \"wind\",\n",
    "        \"hydro\",\n",
    "        \"distillate\",\n",
    "        \"pumps\",\n",
    "        \"battery\",\n",
    "    ]\n",
    ")"
   ]
  },
  {
   "cell_type": "code",
   "execution_count": 30,
   "id": "44f65ca1-b2f8-405e-b01e-43ef74096f64",
   "metadata": {},
   "outputs": [],
   "source": [
    "def calculate(metric):\n",
    "    return (\n",
    "        pl.concat(\n",
    "            [\n",
    "                dispatchload.rename({\"SETTLEMENTDATE\": \"INTERVAL_END\"}),\n",
    "                (rooftop.with_columns(pl.lit(\"solar_rooftop\").alias(\"FUEL_TYPE\"))),\n",
    "            ],\n",
    "            how=\"diagonal_relaxed\",\n",
    "        )\n",
    "        .with_columns((pl.col(\"POWER\") / INTERVALS_PER_H).alias(\"ENERGY_MWH\"))\n",
    "        .cast(\n",
    "            {\n",
    "                \"REGIONID\": regionid_enum,\n",
    "                \"FUEL_TYPE\": fuel_type_enum,\n",
    "            }\n",
    "        )\n",
    "        .join(\n",
    "            tradingprice.with_columns(\n",
    "                pl.col(\"SETTLEMENTDATE\").alias(\"INTERVAL_END\"),\n",
    "                pl.col(\"RRP\").alias(\"ENERGY_PRICE\"),\n",
    "            ).cast(\n",
    "                {\n",
    "                    \"REGIONID\": regionid_enum,\n",
    "                }\n",
    "            ),\n",
    "            on=[\"REGIONID\", \"INTERVAL_END\"],\n",
    "        )\n",
    "        .with_columns(\n",
    "            [\n",
    "                (pl.col(\"POWER\") * pl.col(\"RRP\") / INTERVALS_PER_H).alias(\"ENERGY_REVENUE\"),\n",
    "                (\n",
    "                    pl.sum_horizontal([pl.col(m) * pl.col(m + \"RRP\") for m in fcas_markets])\n",
    "                    / INTERVALS_PER_H\n",
    "                ).alias(\"FCAS_REVENUE\"),\n",
    "            ]\n",
    "        )\n",
    "        .with_columns(\n",
    "            (pl.col(\"ENERGY_REVENUE\") + pl.col(\"FCAS_REVENUE\")).alias(\"TOTAL_REVENUE\")\n",
    "        )\n",
    "        .with_columns(\n",
    "            pl.col(\"ENERGY_MWH\")\n",
    "            .sum()\n",
    "            .over(\"REGIONID\", \"INTERVAL_END\")\n",
    "            .alias(\"REGION_INTERVAL_MWH\"),\n",
    "            pl.col(\"TOTAL_REVENUE\")\n",
    "            .sum()\n",
    "            .over(\"REGIONID\", \"INTERVAL_END\")\n",
    "            .alias(\"REGION_INTERVAL_REVENUE\"),\n",
    "        )\n",
    "        .sort(\"INTERVAL_END\")\n",
    "        .group_by_dynamic(\n",
    "            index_column=\"INTERVAL_END\",\n",
    "            every=\"1y\",\n",
    "            label=\"left\",\n",
    "            group_by=[\"FUEL_TYPE\"],  # \"REGIONID\",\n",
    "        )\n",
    "        .agg(\n",
    "            pl.col(\"ENERGY_PRICE\").mean().alias(\"TWAP\"),\n",
    "            pl.col(\"REGION_INTERVAL_REVENUE\").sum().alias(\"REGION_REVENUE\"),\n",
    "            pl.col(\"REGION_INTERVAL_MWH\").sum().alias(\"REGION_MWH\"),\n",
    "            (pl.col(\"TOTAL_REVENUE\").sum() / pl.col(\"ENERGY_MWH\").sum()).alias(\n",
    "                \"CAPTURE_PRICE\"\n",
    "            ),\n",
    "            pl.len().alias(\"N\"),\n",
    "        )\n",
    "        .rename({\"INTERVAL_END\": \"INTERVAL_START\"})\n",
    "        .filter(\n",
    "            pl.col(\"N\") > 24 * INTERVALS_PER_H\n",
    "        )  # remove end periods with only a few samples\n",
    "        .with_columns(\n",
    "            (pl.col(\"REGION_REVENUE\") / pl.col(\"REGION_MWH\")).alias(\"REGION_GWAP\")\n",
    "        )\n",
    "        .with_columns(\n",
    "            (pl.col(\"CAPTURE_PRICE\") / pl.col(\"TWAP\")).alias(\"CAPTURE_RATIO\"),\n",
    "            (pl.col(\"CAPTURE_PRICE\") / pl.col(\"REGION_GWAP\")).alias(\"PARTICIPATION_FACTOR\"),\n",
    "        )\n",
    "        .select(\"INTERVAL_START\", \"FUEL_TYPE\", metric)\n",
    "        .sort(\"INTERVAL_START\", \"FUEL_TYPE\")  # \"REGIONID\",\n",
    "        .collect()\n",
    "    )\n"
   ]
  },
  {
   "cell_type": "code",
   "execution_count": 31,
   "id": "afe348f5-2f6f-4d36-b5f3-2349051e1c3d",
   "metadata": {},
   "outputs": [],
   "source": [
    "df_pf = calculate(\"PARTICIPATION_FACTOR\")\n",
    "df_pf.write_csv(os.path.join(results_dir, f\"results-participation-factor.csv\"))"
   ]
  },
  {
   "cell_type": "code",
   "execution_count": 32,
   "id": "10781be1-7031-46e6-bf8e-9e5ef8107cf2",
   "metadata": {},
   "outputs": [],
   "source": [
    "df_cr = calculate(\"CAPTURE_RATIO\")\n",
    "df_cr.write_csv(os.path.join(results_dir, f\"results-capture-rate.csv\"))"
   ]
  },
  {
   "cell_type": "code",
   "execution_count": 33,
   "id": "73b9f7cd-27df-47cb-9bc7-6219701369c8",
   "metadata": {},
   "outputs": [],
   "source": [
    "df_cp = calculate(\"CAPTURE_PRICE\")\n",
    "df_cp.write_csv(os.path.join(results_dir, f\"results-cp.csv\"))\n"
   ]
  },
  {
   "cell_type": "code",
   "execution_count": 34,
   "id": "c4528b35-f8f5-48db-be11-35ddbbcdcefb",
   "metadata": {},
   "outputs": [
    {
     "data": {
      "text/html": [
       "<div><style>\n",
       ".dataframe > thead > tr,\n",
       ".dataframe > tbody > tr {\n",
       "  text-align: right;\n",
       "  white-space: pre-wrap;\n",
       "}\n",
       "</style>\n",
       "<small>shape: (9, 3)</small><table border=\"1\" class=\"dataframe\"><thead><tr><th>INTERVAL_START</th><th>FUEL_TYPE</th><th>CAPTURE_PRICE</th></tr><tr><td>datetime[ms]</td><td>enum</td><td>f64</td></tr></thead><tbody><tr><td>2024-01-01 00:00:00</td><td>&quot;battery&quot;</td><td>-811.586755</td></tr><tr><td>2024-01-01 00:00:00</td><td>&quot;pumps&quot;</td><td>20.860496</td></tr><tr><td>2024-01-01 00:00:00</td><td>&quot;solar_rooftop&quot;</td><td>30.420047</td></tr><tr><td>2024-01-01 00:00:00</td><td>&quot;solar_gridscale&quot;</td><td>51.52587</td></tr><tr><td>2024-01-01 00:00:00</td><td>&quot;wind&quot;</td><td>76.824443</td></tr><tr><td>2024-01-01 00:00:00</td><td>&quot;coal&quot;</td><td>124.733011</td></tr><tr><td>2024-01-01 00:00:00</td><td>&quot;hydro&quot;</td><td>188.331801</td></tr><tr><td>2024-01-01 00:00:00</td><td>&quot;gas&quot;</td><td>260.45191</td></tr><tr><td>2024-01-01 00:00:00</td><td>&quot;distillate&quot;</td><td>1968.105304</td></tr></tbody></table></div>"
      ],
      "text/plain": [
       "shape: (9, 3)\n",
       "┌─────────────────────┬─────────────────┬───────────────┐\n",
       "│ INTERVAL_START      ┆ FUEL_TYPE       ┆ CAPTURE_PRICE │\n",
       "│ ---                 ┆ ---             ┆ ---           │\n",
       "│ datetime[ms]        ┆ enum            ┆ f64           │\n",
       "╞═════════════════════╪═════════════════╪═══════════════╡\n",
       "│ 2024-01-01 00:00:00 ┆ battery         ┆ -811.586755   │\n",
       "│ 2024-01-01 00:00:00 ┆ pumps           ┆ 20.860496     │\n",
       "│ 2024-01-01 00:00:00 ┆ solar_rooftop   ┆ 30.420047     │\n",
       "│ 2024-01-01 00:00:00 ┆ solar_gridscale ┆ 51.52587      │\n",
       "│ 2024-01-01 00:00:00 ┆ wind            ┆ 76.824443     │\n",
       "│ 2024-01-01 00:00:00 ┆ coal            ┆ 124.733011    │\n",
       "│ 2024-01-01 00:00:00 ┆ hydro           ┆ 188.331801    │\n",
       "│ 2024-01-01 00:00:00 ┆ gas             ┆ 260.45191     │\n",
       "│ 2024-01-01 00:00:00 ┆ distillate      ┆ 1968.105304   │\n",
       "└─────────────────────┴─────────────────┴───────────────┘"
      ]
     },
     "execution_count": 34,
     "metadata": {},
     "output_type": "execute_result"
    }
   ],
   "source": [
    "# \"In 2024 gridscale solar power was solar for an average of x \\$/MWh  #todo[get number], compared to y \\$/MWh for gas.\"\n",
    "(\n",
    "    df_cp\n",
    "    .filter(pl.col(\"INTERVAL_START\").dt.year() == 2024)\n",
    "    .sort(\"CAPTURE_PRICE\")\n",
    ")"
   ]
  },
  {
   "cell_type": "code",
   "execution_count": 91,
   "id": "dbc5db7f-609a-4bde-9059-b7e4cb8a6188",
   "metadata": {},
   "outputs": [
    {
     "name": "stderr",
     "output_type": "stream",
     "text": [
      "/tmp/ipykernel_4202/4249965136.py:35: DeprecationWarning:\n",
      "\n",
      "\n",
      "Support for Kaleido versions less than 1.0.0 is deprecated and will be removed after September 2025.\n",
      "Please upgrade Kaleido to version 1.0.0 or greater (`pip install 'kaleido>=1.0.0'` or `pip install 'plotly[kaleido]'`).\n",
      "\n",
      "\n"
     ]
    },
    {
     "data": {
      "application/vnd.plotly.v1+json": {
       "config": {
        "plotlyServerURL": "https://plot.ly"
       },
       "data": [
        {
         "hovertemplate": "Fuel Type=gas<br>Time=%{x}<br>Participation Factor=%{y}<extra></extra>",
         "legendgroup": "gas",
         "line": {
          "color": "black",
          "dash": "solid"
         },
         "marker": {
          "symbol": "circle"
         },
         "mode": "lines",
         "name": "gas",
         "orientation": "v",
         "showlegend": true,
         "type": "scatter",
         "x": [
          "2013-01-01T00:00:00.000",
          "2014-01-01T00:00:00.000",
          "2015-01-01T00:00:00.000",
          "2016-01-01T00:00:00.000",
          "2017-01-01T00:00:00.000",
          "2018-01-01T00:00:00.000",
          "2019-01-01T00:00:00.000",
          "2020-01-01T00:00:00.000",
          "2021-01-01T00:00:00.000",
          "2022-01-01T00:00:00.000",
          "2023-01-01T00:00:00.000",
          "2024-01-01T00:00:00.000"
         ],
         "xaxis": "x",
         "y": {
          "bdata": "P8lz2afc9D8l1fahqMXyP3ls0OAB1/U/i+uFo9k3+j/A11cKR2H0P3XV6ieeVPU/IUwNG/dU9z/klWz510b3P63egF6xXQBA7Uz5HE7r+z8UFVPYooUBQJAagZyklQJA",
          "dtype": "f8"
         },
         "yaxis": "y"
        },
        {
         "hovertemplate": "Fuel Type=coal<br>Time=%{x}<br>Participation Factor=%{y}<extra></extra>",
         "legendgroup": "coal",
         "line": {
          "color": "brown",
          "dash": "solid"
         },
         "marker": {
          "symbol": "circle"
         },
         "mode": "lines",
         "name": "coal",
         "orientation": "v",
         "showlegend": true,
         "type": "scatter",
         "x": [
          "2013-01-01T00:00:00.000",
          "2014-01-01T00:00:00.000",
          "2015-01-01T00:00:00.000",
          "2016-01-01T00:00:00.000",
          "2017-01-01T00:00:00.000",
          "2018-01-01T00:00:00.000",
          "2019-01-01T00:00:00.000",
          "2020-01-01T00:00:00.000",
          "2021-01-01T00:00:00.000",
          "2022-01-01T00:00:00.000",
          "2023-01-01T00:00:00.000",
          "2024-01-01T00:00:00.000"
         ],
         "xaxis": "x",
         "y": {
          "bdata": "kUQaO5PR7j+d0SKMpBrvP6tQdq1Mpe4/r0liEUdJ7z9h73lio7PuP66FoOIxJ+8/8SL7TQC67j+yfqsD1+TuPzq26lJ7TPA/mchKuvHK8D9L5ZWjwwPyP4ZTP6qtlvE/",
          "dtype": "f8"
         },
         "yaxis": "y"
        },
        {
         "hovertemplate": "Fuel Type=wind<br>Time=%{x}<br>Participation Factor=%{y}<extra></extra>",
         "legendgroup": "wind",
         "line": {
          "color": "green",
          "dash": "solid"
         },
         "marker": {
          "symbol": "circle"
         },
         "mode": "lines",
         "name": "wind",
         "orientation": "v",
         "showlegend": true,
         "type": "scatter",
         "x": [
          "2013-01-01T00:00:00.000",
          "2014-01-01T00:00:00.000",
          "2015-01-01T00:00:00.000",
          "2016-01-01T00:00:00.000",
          "2017-01-01T00:00:00.000",
          "2018-01-01T00:00:00.000",
          "2019-01-01T00:00:00.000",
          "2020-01-01T00:00:00.000",
          "2021-01-01T00:00:00.000",
          "2022-01-01T00:00:00.000",
          "2023-01-01T00:00:00.000",
          "2024-01-01T00:00:00.000"
         ],
         "xaxis": "x",
         "y": {
          "bdata": "sfCPTafG7T8h5yni/iDsP9dD8H6M5uw/AWfZL1pD7D/Y3f49ry3rP5YvarMf4us/rsyh9/o76z8QD6CWwADnPzIG8g9hTeM/FKOZ4eDS5z8yunCcIcPlP5/1iJRf7eU/",
          "dtype": "f8"
         },
         "yaxis": "y"
        },
        {
         "hovertemplate": "Fuel Type=solar_gridscale<br>Time=%{x}<br>Participation Factor=%{y}<extra></extra>",
         "legendgroup": "solar_gridscale",
         "line": {
          "color": "orange",
          "dash": "solid"
         },
         "marker": {
          "symbol": "circle"
         },
         "mode": "lines",
         "name": "solar_gridscale",
         "orientation": "v",
         "showlegend": true,
         "type": "scatter",
         "x": [
          "2014-01-01T00:00:00.000",
          "2015-01-01T00:00:00.000",
          "2016-01-01T00:00:00.000",
          "2017-01-01T00:00:00.000",
          "2018-01-01T00:00:00.000",
          "2019-01-01T00:00:00.000",
          "2020-01-01T00:00:00.000",
          "2021-01-01T00:00:00.000",
          "2022-01-01T00:00:00.000",
          "2023-01-01T00:00:00.000",
          "2024-01-01T00:00:00.000"
         ],
         "xaxis": "x",
         "y": {
          "bdata": "AAAAAAAA+P9hNTnWC7HwP60AIemhiu8/FPIrUPW98D+mRJRemwvvP1vRu4q1gek/IKl7a26E6T8YcfLU3dXhP1PNqIfb7OE/XelfWgZR3z9I+rJbbWndPw==",
          "dtype": "f8"
         },
         "yaxis": "y"
        },
        {
         "hovertemplate": "Fuel Type=solar_rooftop<br>Time=%{x}<br>Participation Factor=%{y}<extra></extra>",
         "legendgroup": "solar_rooftop",
         "line": {
          "color": "yellow",
          "dash": "solid"
         },
         "marker": {
          "symbol": "circle"
         },
         "mode": "lines",
         "name": "solar_rooftop",
         "orientation": "v",
         "showlegend": true,
         "type": "scatter",
         "x": [
          "2016-01-01T00:00:00.000",
          "2017-01-01T00:00:00.000",
          "2018-01-01T00:00:00.000",
          "2019-01-01T00:00:00.000",
          "2020-01-01T00:00:00.000",
          "2021-01-01T00:00:00.000",
          "2022-01-01T00:00:00.000",
          "2023-01-01T00:00:00.000",
          "2024-01-01T00:00:00.000"
         ],
         "xaxis": "x",
         "y": {
          "bdata": "f/4EH/Dq8D/Sx73UsiHwPxc+FiCgee8/eIzU0Npm6j/JleVZTzDoP6CQ+G8rkdk/5BJsxVrK2z8gshnxXQfRP8W4G+ujY9E/",
          "dtype": "f8"
         },
         "yaxis": "y"
        }
       ],
       "layout": {
        "height": 300,
        "legend": {
         "title": {
          "text": "Fuel Type"
         },
         "tracegroupgap": 0
        },
        "margin": {
         "b": 20,
         "l": 20,
         "r": 20,
         "t": 20
        },
        "template": {
         "data": {
          "bar": [
           {
            "error_x": {
             "color": "#2a3f5f"
            },
            "error_y": {
             "color": "#2a3f5f"
            },
            "marker": {
             "line": {
              "color": "#E5ECF6",
              "width": 0.5
             },
             "pattern": {
              "fillmode": "overlay",
              "size": 10,
              "solidity": 0.2
             }
            },
            "type": "bar"
           }
          ],
          "barpolar": [
           {
            "marker": {
             "line": {
              "color": "#E5ECF6",
              "width": 0.5
             },
             "pattern": {
              "fillmode": "overlay",
              "size": 10,
              "solidity": 0.2
             }
            },
            "type": "barpolar"
           }
          ],
          "carpet": [
           {
            "aaxis": {
             "endlinecolor": "#2a3f5f",
             "gridcolor": "white",
             "linecolor": "white",
             "minorgridcolor": "white",
             "startlinecolor": "#2a3f5f"
            },
            "baxis": {
             "endlinecolor": "#2a3f5f",
             "gridcolor": "white",
             "linecolor": "white",
             "minorgridcolor": "white",
             "startlinecolor": "#2a3f5f"
            },
            "type": "carpet"
           }
          ],
          "choropleth": [
           {
            "colorbar": {
             "outlinewidth": 0,
             "ticks": ""
            },
            "type": "choropleth"
           }
          ],
          "contour": [
           {
            "colorbar": {
             "outlinewidth": 0,
             "ticks": ""
            },
            "colorscale": [
             [
              0,
              "#0d0887"
             ],
             [
              0.1111111111111111,
              "#46039f"
             ],
             [
              0.2222222222222222,
              "#7201a8"
             ],
             [
              0.3333333333333333,
              "#9c179e"
             ],
             [
              0.4444444444444444,
              "#bd3786"
             ],
             [
              0.5555555555555556,
              "#d8576b"
             ],
             [
              0.6666666666666666,
              "#ed7953"
             ],
             [
              0.7777777777777778,
              "#fb9f3a"
             ],
             [
              0.8888888888888888,
              "#fdca26"
             ],
             [
              1,
              "#f0f921"
             ]
            ],
            "type": "contour"
           }
          ],
          "contourcarpet": [
           {
            "colorbar": {
             "outlinewidth": 0,
             "ticks": ""
            },
            "type": "contourcarpet"
           }
          ],
          "heatmap": [
           {
            "colorbar": {
             "outlinewidth": 0,
             "ticks": ""
            },
            "colorscale": [
             [
              0,
              "#0d0887"
             ],
             [
              0.1111111111111111,
              "#46039f"
             ],
             [
              0.2222222222222222,
              "#7201a8"
             ],
             [
              0.3333333333333333,
              "#9c179e"
             ],
             [
              0.4444444444444444,
              "#bd3786"
             ],
             [
              0.5555555555555556,
              "#d8576b"
             ],
             [
              0.6666666666666666,
              "#ed7953"
             ],
             [
              0.7777777777777778,
              "#fb9f3a"
             ],
             [
              0.8888888888888888,
              "#fdca26"
             ],
             [
              1,
              "#f0f921"
             ]
            ],
            "type": "heatmap"
           }
          ],
          "histogram": [
           {
            "marker": {
             "pattern": {
              "fillmode": "overlay",
              "size": 10,
              "solidity": 0.2
             }
            },
            "type": "histogram"
           }
          ],
          "histogram2d": [
           {
            "colorbar": {
             "outlinewidth": 0,
             "ticks": ""
            },
            "colorscale": [
             [
              0,
              "#0d0887"
             ],
             [
              0.1111111111111111,
              "#46039f"
             ],
             [
              0.2222222222222222,
              "#7201a8"
             ],
             [
              0.3333333333333333,
              "#9c179e"
             ],
             [
              0.4444444444444444,
              "#bd3786"
             ],
             [
              0.5555555555555556,
              "#d8576b"
             ],
             [
              0.6666666666666666,
              "#ed7953"
             ],
             [
              0.7777777777777778,
              "#fb9f3a"
             ],
             [
              0.8888888888888888,
              "#fdca26"
             ],
             [
              1,
              "#f0f921"
             ]
            ],
            "type": "histogram2d"
           }
          ],
          "histogram2dcontour": [
           {
            "colorbar": {
             "outlinewidth": 0,
             "ticks": ""
            },
            "colorscale": [
             [
              0,
              "#0d0887"
             ],
             [
              0.1111111111111111,
              "#46039f"
             ],
             [
              0.2222222222222222,
              "#7201a8"
             ],
             [
              0.3333333333333333,
              "#9c179e"
             ],
             [
              0.4444444444444444,
              "#bd3786"
             ],
             [
              0.5555555555555556,
              "#d8576b"
             ],
             [
              0.6666666666666666,
              "#ed7953"
             ],
             [
              0.7777777777777778,
              "#fb9f3a"
             ],
             [
              0.8888888888888888,
              "#fdca26"
             ],
             [
              1,
              "#f0f921"
             ]
            ],
            "type": "histogram2dcontour"
           }
          ],
          "mesh3d": [
           {
            "colorbar": {
             "outlinewidth": 0,
             "ticks": ""
            },
            "type": "mesh3d"
           }
          ],
          "parcoords": [
           {
            "line": {
             "colorbar": {
              "outlinewidth": 0,
              "ticks": ""
             }
            },
            "type": "parcoords"
           }
          ],
          "pie": [
           {
            "automargin": true,
            "type": "pie"
           }
          ],
          "scatter": [
           {
            "fillpattern": {
             "fillmode": "overlay",
             "size": 10,
             "solidity": 0.2
            },
            "type": "scatter"
           }
          ],
          "scatter3d": [
           {
            "line": {
             "colorbar": {
              "outlinewidth": 0,
              "ticks": ""
             }
            },
            "marker": {
             "colorbar": {
              "outlinewidth": 0,
              "ticks": ""
             }
            },
            "type": "scatter3d"
           }
          ],
          "scattercarpet": [
           {
            "marker": {
             "colorbar": {
              "outlinewidth": 0,
              "ticks": ""
             }
            },
            "type": "scattercarpet"
           }
          ],
          "scattergeo": [
           {
            "marker": {
             "colorbar": {
              "outlinewidth": 0,
              "ticks": ""
             }
            },
            "type": "scattergeo"
           }
          ],
          "scattergl": [
           {
            "marker": {
             "colorbar": {
              "outlinewidth": 0,
              "ticks": ""
             }
            },
            "type": "scattergl"
           }
          ],
          "scattermap": [
           {
            "marker": {
             "colorbar": {
              "outlinewidth": 0,
              "ticks": ""
             }
            },
            "type": "scattermap"
           }
          ],
          "scattermapbox": [
           {
            "marker": {
             "colorbar": {
              "outlinewidth": 0,
              "ticks": ""
             }
            },
            "type": "scattermapbox"
           }
          ],
          "scatterpolar": [
           {
            "marker": {
             "colorbar": {
              "outlinewidth": 0,
              "ticks": ""
             }
            },
            "type": "scatterpolar"
           }
          ],
          "scatterpolargl": [
           {
            "marker": {
             "colorbar": {
              "outlinewidth": 0,
              "ticks": ""
             }
            },
            "type": "scatterpolargl"
           }
          ],
          "scatterternary": [
           {
            "marker": {
             "colorbar": {
              "outlinewidth": 0,
              "ticks": ""
             }
            },
            "type": "scatterternary"
           }
          ],
          "surface": [
           {
            "colorbar": {
             "outlinewidth": 0,
             "ticks": ""
            },
            "colorscale": [
             [
              0,
              "#0d0887"
             ],
             [
              0.1111111111111111,
              "#46039f"
             ],
             [
              0.2222222222222222,
              "#7201a8"
             ],
             [
              0.3333333333333333,
              "#9c179e"
             ],
             [
              0.4444444444444444,
              "#bd3786"
             ],
             [
              0.5555555555555556,
              "#d8576b"
             ],
             [
              0.6666666666666666,
              "#ed7953"
             ],
             [
              0.7777777777777778,
              "#fb9f3a"
             ],
             [
              0.8888888888888888,
              "#fdca26"
             ],
             [
              1,
              "#f0f921"
             ]
            ],
            "type": "surface"
           }
          ],
          "table": [
           {
            "cells": {
             "fill": {
              "color": "#EBF0F8"
             },
             "line": {
              "color": "white"
             }
            },
            "header": {
             "fill": {
              "color": "#C8D4E3"
             },
             "line": {
              "color": "white"
             }
            },
            "type": "table"
           }
          ]
         },
         "layout": {
          "annotationdefaults": {
           "arrowcolor": "#2a3f5f",
           "arrowhead": 0,
           "arrowwidth": 1
          },
          "autotypenumbers": "strict",
          "coloraxis": {
           "colorbar": {
            "outlinewidth": 0,
            "ticks": ""
           }
          },
          "colorscale": {
           "diverging": [
            [
             0,
             "#8e0152"
            ],
            [
             0.1,
             "#c51b7d"
            ],
            [
             0.2,
             "#de77ae"
            ],
            [
             0.3,
             "#f1b6da"
            ],
            [
             0.4,
             "#fde0ef"
            ],
            [
             0.5,
             "#f7f7f7"
            ],
            [
             0.6,
             "#e6f5d0"
            ],
            [
             0.7,
             "#b8e186"
            ],
            [
             0.8,
             "#7fbc41"
            ],
            [
             0.9,
             "#4d9221"
            ],
            [
             1,
             "#276419"
            ]
           ],
           "sequential": [
            [
             0,
             "#0d0887"
            ],
            [
             0.1111111111111111,
             "#46039f"
            ],
            [
             0.2222222222222222,
             "#7201a8"
            ],
            [
             0.3333333333333333,
             "#9c179e"
            ],
            [
             0.4444444444444444,
             "#bd3786"
            ],
            [
             0.5555555555555556,
             "#d8576b"
            ],
            [
             0.6666666666666666,
             "#ed7953"
            ],
            [
             0.7777777777777778,
             "#fb9f3a"
            ],
            [
             0.8888888888888888,
             "#fdca26"
            ],
            [
             1,
             "#f0f921"
            ]
           ],
           "sequentialminus": [
            [
             0,
             "#0d0887"
            ],
            [
             0.1111111111111111,
             "#46039f"
            ],
            [
             0.2222222222222222,
             "#7201a8"
            ],
            [
             0.3333333333333333,
             "#9c179e"
            ],
            [
             0.4444444444444444,
             "#bd3786"
            ],
            [
             0.5555555555555556,
             "#d8576b"
            ],
            [
             0.6666666666666666,
             "#ed7953"
            ],
            [
             0.7777777777777778,
             "#fb9f3a"
            ],
            [
             0.8888888888888888,
             "#fdca26"
            ],
            [
             1,
             "#f0f921"
            ]
           ]
          },
          "colorway": [
           "#636efa",
           "#EF553B",
           "#00cc96",
           "#ab63fa",
           "#FFA15A",
           "#19d3f3",
           "#FF6692",
           "#B6E880",
           "#FF97FF",
           "#FECB52"
          ],
          "font": {
           "color": "#2a3f5f"
          },
          "geo": {
           "bgcolor": "white",
           "lakecolor": "white",
           "landcolor": "#E5ECF6",
           "showlakes": true,
           "showland": true,
           "subunitcolor": "white"
          },
          "hoverlabel": {
           "align": "left"
          },
          "hovermode": "closest",
          "mapbox": {
           "style": "light"
          },
          "paper_bgcolor": "white",
          "plot_bgcolor": "#E5ECF6",
          "polar": {
           "angularaxis": {
            "gridcolor": "white",
            "linecolor": "white",
            "ticks": ""
           },
           "bgcolor": "#E5ECF6",
           "radialaxis": {
            "gridcolor": "white",
            "linecolor": "white",
            "ticks": ""
           }
          },
          "scene": {
           "xaxis": {
            "backgroundcolor": "#E5ECF6",
            "gridcolor": "white",
            "gridwidth": 2,
            "linecolor": "white",
            "showbackground": true,
            "ticks": "",
            "zerolinecolor": "white"
           },
           "yaxis": {
            "backgroundcolor": "#E5ECF6",
            "gridcolor": "white",
            "gridwidth": 2,
            "linecolor": "white",
            "showbackground": true,
            "ticks": "",
            "zerolinecolor": "white"
           },
           "zaxis": {
            "backgroundcolor": "#E5ECF6",
            "gridcolor": "white",
            "gridwidth": 2,
            "linecolor": "white",
            "showbackground": true,
            "ticks": "",
            "zerolinecolor": "white"
           }
          },
          "shapedefaults": {
           "line": {
            "color": "#2a3f5f"
           }
          },
          "ternary": {
           "aaxis": {
            "gridcolor": "white",
            "linecolor": "white",
            "ticks": ""
           },
           "baxis": {
            "gridcolor": "white",
            "linecolor": "white",
            "ticks": ""
           },
           "bgcolor": "#E5ECF6",
           "caxis": {
            "gridcolor": "white",
            "linecolor": "white",
            "ticks": ""
           }
          },
          "title": {
           "x": 0.05
          },
          "xaxis": {
           "automargin": true,
           "gridcolor": "white",
           "linecolor": "white",
           "ticks": "",
           "title": {
            "standoff": 15
           },
           "zerolinecolor": "white",
           "zerolinewidth": 2
          },
          "yaxis": {
           "automargin": true,
           "gridcolor": "white",
           "linecolor": "white",
           "ticks": "",
           "title": {
            "standoff": 15
           },
           "zerolinecolor": "white",
           "zerolinewidth": 2
          }
         }
        },
        "width": 600,
        "xaxis": {
         "anchor": "y",
         "domain": [
          0,
          1
         ],
         "title": {
          "text": "Time"
         }
        },
        "yaxis": {
         "anchor": "x",
         "domain": [
          0,
          1
         ],
         "title": {
          "text": "Participation Factor"
         }
        }
       }
      },
      "image/png": "[encoded data removed]"
     },
     "metadata": {},
     "output_type": "display_data"
    },
    {
     "name": "stderr",
     "output_type": "stream",
     "text": [
      "/tmp/ipykernel_4202/4249965136.py:35: DeprecationWarning:\n",
      "\n",
      "\n",
      "Support for Kaleido versions less than 1.0.0 is deprecated and will be removed after September 2025.\n",
      "Please upgrade Kaleido to version 1.0.0 or greater (`pip install 'kaleido>=1.0.0'` or `pip install 'plotly[kaleido]'`).\n",
      "\n",
      "\n"
     ]
    },
    {
     "data": {
      "application/vnd.plotly.v1+json": {
       "config": {
        "plotlyServerURL": "https://plot.ly"
       },
       "data": [
        {
         "hovertemplate": "Fuel Type=gas<br>Time=%{x}<br>Capture Price Ratio=%{y}<extra></extra>",
         "legendgroup": "gas",
         "line": {
          "color": "black",
          "dash": "solid"
         },
         "marker": {
          "symbol": "circle"
         },
         "mode": "lines",
         "name": "gas",
         "orientation": "v",
         "showlegend": true,
         "type": "scatter",
         "x": [
          "2013-01-01T00:00:00.000",
          "2014-01-01T00:00:00.000",
          "2015-01-01T00:00:00.000",
          "2016-01-01T00:00:00.000",
          "2017-01-01T00:00:00.000",
          "2018-01-01T00:00:00.000",
          "2019-01-01T00:00:00.000",
          "2020-01-01T00:00:00.000",
          "2021-01-01T00:00:00.000",
          "2022-01-01T00:00:00.000",
          "2023-01-01T00:00:00.000",
          "2024-01-01T00:00:00.000"
         ],
         "xaxis": "x",
         "y": {
          "bdata": "jUDcFdYV9j8mMq+Atf/zP5XKpgOMiPY/jyW5Bl5V+D/1PvdYLoj1P4oXdEfZvfU/JhmHAvrH9z+aMSBayuD6P/6ENxARXgRAAz83+vqC/z8a2tyC6u8CQMYnp73MEQRA",
          "dtype": "f8"
         },
         "yaxis": "y"
        },
        {
         "hovertemplate": "Fuel Type=coal<br>Time=%{x}<br>Capture Price Ratio=%{y}<extra></extra>",
         "legendgroup": "coal",
         "line": {
          "color": "brown",
          "dash": "solid"
         },
         "marker": {
          "symbol": "circle"
         },
         "mode": "lines",
         "name": "coal",
         "orientation": "v",
         "showlegend": true,
         "type": "scatter",
         "x": [
          "2013-01-01T00:00:00.000",
          "2014-01-01T00:00:00.000",
          "2015-01-01T00:00:00.000",
          "2016-01-01T00:00:00.000",
          "2017-01-01T00:00:00.000",
          "2018-01-01T00:00:00.000",
          "2019-01-01T00:00:00.000",
          "2020-01-01T00:00:00.000",
          "2021-01-01T00:00:00.000",
          "2022-01-01T00:00:00.000",
          "2023-01-01T00:00:00.000",
          "2024-01-01T00:00:00.000"
         ],
         "xaxis": "x",
         "y": {
          "bdata": "XlL6gPF/8D9OLURi53LwPyS66qxxqPA/Wb3iSYCo8D9GeHkPAXfwP2jpWTwgFvA/q/U9A13d7z/xQzzgoiXxP/mk55HYFvI/HV854Lcl8j+o2U1bG7TyP94DD4pjkvI/",
          "dtype": "f8"
         },
         "yaxis": "y"
        },
        {
         "hovertemplate": "Fuel Type=wind<br>Time=%{x}<br>Capture Price Ratio=%{y}<extra></extra>",
         "legendgroup": "wind",
         "line": {
          "color": "green",
          "dash": "solid"
         },
         "marker": {
          "symbol": "circle"
         },
         "mode": "lines",
         "name": "wind",
         "orientation": "v",
         "showlegend": true,
         "type": "scatter",
         "x": [
          "2013-01-01T00:00:00.000",
          "2014-01-01T00:00:00.000",
          "2015-01-01T00:00:00.000",
          "2016-01-01T00:00:00.000",
          "2017-01-01T00:00:00.000",
          "2018-01-01T00:00:00.000",
          "2019-01-01T00:00:00.000",
          "2020-01-01T00:00:00.000",
          "2021-01-01T00:00:00.000",
          "2022-01-01T00:00:00.000",
          "2023-01-01T00:00:00.000",
          "2024-01-01T00:00:00.000"
         ],
         "xaxis": "x",
         "y": {
          "bdata": "0O+Oou/q7z8F+lagRe3sP73PMwO+n+s/gYf7/Db06D/Iuuuo4zPsP0YwM1hW6Ow/C9C8YDrC6z9NHzLI2o/qPxfghAaKBeg/8YMI5KXj6j/aklymFIXnP+2QuL7orec/",
          "dtype": "f8"
         },
         "yaxis": "y"
        },
        {
         "hovertemplate": "Fuel Type=solar_gridscale<br>Time=%{x}<br>Capture Price Ratio=%{y}<extra></extra>",
         "legendgroup": "solar_gridscale",
         "line": {
          "color": "orange",
          "dash": "solid"
         },
         "marker": {
          "symbol": "circle"
         },
         "mode": "lines",
         "name": "solar_gridscale",
         "orientation": "v",
         "showlegend": true,
         "type": "scatter",
         "x": [
          "2014-01-01T00:00:00.000",
          "2015-01-01T00:00:00.000",
          "2016-01-01T00:00:00.000",
          "2017-01-01T00:00:00.000",
          "2018-01-01T00:00:00.000",
          "2019-01-01T00:00:00.000",
          "2020-01-01T00:00:00.000",
          "2021-01-01T00:00:00.000",
          "2022-01-01T00:00:00.000",
          "2023-01-01T00:00:00.000",
          "2024-01-01T00:00:00.000"
         ],
         "xaxis": "x",
         "y": {
          "bdata": "AAAAAAAA+P+eHXGG/ubxP17dpaCojfA/9bwmpe8H8j829lx/hhnvP0IUONmNIOo/m1RGCTQS7T9a4L76b6bkP45Zw49QoOM/H2mXMCYY4D8dszSWcDbfPw==",
          "dtype": "f8"
         },
         "yaxis": "y"
        },
        {
         "hovertemplate": "Fuel Type=solar_rooftop<br>Time=%{x}<br>Capture Price Ratio=%{y}<extra></extra>",
         "legendgroup": "solar_rooftop",
         "line": {
          "color": "yellow",
          "dash": "solid"
         },
         "marker": {
          "symbol": "circle"
         },
         "mode": "lines",
         "name": "solar_rooftop",
         "orientation": "v",
         "showlegend": true,
         "type": "scatter",
         "x": [
          "2016-01-01T00:00:00.000",
          "2017-01-01T00:00:00.000",
          "2018-01-01T00:00:00.000",
          "2019-01-01T00:00:00.000",
          "2020-01-01T00:00:00.000",
          "2021-01-01T00:00:00.000",
          "2022-01-01T00:00:00.000",
          "2023-01-01T00:00:00.000",
          "2024-01-01T00:00:00.000"
         ],
         "xaxis": "x",
         "y": {
          "bdata": "kZfR1V+Y8T9UcHiZIAvxPzY2MZhzCvA/qHY7p//o6j8/M9zhYO7rP83liEJ00d8/88wHOcpd3z9X87vSeWfSP6nAo4DtstI/",
          "dtype": "f8"
         },
         "yaxis": "y"
        }
       ],
       "layout": {
        "height": 300,
        "legend": {
         "title": {
          "text": "Fuel Type"
         },
         "tracegroupgap": 0
        },
        "margin": {
         "b": 20,
         "l": 20,
         "r": 20,
         "t": 20
        },
        "template": {
         "data": {
          "bar": [
           {
            "error_x": {
             "color": "#2a3f5f"
            },
            "error_y": {
             "color": "#2a3f5f"
            },
            "marker": {
             "line": {
              "color": "#E5ECF6",
              "width": 0.5
             },
             "pattern": {
              "fillmode": "overlay",
              "size": 10,
              "solidity": 0.2
             }
            },
            "type": "bar"
           }
          ],
          "barpolar": [
           {
            "marker": {
             "line": {
              "color": "#E5ECF6",
              "width": 0.5
             },
             "pattern": {
              "fillmode": "overlay",
              "size": 10,
              "solidity": 0.2
             }
            },
            "type": "barpolar"
           }
          ],
          "carpet": [
           {
            "aaxis": {
             "endlinecolor": "#2a3f5f",
             "gridcolor": "white",
             "linecolor": "white",
             "minorgridcolor": "white",
             "startlinecolor": "#2a3f5f"
            },
            "baxis": {
             "endlinecolor": "#2a3f5f",
             "gridcolor": "white",
             "linecolor": "white",
             "minorgridcolor": "white",
             "startlinecolor": "#2a3f5f"
            },
            "type": "carpet"
           }
          ],
          "choropleth": [
           {
            "colorbar": {
             "outlinewidth": 0,
             "ticks": ""
            },
            "type": "choropleth"
           }
          ],
          "contour": [
           {
            "colorbar": {
             "outlinewidth": 0,
             "ticks": ""
            },
            "colorscale": [
             [
              0,
              "#0d0887"
             ],
             [
              0.1111111111111111,
              "#46039f"
             ],
             [
              0.2222222222222222,
              "#7201a8"
             ],
             [
              0.3333333333333333,
              "#9c179e"
             ],
             [
              0.4444444444444444,
              "#bd3786"
             ],
             [
              0.5555555555555556,
              "#d8576b"
             ],
             [
              0.6666666666666666,
              "#ed7953"
             ],
             [
              0.7777777777777778,
              "#fb9f3a"
             ],
             [
              0.8888888888888888,
              "#fdca26"
             ],
             [
              1,
              "#f0f921"
             ]
            ],
            "type": "contour"
           }
          ],
          "contourcarpet": [
           {
            "colorbar": {
             "outlinewidth": 0,
             "ticks": ""
            },
            "type": "contourcarpet"
           }
          ],
          "heatmap": [
           {
            "colorbar": {
             "outlinewidth": 0,
             "ticks": ""
            },
            "colorscale": [
             [
              0,
              "#0d0887"
             ],
             [
              0.1111111111111111,
              "#46039f"
             ],
             [
              0.2222222222222222,
              "#7201a8"
             ],
             [
              0.3333333333333333,
              "#9c179e"
             ],
             [
              0.4444444444444444,
              "#bd3786"
             ],
             [
              0.5555555555555556,
              "#d8576b"
             ],
             [
              0.6666666666666666,
              "#ed7953"
             ],
             [
              0.7777777777777778,
              "#fb9f3a"
             ],
             [
              0.8888888888888888,
              "#fdca26"
             ],
             [
              1,
              "#f0f921"
             ]
            ],
            "type": "heatmap"
           }
          ],
          "histogram": [
           {
            "marker": {
             "pattern": {
              "fillmode": "overlay",
              "size": 10,
              "solidity": 0.2
             }
            },
            "type": "histogram"
           }
          ],
          "histogram2d": [
           {
            "colorbar": {
             "outlinewidth": 0,
             "ticks": ""
            },
            "colorscale": [
             [
              0,
              "#0d0887"
             ],
             [
              0.1111111111111111,
              "#46039f"
             ],
             [
              0.2222222222222222,
              "#7201a8"
             ],
             [
              0.3333333333333333,
              "#9c179e"
             ],
             [
              0.4444444444444444,
              "#bd3786"
             ],
             [
              0.5555555555555556,
              "#d8576b"
             ],
             [
              0.6666666666666666,
              "#ed7953"
             ],
             [
              0.7777777777777778,
              "#fb9f3a"
             ],
             [
              0.8888888888888888,
              "#fdca26"
             ],
             [
              1,
              "#f0f921"
             ]
            ],
            "type": "histogram2d"
           }
          ],
          "histogram2dcontour": [
           {
            "colorbar": {
             "outlinewidth": 0,
             "ticks": ""
            },
            "colorscale": [
             [
              0,
              "#0d0887"
             ],
             [
              0.1111111111111111,
              "#46039f"
             ],
             [
              0.2222222222222222,
              "#7201a8"
             ],
             [
              0.3333333333333333,
              "#9c179e"
             ],
             [
              0.4444444444444444,
              "#bd3786"
             ],
             [
              0.5555555555555556,
              "#d8576b"
             ],
             [
              0.6666666666666666,
              "#ed7953"
             ],
             [
              0.7777777777777778,
              "#fb9f3a"
             ],
             [
              0.8888888888888888,
              "#fdca26"
             ],
             [
              1,
              "#f0f921"
             ]
            ],
            "type": "histogram2dcontour"
           }
          ],
          "mesh3d": [
           {
            "colorbar": {
             "outlinewidth": 0,
             "ticks": ""
            },
            "type": "mesh3d"
           }
          ],
          "parcoords": [
           {
            "line": {
             "colorbar": {
              "outlinewidth": 0,
              "ticks": ""
             }
            },
            "type": "parcoords"
           }
          ],
          "pie": [
           {
            "automargin": true,
            "type": "pie"
           }
          ],
          "scatter": [
           {
            "fillpattern": {
             "fillmode": "overlay",
             "size": 10,
             "solidity": 0.2
            },
            "type": "scatter"
           }
          ],
          "scatter3d": [
           {
            "line": {
             "colorbar": {
              "outlinewidth": 0,
              "ticks": ""
             }
            },
            "marker": {
             "colorbar": {
              "outlinewidth": 0,
              "ticks": ""
             }
            },
            "type": "scatter3d"
           }
          ],
          "scattercarpet": [
           {
            "marker": {
             "colorbar": {
              "outlinewidth": 0,
              "ticks": ""
             }
            },
            "type": "scattercarpet"
           }
          ],
          "scattergeo": [
           {
            "marker": {
             "colorbar": {
              "outlinewidth": 0,
              "ticks": ""
             }
            },
            "type": "scattergeo"
           }
          ],
          "scattergl": [
           {
            "marker": {
             "colorbar": {
              "outlinewidth": 0,
              "ticks": ""
             }
            },
            "type": "scattergl"
           }
          ],
          "scattermap": [
           {
            "marker": {
             "colorbar": {
              "outlinewidth": 0,
              "ticks": ""
             }
            },
            "type": "scattermap"
           }
          ],
          "scattermapbox": [
           {
            "marker": {
             "colorbar": {
              "outlinewidth": 0,
              "ticks": ""
             }
            },
            "type": "scattermapbox"
           }
          ],
          "scatterpolar": [
           {
            "marker": {
             "colorbar": {
              "outlinewidth": 0,
              "ticks": ""
             }
            },
            "type": "scatterpolar"
           }
          ],
          "scatterpolargl": [
           {
            "marker": {
             "colorbar": {
              "outlinewidth": 0,
              "ticks": ""
             }
            },
            "type": "scatterpolargl"
           }
          ],
          "scatterternary": [
           {
            "marker": {
             "colorbar": {
              "outlinewidth": 0,
              "ticks": ""
             }
            },
            "type": "scatterternary"
           }
          ],
          "surface": [
           {
            "colorbar": {
             "outlinewidth": 0,
             "ticks": ""
            },
            "colorscale": [
             [
              0,
              "#0d0887"
             ],
             [
              0.1111111111111111,
              "#46039f"
             ],
             [
              0.2222222222222222,
              "#7201a8"
             ],
             [
              0.3333333333333333,
              "#9c179e"
             ],
             [
              0.4444444444444444,
              "#bd3786"
             ],
             [
              0.5555555555555556,
              "#d8576b"
             ],
             [
              0.6666666666666666,
              "#ed7953"
             ],
             [
              0.7777777777777778,
              "#fb9f3a"
             ],
             [
              0.8888888888888888,
              "#fdca26"
             ],
             [
              1,
              "#f0f921"
             ]
            ],
            "type": "surface"
           }
          ],
          "table": [
           {
            "cells": {
             "fill": {
              "color": "#EBF0F8"
             },
             "line": {
              "color": "white"
             }
            },
            "header": {
             "fill": {
              "color": "#C8D4E3"
             },
             "line": {
              "color": "white"
             }
            },
            "type": "table"
           }
          ]
         },
         "layout": {
          "annotationdefaults": {
           "arrowcolor": "#2a3f5f",
           "arrowhead": 0,
           "arrowwidth": 1
          },
          "autotypenumbers": "strict",
          "coloraxis": {
           "colorbar": {
            "outlinewidth": 0,
            "ticks": ""
           }
          },
          "colorscale": {
           "diverging": [
            [
             0,
             "#8e0152"
            ],
            [
             0.1,
             "#c51b7d"
            ],
            [
             0.2,
             "#de77ae"
            ],
            [
             0.3,
             "#f1b6da"
            ],
            [
             0.4,
             "#fde0ef"
            ],
            [
             0.5,
             "#f7f7f7"
            ],
            [
             0.6,
             "#e6f5d0"
            ],
            [
             0.7,
             "#b8e186"
            ],
            [
             0.8,
             "#7fbc41"
            ],
            [
             0.9,
             "#4d9221"
            ],
            [
             1,
             "#276419"
            ]
           ],
           "sequential": [
            [
             0,
             "#0d0887"
            ],
            [
             0.1111111111111111,
             "#46039f"
            ],
            [
             0.2222222222222222,
             "#7201a8"
            ],
            [
             0.3333333333333333,
             "#9c179e"
            ],
            [
             0.4444444444444444,
             "#bd3786"
            ],
            [
             0.5555555555555556,
             "#d8576b"
            ],
            [
             0.6666666666666666,
             "#ed7953"
            ],
            [
             0.7777777777777778,
             "#fb9f3a"
            ],
            [
             0.8888888888888888,
             "#fdca26"
            ],
            [
             1,
             "#f0f921"
            ]
           ],
           "sequentialminus": [
            [
             0,
             "#0d0887"
            ],
            [
             0.1111111111111111,
             "#46039f"
            ],
            [
             0.2222222222222222,
             "#7201a8"
            ],
            [
             0.3333333333333333,
             "#9c179e"
            ],
            [
             0.4444444444444444,
             "#bd3786"
            ],
            [
             0.5555555555555556,
             "#d8576b"
            ],
            [
             0.6666666666666666,
             "#ed7953"
            ],
            [
             0.7777777777777778,
             "#fb9f3a"
            ],
            [
             0.8888888888888888,
             "#fdca26"
            ],
            [
             1,
             "#f0f921"
            ]
           ]
          },
          "colorway": [
           "#636efa",
           "#EF553B",
           "#00cc96",
           "#ab63fa",
           "#FFA15A",
           "#19d3f3",
           "#FF6692",
           "#B6E880",
           "#FF97FF",
           "#FECB52"
          ],
          "font": {
           "color": "#2a3f5f"
          },
          "geo": {
           "bgcolor": "white",
           "lakecolor": "white",
           "landcolor": "#E5ECF6",
           "showlakes": true,
           "showland": true,
           "subunitcolor": "white"
          },
          "hoverlabel": {
           "align": "left"
          },
          "hovermode": "closest",
          "mapbox": {
           "style": "light"
          },
          "paper_bgcolor": "white",
          "plot_bgcolor": "#E5ECF6",
          "polar": {
           "angularaxis": {
            "gridcolor": "white",
            "linecolor": "white",
            "ticks": ""
           },
           "bgcolor": "#E5ECF6",
           "radialaxis": {
            "gridcolor": "white",
            "linecolor": "white",
            "ticks": ""
           }
          },
          "scene": {
           "xaxis": {
            "backgroundcolor": "#E5ECF6",
            "gridcolor": "white",
            "gridwidth": 2,
            "linecolor": "white",
            "showbackground": true,
            "ticks": "",
            "zerolinecolor": "white"
           },
           "yaxis": {
            "backgroundcolor": "#E5ECF6",
            "gridcolor": "white",
            "gridwidth": 2,
            "linecolor": "white",
            "showbackground": true,
            "ticks": "",
            "zerolinecolor": "white"
           },
           "zaxis": {
            "backgroundcolor": "#E5ECF6",
            "gridcolor": "white",
            "gridwidth": 2,
            "linecolor": "white",
            "showbackground": true,
            "ticks": "",
            "zerolinecolor": "white"
           }
          },
          "shapedefaults": {
           "line": {
            "color": "#2a3f5f"
           }
          },
          "ternary": {
           "aaxis": {
            "gridcolor": "white",
            "linecolor": "white",
            "ticks": ""
           },
           "baxis": {
            "gridcolor": "white",
            "linecolor": "white",
            "ticks": ""
           },
           "bgcolor": "#E5ECF6",
           "caxis": {
            "gridcolor": "white",
            "linecolor": "white",
            "ticks": ""
           }
          },
          "title": {
           "x": 0.05
          },
          "xaxis": {
           "automargin": true,
           "gridcolor": "white",
           "linecolor": "white",
           "ticks": "",
           "title": {
            "standoff": 15
           },
           "zerolinecolor": "white",
           "zerolinewidth": 2
          },
          "yaxis": {
           "automargin": true,
           "gridcolor": "white",
           "linecolor": "white",
           "ticks": "",
           "title": {
            "standoff": 15
           },
           "zerolinecolor": "white",
           "zerolinewidth": 2
          }
         }
        },
        "width": 600,
        "xaxis": {
         "anchor": "y",
         "domain": [
          0,
          1
         ],
         "title": {
          "text": "Time"
         }
        },
        "yaxis": {
         "anchor": "x",
         "domain": [
          0,
          1
         ],
         "title": {
          "text": "Capture Price Ratio"
         }
        }
       }
      },
      "image/png": "[encoded data removed]"
     },
     "metadata": {},
     "output_type": "display_data"
    }
   ],
   "source": [
    "\n",
    "\n",
    "metrics = [\n",
    "    {\n",
    "        'df': df_pf,\n",
    "        'title': \"Participation Factor\",\n",
    "        'col': \"PARTICIPATION_FACTOR\",\n",
    "    },\n",
    "    {\n",
    "        'df': df_cr,\n",
    "        'title': \"Capture Price Ratio\",\n",
    "        'col': \"CAPTURE_RATIO\",\n",
    "    },\n",
    "]\n",
    "\n",
    "for metric in metrics:\n",
    "\n",
    "    fig = px.line(\n",
    "        metric['df'].filter(pl.col(\"FUEL_TYPE\").is_in(color_mapping)),\n",
    "        x=\"INTERVAL_START\",\n",
    "        y=metric['col'],\n",
    "        color=\"FUEL_TYPE\",\n",
    "        color_discrete_map=color_mapping,\n",
    "        height=300,\n",
    "        width=600,\n",
    "        #title=f\"{metric['title']} over time by fuel type (whole NEM)\",\n",
    "        labels={\n",
    "            \"FUEL_TYPE\": \"Fuel Type\",\n",
    "            \"INTERVAL_START\": \"Time\",\n",
    "            metric['col']: metric['title'],\n",
    "        }\n",
    "    )\n",
    "    #fig.update_layout(yaxis_tickformat = '.0%')\n",
    "    fig.for_each_annotation(lambda a: a.update(text=a.text.split(\"=\")[-1]))\n",
    "    slug = metric['col'] #metric['title'].replace(' ', '_')\n",
    "    fig.update_layout(margin=dict(l=20, r=20, t=20, b=20))\n",
    "    fig.write_image(os.path.join(results_dir, f\"{slug}.svg\"))\n",
    "    \n",
    "    fig.show()\n",
    "\n",
    "    figures[metric['col']] = fig"
   ]
  },
  {
   "cell_type": "code",
   "execution_count": 36,
   "id": "dbacb479-19fe-40d4-bcf9-3cf511a8f88d",
   "metadata": {},
   "outputs": [],
   "source": [
    "# same again, but just solar in VIC and SA\n",
    "\n",
    "df_solar = (\n",
    "    pl.concat(\n",
    "        [\n",
    "            dispatchload\n",
    "            .rename({\"SETTLEMENTDATE\": \"INTERVAL_END\"})\n",
    "            .filter(pl.col(\"FUEL_TYPE\") == \"solar_gridscale\"),\n",
    "            (rooftop.with_columns(pl.lit(\"solar_rooftop\").alias(\"FUEL_TYPE\"))),\n",
    "        ],\n",
    "        how=\"diagonal_relaxed\",\n",
    "    )\n",
    "    .filter((pl.col(\"REGIONID\") == \"SA1\") | (pl.col(\"REGIONID\") == \"VIC1\"))\n",
    "    .with_columns((pl.col(\"POWER\") / INTERVALS_PER_H).alias(\"ENERGY_MWH\"))\n",
    "    .cast(\n",
    "        {\n",
    "            \"REGIONID\": regionid_enum,\n",
    "            \"FUEL_TYPE\": fuel_type_enum,\n",
    "        }\n",
    "    )\n",
    "    .join(\n",
    "        tradingprice.with_columns(\n",
    "            pl.col(\"SETTLEMENTDATE\").alias(\"INTERVAL_END\"),\n",
    "            pl.col(\"RRP\").alias(\"ENERGY_PRICE\"),\n",
    "        ).cast(\n",
    "            {\n",
    "                \"REGIONID\": regionid_enum,\n",
    "            }\n",
    "        ),\n",
    "        on=[\"REGIONID\", \"INTERVAL_END\"],\n",
    "    )\n",
    "    .with_columns(\n",
    "        [\n",
    "            (pl.col(\"POWER\") * pl.col(\"RRP\") / INTERVALS_PER_H).alias(\"ENERGY_REVENUE\"),\n",
    "            (\n",
    "                pl.sum_horizontal([pl.col(m) * pl.col(m + \"RRP\") for m in fcas_markets])\n",
    "                / INTERVALS_PER_H\n",
    "            ).alias(\"FCAS_REVENUE\"),\n",
    "        ]\n",
    "    )\n",
    "    .with_columns(\n",
    "        (pl.col(\"ENERGY_REVENUE\") + pl.col(\"FCAS_REVENUE\")).alias(\"TOTAL_REVENUE\")\n",
    "    )\n",
    "    .with_columns(\n",
    "        pl.col(\"ENERGY_MWH\")\n",
    "        .sum()\n",
    "        .over(\"REGIONID\", \"INTERVAL_END\")\n",
    "        .alias(\"REGION_INTERVAL_MWH\"),\n",
    "        pl.col(\"TOTAL_REVENUE\")\n",
    "        .sum()\n",
    "        .over(\"REGIONID\", \"INTERVAL_END\")\n",
    "        .alias(\"REGION_INTERVAL_REVENUE\"),\n",
    "    )\n",
    "    .sort(\"INTERVAL_END\")\n",
    "    .group_by_dynamic(\n",
    "        index_column=\"INTERVAL_END\",\n",
    "        every=\"3mo\",\n",
    "        label=\"left\",\n",
    "        group_by=[\"FUEL_TYPE\", \"REGIONID\"],  # \"REGIONID\",\n",
    "    )\n",
    "    .agg(\n",
    "        pl.col(\"ENERGY_PRICE\").mean().alias(\"TWAP\"),\n",
    "        pl.col(\"REGION_INTERVAL_REVENUE\").sum().alias(\"REGION_REVENUE\"),\n",
    "        pl.col(\"REGION_INTERVAL_MWH\").sum().alias(\"REGION_MWH\"),\n",
    "        (pl.col(\"TOTAL_REVENUE\").sum() / pl.col(\"ENERGY_MWH\").sum()).alias(\n",
    "            \"CAPTURE_PRICE\"\n",
    "        ),\n",
    "        pl.len().alias(\"N\"),\n",
    "    )\n",
    "    .rename({\"INTERVAL_END\": \"INTERVAL_START\"})\n",
    "    .filter(\n",
    "        pl.col(\"N\") > 24 * INTERVALS_PER_H\n",
    "    )  # remove end periods with only a few samples\n",
    "    .with_columns(\n",
    "        (pl.col(\"REGION_REVENUE\") / pl.col(\"REGION_MWH\")).alias(\"REGION_GWAP\")\n",
    "    )\n",
    "    .with_columns(\n",
    "        (pl.col(\"CAPTURE_PRICE\") / pl.col(\"TWAP\")).alias(\"CAPTURE_RATIO\"),\n",
    "        (pl.col(\"CAPTURE_PRICE\") / pl.col(\"REGION_GWAP\")).alias(\"PARTICIPATION_FACTOR\"),\n",
    "    )\n",
    "    .select(\"INTERVAL_START\", \"FUEL_TYPE\", \"CAPTURE_RATIO\", \"REGIONID\")\n",
    "    .sort(\"INTERVAL_START\", \"FUEL_TYPE\")  # \"REGIONID\",\n",
    "    .collect()\n",
    ")\n"
   ]
  },
  {
   "cell_type": "code",
   "execution_count": 90,
   "id": "0d3ef8a7-95e3-4b91-ae06-b28f3310fbbf",
   "metadata": {},
   "outputs": [
    {
     "name": "stderr",
     "output_type": "stream",
     "text": [
      "/tmp/ipykernel_4202/1834336658.py:20: DeprecationWarning:\n",
      "\n",
      "\n",
      "Support for Kaleido versions less than 1.0.0 is deprecated and will be removed after September 2025.\n",
      "Please upgrade Kaleido to version 1.0.0 or greater (`pip install 'kaleido>=1.0.0'` or `pip install 'plotly[kaleido]'`).\n",
      "\n",
      "\n"
     ]
    },
    {
     "data": {
      "application/vnd.plotly.v1+json": {
       "config": {
        "plotlyServerURL": "https://plot.ly"
       },
       "data": [
        {
         "hovertemplate": "Fuel Type=solar_rooftop<br>Region=SA1<br>Time=%{x}<br>Capture Price Ratio=%{y}<extra></extra>",
         "legendgroup": "solar_rooftop",
         "line": {
          "color": "#636efa",
          "dash": "solid"
         },
         "marker": {
          "symbol": "circle"
         },
         "mode": "lines",
         "name": "solar_rooftop",
         "orientation": "v",
         "showlegend": true,
         "type": "scatter",
         "x": [
          "2016-07-01T00:00:00.000",
          "2016-10-01T00:00:00.000",
          "2017-01-01T00:00:00.000",
          "2017-04-01T00:00:00.000",
          "2017-07-01T00:00:00.000",
          "2017-10-01T00:00:00.000",
          "2018-01-01T00:00:00.000",
          "2018-04-01T00:00:00.000",
          "2018-07-01T00:00:00.000",
          "2018-10-01T00:00:00.000",
          "2019-01-01T00:00:00.000",
          "2019-04-01T00:00:00.000",
          "2019-07-01T00:00:00.000",
          "2019-10-01T00:00:00.000",
          "2020-01-01T00:00:00.000",
          "2020-04-01T00:00:00.000",
          "2020-07-01T00:00:00.000",
          "2020-10-01T00:00:00.000",
          "2021-01-01T00:00:00.000",
          "2021-04-01T00:00:00.000",
          "2021-07-01T00:00:00.000",
          "2021-10-01T00:00:00.000",
          "2022-01-01T00:00:00.000",
          "2022-04-01T00:00:00.000",
          "2022-07-01T00:00:00.000",
          "2022-10-01T00:00:00.000",
          "2023-01-01T00:00:00.000",
          "2023-04-01T00:00:00.000",
          "2023-07-01T00:00:00.000",
          "2023-10-01T00:00:00.000",
          "2024-01-01T00:00:00.000",
          "2024-04-01T00:00:00.000",
          "2024-07-01T00:00:00.000",
          "2024-10-01T00:00:00.000"
         ],
         "xaxis": "x",
         "y": {
          "bdata": "gJB5wzFM6z8NpErvBvTuP/qBFfAjMPQ/c46fsrIK7z/MkZjik3vrPwIVF33JdPA/PCMygOt09j+zlPIBGtnwP3dmBBPIdec/CBB0jLcY7j/JwVRoOp7xP8gSy8Ew2Os/qSvEv2Wd3z9t+OUzE2DiPxQckCaaA+4/k7CUEZ+55T84VuPErCbRP6W8wigO6cU/MEFIs2mlt78WGE6LMsDgPz9ckXdV27K/qVXuiWWCfL8vzJx8TFrkP1YDEvrCxOA/Qk9XRs043D8PINvC6arKv0AOBQCX28A/OauBNBdI1z9e6KpuerOov9tqTedqIuu/F7fTxwrpwr8lKuD+svXfP7N///0QNrU/w1/6ZTpz1L8=",
          "dtype": "f8"
         },
         "yaxis": "y"
        },
        {
         "hovertemplate": "Fuel Type=solar_rooftop<br>Region=VIC1<br>Time=%{x}<br>Capture Price Ratio=%{y}<extra></extra>",
         "legendgroup": "solar_rooftop",
         "line": {
          "color": "#636efa",
          "dash": "solid"
         },
         "marker": {
          "symbol": "circle"
         },
         "mode": "lines",
         "name": "solar_rooftop",
         "orientation": "v",
         "showlegend": false,
         "type": "scatter",
         "x": [
          "2016-07-01T00:00:00.000",
          "2016-10-01T00:00:00.000",
          "2017-01-01T00:00:00.000",
          "2017-04-01T00:00:00.000",
          "2017-07-01T00:00:00.000",
          "2017-10-01T00:00:00.000",
          "2018-01-01T00:00:00.000",
          "2018-04-01T00:00:00.000",
          "2018-07-01T00:00:00.000",
          "2018-10-01T00:00:00.000",
          "2019-01-01T00:00:00.000",
          "2019-04-01T00:00:00.000",
          "2019-07-01T00:00:00.000",
          "2019-10-01T00:00:00.000",
          "2020-01-01T00:00:00.000",
          "2020-04-01T00:00:00.000",
          "2020-07-01T00:00:00.000",
          "2020-10-01T00:00:00.000",
          "2021-01-01T00:00:00.000",
          "2021-04-01T00:00:00.000",
          "2021-07-01T00:00:00.000",
          "2021-10-01T00:00:00.000",
          "2022-01-01T00:00:00.000",
          "2022-04-01T00:00:00.000",
          "2022-07-01T00:00:00.000",
          "2022-10-01T00:00:00.000",
          "2023-01-01T00:00:00.000",
          "2023-04-01T00:00:00.000",
          "2023-07-01T00:00:00.000",
          "2023-10-01T00:00:00.000",
          "2024-01-01T00:00:00.000",
          "2024-04-01T00:00:00.000",
          "2024-07-01T00:00:00.000",
          "2024-10-01T00:00:00.000"
         ],
         "xaxis": "x2",
         "y": {
          "bdata": "fpTQXpVa7T/6jK/naifxPwii6vig4fM/KajSBfX77z8R0ykgm+PtP+mBOUmahPE/V52j194d9T8m8ZSD3NfuP2LGCRAU7es/D3yE3nYo7z91QZqiPxzyP59k8XNEbe0/LHQMymZo6T9/FSqF81HrP/VDGAZuyu8/A1Q3SqO36T9ZjwYbi1LmP4uP46xz+uU/9JgzFrli4z/9mUU/EpnhPxvrdjwTBNM/cwOGrk5/oT8D7cHVeRnhP0uMuFgP9uU/Gl2FhUCU4D/LoaELG2eQv9rWsDkLcJI/sklEA+g23z9EATq7823Qv0ETY6pG2PG/ejKZBTgx0T+0uDOmc5nfPy7o4EV2NM0/aYbUodId3L8=",
          "dtype": "f8"
         },
         "yaxis": "y2"
        },
        {
         "hovertemplate": "Fuel Type=solar_gridscale<br>Region=SA1<br>Time=%{x}<br>Capture Price Ratio=%{y}<extra></extra>",
         "legendgroup": "solar_gridscale",
         "line": {
          "color": "#EF553B",
          "dash": "solid"
         },
         "marker": {
          "symbol": "circle"
         },
         "mode": "lines",
         "name": "solar_gridscale",
         "orientation": "v",
         "showlegend": true,
         "type": "scatter",
         "x": [
          "2018-04-01T00:00:00.000",
          "2018-07-01T00:00:00.000",
          "2018-10-01T00:00:00.000",
          "2019-01-01T00:00:00.000",
          "2019-04-01T00:00:00.000",
          "2019-07-01T00:00:00.000",
          "2019-10-01T00:00:00.000",
          "2020-01-01T00:00:00.000",
          "2020-04-01T00:00:00.000",
          "2020-07-01T00:00:00.000",
          "2020-10-01T00:00:00.000",
          "2021-01-01T00:00:00.000",
          "2021-04-01T00:00:00.000",
          "2021-07-01T00:00:00.000",
          "2021-10-01T00:00:00.000",
          "2022-01-01T00:00:00.000",
          "2022-04-01T00:00:00.000",
          "2022-07-01T00:00:00.000",
          "2022-10-01T00:00:00.000",
          "2023-01-01T00:00:00.000",
          "2023-04-01T00:00:00.000",
          "2023-07-01T00:00:00.000",
          "2023-10-01T00:00:00.000",
          "2024-01-01T00:00:00.000",
          "2024-04-01T00:00:00.000",
          "2024-07-01T00:00:00.000",
          "2024-10-01T00:00:00.000"
         ],
         "xaxis": "x",
         "y": {
          "bdata": "YRAdV+/W7j+kE011aIPrP7ewXnn5IO8/9gHWpoFg9D/iPWf4XSzuP7xE4GMLkek/on+Fz6PS6z/Vb/Or8nPvP2iklh8zj+k/3r0doe8J4j95W+XSuAXjP0jOZ79TuNU/ZxldTI914z9ix1d1pAfZPwVcdyLrI9s/DXq/fkpK5z+QFgkec+/jP03f/E9Hs+I/IosXEM/pxj9MDN+QzVHYP3D0Yaqef+E/0Il++sUL0z/B39OA8S23P7tg8g7wGtY/DqWrfDvD4j8qfBIaX2jUP1wKYJMNseA/",
          "dtype": "f8"
         },
         "yaxis": "y"
        },
        {
         "hovertemplate": "Fuel Type=solar_gridscale<br>Region=VIC1<br>Time=%{x}<br>Capture Price Ratio=%{y}<extra></extra>",
         "legendgroup": "solar_gridscale",
         "line": {
          "color": "#EF553B",
          "dash": "solid"
         },
         "marker": {
          "symbol": "circle"
         },
         "mode": "lines",
         "name": "solar_gridscale",
         "orientation": "v",
         "showlegend": false,
         "type": "scatter",
         "x": [
          "2018-01-01T00:00:00.000",
          "2018-04-01T00:00:00.000",
          "2018-07-01T00:00:00.000",
          "2018-10-01T00:00:00.000",
          "2019-01-01T00:00:00.000",
          "2019-04-01T00:00:00.000",
          "2019-07-01T00:00:00.000",
          "2019-10-01T00:00:00.000",
          "2020-01-01T00:00:00.000",
          "2020-04-01T00:00:00.000",
          "2020-07-01T00:00:00.000",
          "2020-10-01T00:00:00.000",
          "2021-01-01T00:00:00.000",
          "2021-04-01T00:00:00.000",
          "2021-07-01T00:00:00.000",
          "2021-10-01T00:00:00.000",
          "2022-01-01T00:00:00.000",
          "2022-04-01T00:00:00.000",
          "2022-07-01T00:00:00.000",
          "2022-10-01T00:00:00.000",
          "2023-01-01T00:00:00.000",
          "2023-04-01T00:00:00.000",
          "2023-07-01T00:00:00.000",
          "2023-10-01T00:00:00.000",
          "2024-01-01T00:00:00.000",
          "2024-04-01T00:00:00.000",
          "2024-07-01T00:00:00.000",
          "2024-10-01T00:00:00.000"
         ],
         "xaxis": "x2",
         "y": {
          "bdata": "AAAAAAAA+P+rbew6n4TwP2AGHSf7bO0/2o5hfzl+7z++UGoufIn2P/dfSIWhVe4/QCSZCi0K6z/udLWAxz3tP7tWiPKdu/E/pRtsSz5x6z8cq0CAx9XpP5SgtRrIh+g/I1Cxkysn5T8INL3vflHjPwQuPJDovNg/Pk9PfNdM0j/xr3Rn1f/oP9RnTmWs9+c/m923nXha5j8GeGQqDSLSPyQFa1jDO9k/fXuMKp895D/SwDPyZo7RP5pl4OHvlbu/pqdGK7bP2z9Co4rnqSHkPwGDyKadKto/Si4cVF6xaD8=",
          "dtype": "f8"
         },
         "yaxis": "y2"
        }
       ],
       "layout": {
        "annotations": [
         {
          "font": {},
          "showarrow": false,
          "text": "SA1",
          "x": 0.245,
          "xanchor": "center",
          "xref": "paper",
          "y": 1,
          "yanchor": "bottom",
          "yref": "paper"
         },
         {
          "font": {},
          "showarrow": false,
          "text": "VIC1",
          "x": 0.755,
          "xanchor": "center",
          "xref": "paper",
          "y": 1,
          "yanchor": "bottom",
          "yref": "paper"
         }
        ],
        "height": 600,
        "legend": {
         "title": {
          "text": "Fuel Type"
         },
         "tracegroupgap": 0
        },
        "template": {
         "data": {
          "bar": [
           {
            "error_x": {
             "color": "#2a3f5f"
            },
            "error_y": {
             "color": "#2a3f5f"
            },
            "marker": {
             "line": {
              "color": "#E5ECF6",
              "width": 0.5
             },
             "pattern": {
              "fillmode": "overlay",
              "size": 10,
              "solidity": 0.2
             }
            },
            "type": "bar"
           }
          ],
          "barpolar": [
           {
            "marker": {
             "line": {
              "color": "#E5ECF6",
              "width": 0.5
             },
             "pattern": {
              "fillmode": "overlay",
              "size": 10,
              "solidity": 0.2
             }
            },
            "type": "barpolar"
           }
          ],
          "carpet": [
           {
            "aaxis": {
             "endlinecolor": "#2a3f5f",
             "gridcolor": "white",
             "linecolor": "white",
             "minorgridcolor": "white",
             "startlinecolor": "#2a3f5f"
            },
            "baxis": {
             "endlinecolor": "#2a3f5f",
             "gridcolor": "white",
             "linecolor": "white",
             "minorgridcolor": "white",
             "startlinecolor": "#2a3f5f"
            },
            "type": "carpet"
           }
          ],
          "choropleth": [
           {
            "colorbar": {
             "outlinewidth": 0,
             "ticks": ""
            },
            "type": "choropleth"
           }
          ],
          "contour": [
           {
            "colorbar": {
             "outlinewidth": 0,
             "ticks": ""
            },
            "colorscale": [
             [
              0,
              "#0d0887"
             ],
             [
              0.1111111111111111,
              "#46039f"
             ],
             [
              0.2222222222222222,
              "#7201a8"
             ],
             [
              0.3333333333333333,
              "#9c179e"
             ],
             [
              0.4444444444444444,
              "#bd3786"
             ],
             [
              0.5555555555555556,
              "#d8576b"
             ],
             [
              0.6666666666666666,
              "#ed7953"
             ],
             [
              0.7777777777777778,
              "#fb9f3a"
             ],
             [
              0.8888888888888888,
              "#fdca26"
             ],
             [
              1,
              "#f0f921"
             ]
            ],
            "type": "contour"
           }
          ],
          "contourcarpet": [
           {
            "colorbar": {
             "outlinewidth": 0,
             "ticks": ""
            },
            "type": "contourcarpet"
           }
          ],
          "heatmap": [
           {
            "colorbar": {
             "outlinewidth": 0,
             "ticks": ""
            },
            "colorscale": [
             [
              0,
              "#0d0887"
             ],
             [
              0.1111111111111111,
              "#46039f"
             ],
             [
              0.2222222222222222,
              "#7201a8"
             ],
             [
              0.3333333333333333,
              "#9c179e"
             ],
             [
              0.4444444444444444,
              "#bd3786"
             ],
             [
              0.5555555555555556,
              "#d8576b"
             ],
             [
              0.6666666666666666,
              "#ed7953"
             ],
             [
              0.7777777777777778,
              "#fb9f3a"
             ],
             [
              0.8888888888888888,
              "#fdca26"
             ],
             [
              1,
              "#f0f921"
             ]
            ],
            "type": "heatmap"
           }
          ],
          "histogram": [
           {
            "marker": {
             "pattern": {
              "fillmode": "overlay",
              "size": 10,
              "solidity": 0.2
             }
            },
            "type": "histogram"
           }
          ],
          "histogram2d": [
           {
            "colorbar": {
             "outlinewidth": 0,
             "ticks": ""
            },
            "colorscale": [
             [
              0,
              "#0d0887"
             ],
             [
              0.1111111111111111,
              "#46039f"
             ],
             [
              0.2222222222222222,
              "#7201a8"
             ],
             [
              0.3333333333333333,
              "#9c179e"
             ],
             [
              0.4444444444444444,
              "#bd3786"
             ],
             [
              0.5555555555555556,
              "#d8576b"
             ],
             [
              0.6666666666666666,
              "#ed7953"
             ],
             [
              0.7777777777777778,
              "#fb9f3a"
             ],
             [
              0.8888888888888888,
              "#fdca26"
             ],
             [
              1,
              "#f0f921"
             ]
            ],
            "type": "histogram2d"
           }
          ],
          "histogram2dcontour": [
           {
            "colorbar": {
             "outlinewidth": 0,
             "ticks": ""
            },
            "colorscale": [
             [
              0,
              "#0d0887"
             ],
             [
              0.1111111111111111,
              "#46039f"
             ],
             [
              0.2222222222222222,
              "#7201a8"
             ],
             [
              0.3333333333333333,
              "#9c179e"
             ],
             [
              0.4444444444444444,
              "#bd3786"
             ],
             [
              0.5555555555555556,
              "#d8576b"
             ],
             [
              0.6666666666666666,
              "#ed7953"
             ],
             [
              0.7777777777777778,
              "#fb9f3a"
             ],
             [
              0.8888888888888888,
              "#fdca26"
             ],
             [
              1,
              "#f0f921"
             ]
            ],
            "type": "histogram2dcontour"
           }
          ],
          "mesh3d": [
           {
            "colorbar": {
             "outlinewidth": 0,
             "ticks": ""
            },
            "type": "mesh3d"
           }
          ],
          "parcoords": [
           {
            "line": {
             "colorbar": {
              "outlinewidth": 0,
              "ticks": ""
             }
            },
            "type": "parcoords"
           }
          ],
          "pie": [
           {
            "automargin": true,
            "type": "pie"
           }
          ],
          "scatter": [
           {
            "fillpattern": {
             "fillmode": "overlay",
             "size": 10,
             "solidity": 0.2
            },
            "type": "scatter"
           }
          ],
          "scatter3d": [
           {
            "line": {
             "colorbar": {
              "outlinewidth": 0,
              "ticks": ""
             }
            },
            "marker": {
             "colorbar": {
              "outlinewidth": 0,
              "ticks": ""
             }
            },
            "type": "scatter3d"
           }
          ],
          "scattercarpet": [
           {
            "marker": {
             "colorbar": {
              "outlinewidth": 0,
              "ticks": ""
             }
            },
            "type": "scattercarpet"
           }
          ],
          "scattergeo": [
           {
            "marker": {
             "colorbar": {
              "outlinewidth": 0,
              "ticks": ""
             }
            },
            "type": "scattergeo"
           }
          ],
          "scattergl": [
           {
            "marker": {
             "colorbar": {
              "outlinewidth": 0,
              "ticks": ""
             }
            },
            "type": "scattergl"
           }
          ],
          "scattermap": [
           {
            "marker": {
             "colorbar": {
              "outlinewidth": 0,
              "ticks": ""
             }
            },
            "type": "scattermap"
           }
          ],
          "scattermapbox": [
           {
            "marker": {
             "colorbar": {
              "outlinewidth": 0,
              "ticks": ""
             }
            },
            "type": "scattermapbox"
           }
          ],
          "scatterpolar": [
           {
            "marker": {
             "colorbar": {
              "outlinewidth": 0,
              "ticks": ""
             }
            },
            "type": "scatterpolar"
           }
          ],
          "scatterpolargl": [
           {
            "marker": {
             "colorbar": {
              "outlinewidth": 0,
              "ticks": ""
             }
            },
            "type": "scatterpolargl"
           }
          ],
          "scatterternary": [
           {
            "marker": {
             "colorbar": {
              "outlinewidth": 0,
              "ticks": ""
             }
            },
            "type": "scatterternary"
           }
          ],
          "surface": [
           {
            "colorbar": {
             "outlinewidth": 0,
             "ticks": ""
            },
            "colorscale": [
             [
              0,
              "#0d0887"
             ],
             [
              0.1111111111111111,
              "#46039f"
             ],
             [
              0.2222222222222222,
              "#7201a8"
             ],
             [
              0.3333333333333333,
              "#9c179e"
             ],
             [
              0.4444444444444444,
              "#bd3786"
             ],
             [
              0.5555555555555556,
              "#d8576b"
             ],
             [
              0.6666666666666666,
              "#ed7953"
             ],
             [
              0.7777777777777778,
              "#fb9f3a"
             ],
             [
              0.8888888888888888,
              "#fdca26"
             ],
             [
              1,
              "#f0f921"
             ]
            ],
            "type": "surface"
           }
          ],
          "table": [
           {
            "cells": {
             "fill": {
              "color": "#EBF0F8"
             },
             "line": {
              "color": "white"
             }
            },
            "header": {
             "fill": {
              "color": "#C8D4E3"
             },
             "line": {
              "color": "white"
             }
            },
            "type": "table"
           }
          ]
         },
         "layout": {
          "annotationdefaults": {
           "arrowcolor": "#2a3f5f",
           "arrowhead": 0,
           "arrowwidth": 1
          },
          "autotypenumbers": "strict",
          "coloraxis": {
           "colorbar": {
            "outlinewidth": 0,
            "ticks": ""
           }
          },
          "colorscale": {
           "diverging": [
            [
             0,
             "#8e0152"
            ],
            [
             0.1,
             "#c51b7d"
            ],
            [
             0.2,
             "#de77ae"
            ],
            [
             0.3,
             "#f1b6da"
            ],
            [
             0.4,
             "#fde0ef"
            ],
            [
             0.5,
             "#f7f7f7"
            ],
            [
             0.6,
             "#e6f5d0"
            ],
            [
             0.7,
             "#b8e186"
            ],
            [
             0.8,
             "#7fbc41"
            ],
            [
             0.9,
             "#4d9221"
            ],
            [
             1,
             "#276419"
            ]
           ],
           "sequential": [
            [
             0,
             "#0d0887"
            ],
            [
             0.1111111111111111,
             "#46039f"
            ],
            [
             0.2222222222222222,
             "#7201a8"
            ],
            [
             0.3333333333333333,
             "#9c179e"
            ],
            [
             0.4444444444444444,
             "#bd3786"
            ],
            [
             0.5555555555555556,
             "#d8576b"
            ],
            [
             0.6666666666666666,
             "#ed7953"
            ],
            [
             0.7777777777777778,
             "#fb9f3a"
            ],
            [
             0.8888888888888888,
             "#fdca26"
            ],
            [
             1,
             "#f0f921"
            ]
           ],
           "sequentialminus": [
            [
             0,
             "#0d0887"
            ],
            [
             0.1111111111111111,
             "#46039f"
            ],
            [
             0.2222222222222222,
             "#7201a8"
            ],
            [
             0.3333333333333333,
             "#9c179e"
            ],
            [
             0.4444444444444444,
             "#bd3786"
            ],
            [
             0.5555555555555556,
             "#d8576b"
            ],
            [
             0.6666666666666666,
             "#ed7953"
            ],
            [
             0.7777777777777778,
             "#fb9f3a"
            ],
            [
             0.8888888888888888,
             "#fdca26"
            ],
            [
             1,
             "#f0f921"
            ]
           ]
          },
          "colorway": [
           "#636efa",
           "#EF553B",
           "#00cc96",
           "#ab63fa",
           "#FFA15A",
           "#19d3f3",
           "#FF6692",
           "#B6E880",
           "#FF97FF",
           "#FECB52"
          ],
          "font": {
           "color": "#2a3f5f"
          },
          "geo": {
           "bgcolor": "white",
           "lakecolor": "white",
           "landcolor": "#E5ECF6",
           "showlakes": true,
           "showland": true,
           "subunitcolor": "white"
          },
          "hoverlabel": {
           "align": "left"
          },
          "hovermode": "closest",
          "mapbox": {
           "style": "light"
          },
          "paper_bgcolor": "white",
          "plot_bgcolor": "#E5ECF6",
          "polar": {
           "angularaxis": {
            "gridcolor": "white",
            "linecolor": "white",
            "ticks": ""
           },
           "bgcolor": "#E5ECF6",
           "radialaxis": {
            "gridcolor": "white",
            "linecolor": "white",
            "ticks": ""
           }
          },
          "scene": {
           "xaxis": {
            "backgroundcolor": "#E5ECF6",
            "gridcolor": "white",
            "gridwidth": 2,
            "linecolor": "white",
            "showbackground": true,
            "ticks": "",
            "zerolinecolor": "white"
           },
           "yaxis": {
            "backgroundcolor": "#E5ECF6",
            "gridcolor": "white",
            "gridwidth": 2,
            "linecolor": "white",
            "showbackground": true,
            "ticks": "",
            "zerolinecolor": "white"
           },
           "zaxis": {
            "backgroundcolor": "#E5ECF6",
            "gridcolor": "white",
            "gridwidth": 2,
            "linecolor": "white",
            "showbackground": true,
            "ticks": "",
            "zerolinecolor": "white"
           }
          },
          "shapedefaults": {
           "line": {
            "color": "#2a3f5f"
           }
          },
          "ternary": {
           "aaxis": {
            "gridcolor": "white",
            "linecolor": "white",
            "ticks": ""
           },
           "baxis": {
            "gridcolor": "white",
            "linecolor": "white",
            "ticks": ""
           },
           "bgcolor": "#E5ECF6",
           "caxis": {
            "gridcolor": "white",
            "linecolor": "white",
            "ticks": ""
           }
          },
          "title": {
           "x": 0.05
          },
          "xaxis": {
           "automargin": true,
           "gridcolor": "white",
           "linecolor": "white",
           "ticks": "",
           "title": {
            "standoff": 15
           },
           "zerolinecolor": "white",
           "zerolinewidth": 2
          },
          "yaxis": {
           "automargin": true,
           "gridcolor": "white",
           "linecolor": "white",
           "ticks": "",
           "title": {
            "standoff": 15
           },
           "zerolinecolor": "white",
           "zerolinewidth": 2
          }
         }
        },
        "title": {
         "text": "Capture Price Ratio over time for solar in VIC and SA"
        },
        "width": 800,
        "xaxis": {
         "anchor": "y",
         "domain": [
          0,
          0.49
         ],
         "title": {
          "text": "Time"
         }
        },
        "xaxis2": {
         "anchor": "y2",
         "domain": [
          0.51,
          1
         ],
         "matches": "x",
         "title": {
          "text": "Time"
         }
        },
        "yaxis": {
         "anchor": "x",
         "domain": [
          0,
          1
         ],
         "title": {
          "text": "Capture Price Ratio"
         }
        },
        "yaxis2": {
         "anchor": "x2",
         "domain": [
          0,
          1
         ],
         "matches": "y",
         "showticklabels": false
        }
       }
      },
      "image/png": "[encoded data removed]"
     },
     "metadata": {},
     "output_type": "display_data"
    }
   ],
   "source": [
    "\n",
    "fig = px.line(\n",
    "    df_solar,\n",
    "    x=\"INTERVAL_START\",\n",
    "    y=\"CAPTURE_RATIO\",\n",
    "    color=\"FUEL_TYPE\",\n",
    "    #color_discrete_map=color_mapping,\n",
    "    facet_col=\"REGIONID\",\n",
    "    height=400,\n",
    "    width=800,\n",
    "    title=f\"{metric['title']} over time for solar in VIC and SA\",\n",
    "    labels={\n",
    "        \"FUEL_TYPE\": \"Fuel Type\",\n",
    "        \"INTERVAL_START\": \"Time\",\n",
    "        \"CAPTURE_RATIO\": \"Capture Price Ratio\",\n",
    "        \"REGIONID\": \"Region\"\n",
    "    }\n",
    ")\n",
    "\n",
    "fig.for_each_annotation(lambda a: a.update(text=a.text.split(\"=\")[-1]))\n",
    "fig.write_image(os.path.join(results_dir, f\"vic-sa-solar.svg\"))\n",
    "\n",
    "fig.show()"
   ]
  },
  {
   "cell_type": "markdown",
   "id": "56ace50e-cb8c-4b2e-b63c-2ee2d9e62388",
   "metadata": {},
   "source": [
    "### Capacity Factor\n",
    "\n",
    "I want to plot the capacity factor (% of max MWh) by fuel type, over time.\n",
    "\n",
    "We have the MWh (or MW) each generator actually produced.\n",
    "We need the maximum capacity of each generator. Since generators come and go, but we don't want to reduce the amount for maintenance outages, we'll do a per-generator aggregation based on actual observed output.\n"
   ]
  },
  {
   "cell_type": "code",
   "execution_count": 60,
   "id": "f70415ef-4fce-47aa-a8cc-681873c2da9e",
   "metadata": {},
   "outputs": [],
   "source": [
    "threshold = 0.05"
   ]
  },
  {
   "cell_type": "markdown",
   "id": "1a543f57-edf2-4951-b9ac-78f7fd0b8ca7",
   "metadata": {},
   "source": [
    "Start with non-rooftop solar"
   ]
  },
  {
   "cell_type": "code",
   "execution_count": 61,
   "id": "a35877aa-06df-451d-8fe2-3f65708c9367",
   "metadata": {},
   "outputs": [],
   "source": [
    "dispatchload = (\n",
    "    pl.scan_parquet(os.path.join(nemosis_data_cache, \"*DISPATCHLOAD*.parquet\"), low_memory=True)\n",
    "    .pipe(drop_intervention)\n",
    "    .pipe(parse_datetimes)\n",
    "    .with_columns(\n",
    "        pl.col(\"SETTLEMENTDATE\").dt.date().alias(\"DATE\"),\n",
    "        pl.mean_horizontal(\"TOTALCLEARED\", \"INITIALMW\").alias(\"POWER\")\n",
    "    )\n",
    "    # dedup\n",
    "    # very memory intensive\n",
    "    .group_by(\"DUID\", \"SETTLEMENTDATE\")\n",
    "    .first()\n",
    "    .select(\"DUID\", \"SETTLEMENTDATE\", \"POWER\", \"AVAILABILITY\")\n",
    ")"
   ]
  },
  {
   "cell_type": "code",
   "execution_count": 62,
   "id": "ba37c6a3-b260-4793-a1a5-365acf5786ba",
   "metadata": {},
   "outputs": [],
   "source": [
    "# # dedup dispatchload\n",
    "# (\n",
    "#     dispatchload\n",
    "#     .group_by(\"DUID\", \"SETTLEMENTDATE\")\n",
    "#     .first()\n",
    "#     .select(\"DUID\", \"SETTLEMENTDATE\", \"POWER\", \"AVAILABILITY\")\n",
    "#     .sink_parquet(dispatchload_dedup)\n",
    "# )"
   ]
  },
  {
   "cell_type": "code",
   "execution_count": 63,
   "id": "3168107d-1495-4957-9204-a517978e8900",
   "metadata": {},
   "outputs": [],
   "source": [
    "# dispatchload = pl.scan_parquet(dispatchload_dedup, low_memory=True)"
   ]
  },
  {
   "cell_type": "code",
   "execution_count": 64,
   "id": "9b287c22-789b-4cc2-9973-8518f5c11189",
   "metadata": {},
   "outputs": [],
   "source": [
    "# what is the max availability over all time per duid\n",
    "# this gives us the installed capacity\n",
    "\n",
    "static_max = (\n",
    "    dispatchload\n",
    "    .group_by(\"DUID\")\n",
    "    .agg(pl.col(\"AVAILABILITY\").max().alias(\"MAX_CAPACITY\"))\n",
    ")"
   ]
  },
  {
   "cell_type": "code",
   "execution_count": 65,
   "id": "c5bcf3f3-99c4-4e87-93cd-6a292813a2aa",
   "metadata": {},
   "outputs": [],
   "source": [
    "# when was the first time each generator generated at least 5% of that?\n",
    "# We'll call that the comissioning start date (and end date)\n",
    "\n",
    "start_end = (\n",
    "    dispatchload\n",
    "    .join(static_max, how=\"inner\", on=\"DUID\")\n",
    "    .filter(pl.col(\"AVAILABILITY\") >= threshold * pl.col(\"MAX_CAPACITY\"))\n",
    "    .group_by(\"DUID\", \"MAX_CAPACITY\")\n",
    "    .agg(\n",
    "        pl.col(\"SETTLEMENTDATE\").min().alias(\"START_DATE\"),\n",
    "        pl.col(\"SETTLEMENTDATE\").max().alias(\"END_DATE\"),\n",
    "    )\n",
    ")"
   ]
  },
  {
   "cell_type": "code",
   "execution_count": 66,
   "id": "372ee1ca-8c35-417f-bce4-c29e1a6ca725",
   "metadata": {},
   "outputs": [
    {
     "data": {
      "text/html": [
       "<div><style>\n",
       ".dataframe > thead > tr,\n",
       ".dataframe > tbody > tr {\n",
       "  text-align: right;\n",
       "  white-space: pre-wrap;\n",
       "}\n",
       "</style>\n",
       "<small>shape: (23, 5)</small><table border=\"1\" class=\"dataframe\"><thead><tr><th>DUID</th><th>FUEL_TYPE</th><th>START_DATE</th><th>END_DATE</th><th>MAX_CAPACITY</th></tr><tr><td>str</td><td>str</td><td>datetime[ms]</td><td>datetime[ms]</td><td>f64</td></tr></thead><tbody><tr><td>&quot;TORRB1&quot;</td><td>&quot;gas&quot;</td><td>2013-12-01 00:05:00</td><td>2021-09-30 20:30:00</td><td>210.0</td></tr><tr><td>&quot;BBTHREE3&quot;</td><td>&quot;gas&quot;</td><td>2013-12-01 00:05:00</td><td>2023-10-11 12:15:00</td><td>40.0</td></tr><tr><td>&quot;POR01&quot;</td><td>&quot;gas&quot;</td><td>2013-12-01 00:05:00</td><td>2024-07-01 04:00:00</td><td>50.0</td></tr><tr><td>&quot;POR03&quot;</td><td>&quot;gas&quot;</td><td>2013-12-01 00:05:00</td><td>2024-07-01 04:00:00</td><td>23.0</td></tr><tr><td>&quot;SNUG1&quot;</td><td>&quot;gas&quot;</td><td>2013-12-01 00:05:00</td><td>2024-07-01 04:00:00</td><td>67.0</td></tr><tr><td>&hellip;</td><td>&hellip;</td><td>&hellip;</td><td>&hellip;</td><td>&hellip;</td></tr><tr><td>&quot;CPSA&quot;</td><td>&quot;gas&quot;</td><td>2013-12-10 12:35:00</td><td>2024-12-29 21:00:00</td><td>144.0</td></tr><tr><td>&quot;YABULU2&quot;</td><td>&quot;gas&quot;</td><td>2014-01-02 10:20:00</td><td>2024-12-30 21:10:00</td><td>84.0</td></tr><tr><td>&quot;YABULU&quot;</td><td>&quot;gas&quot;</td><td>2013-12-01 00:05:00</td><td>2024-12-30 21:30:00</td><td>174.0</td></tr><tr><td>&quot;ER04&quot;</td><td>&quot;coal&quot;</td><td>2013-12-01 00:05:00</td><td>2024-12-30 22:00:00</td><td>720.0</td></tr><tr><td>&quot;SWAN_E&quot;</td><td>&quot;gas&quot;</td><td>2013-12-01 00:05:00</td><td>2024-12-30 22:30:00</td><td>385.0</td></tr></tbody></table></div>"
      ],
      "text/plain": [
       "shape: (23, 5)\n",
       "┌──────────┬───────────┬─────────────────────┬─────────────────────┬──────────────┐\n",
       "│ DUID     ┆ FUEL_TYPE ┆ START_DATE          ┆ END_DATE            ┆ MAX_CAPACITY │\n",
       "│ ---      ┆ ---       ┆ ---                 ┆ ---                 ┆ ---          │\n",
       "│ str      ┆ str       ┆ datetime[ms]        ┆ datetime[ms]        ┆ f64          │\n",
       "╞══════════╪═══════════╪═════════════════════╪═════════════════════╪══════════════╡\n",
       "│ TORRB1   ┆ gas       ┆ 2013-12-01 00:05:00 ┆ 2021-09-30 20:30:00 ┆ 210.0        │\n",
       "│ BBTHREE3 ┆ gas       ┆ 2013-12-01 00:05:00 ┆ 2023-10-11 12:15:00 ┆ 40.0         │\n",
       "│ POR01    ┆ gas       ┆ 2013-12-01 00:05:00 ┆ 2024-07-01 04:00:00 ┆ 50.0         │\n",
       "│ POR03    ┆ gas       ┆ 2013-12-01 00:05:00 ┆ 2024-07-01 04:00:00 ┆ 23.0         │\n",
       "│ SNUG1    ┆ gas       ┆ 2013-12-01 00:05:00 ┆ 2024-07-01 04:00:00 ┆ 67.0         │\n",
       "│ …        ┆ …         ┆ …                   ┆ …                   ┆ …            │\n",
       "│ CPSA     ┆ gas       ┆ 2013-12-10 12:35:00 ┆ 2024-12-29 21:00:00 ┆ 144.0        │\n",
       "│ YABULU2  ┆ gas       ┆ 2014-01-02 10:20:00 ┆ 2024-12-30 21:10:00 ┆ 84.0         │\n",
       "│ YABULU   ┆ gas       ┆ 2013-12-01 00:05:00 ┆ 2024-12-30 21:30:00 ┆ 174.0        │\n",
       "│ ER04     ┆ coal      ┆ 2013-12-01 00:05:00 ┆ 2024-12-30 22:00:00 ┆ 720.0        │\n",
       "│ SWAN_E   ┆ gas       ┆ 2013-12-01 00:05:00 ┆ 2024-12-30 22:30:00 ┆ 385.0        │\n",
       "└──────────┴───────────┴─────────────────────┴─────────────────────┴──────────────┘"
      ]
     },
     "execution_count": 66,
     "metadata": {},
     "output_type": "execute_result"
    }
   ],
   "source": [
    "# have we had any retirements?\n",
    "(\n",
    "    start_end\n",
    "    .join(static, on=\"DUID\")\n",
    "    .filter(pl.col(\"FUEL_TYPE\").is_in([\"coal\", \"gas\"]))\n",
    "    .sort(\"END_DATE\")\n",
    "    .join(static_max, how=\"inner\", on=\"DUID\")\n",
    "    .filter(pl.col(\"END_DATE\") < end_time - dt.timedelta(days=1))\n",
    "    .select(\"DUID\", \"FUEL_TYPE\", \"START_DATE\", \"END_DATE\", \"MAX_CAPACITY\")\n",
    "    .sort(\"END_DATE\")\n",
    "    .collect(engine=\"streaming\")\n",
    ")"
   ]
  },
  {
   "cell_type": "code",
   "execution_count": 67,
   "id": "f43ab743-c80f-473f-969f-2e268e93d38e",
   "metadata": {},
   "outputs": [],
   "source": [
    "# filter in only those intervals between start and end comissioning dates\n",
    "# and add fuel type\n",
    "dl_filtered = (\n",
    "    dispatchload\n",
    "    .join_where(\n",
    "        start_end,\n",
    "        (pl.col(\"DUID\") == pl.col(\"DUID_right\")) &\n",
    "        (pl.col(\"SETTLEMENTDATE\") >= pl.col(\"START_DATE\")) &\n",
    "        (pl.col(\"SETTLEMENTDATE\") <= pl.col(\"END_DATE\")),\n",
    "        suffix=\"_right\"\n",
    "    )\n",
    "    .drop(\"DUID_right\", \"START_DATE\", \"END_DATE\")\n",
    "    .join(static, on=\"DUID\")\n",
    "    .with_columns(\n",
    "        pl.col(\"FUEL_TYPE\").fill_null(value=\"UNKNOWN\"),\n",
    "    )\n",
    "    # sum generators (DUID) together, to aggregate to fuel type\n",
    "    .group_by(\"FUEL_TYPE\", pl.col(\"SETTLEMENTDATE\").alias(\"INTERVAL_END\"))\n",
    "    .agg(\n",
    "        pl.col(\"POWER\").sum(),\n",
    "        #pl.col(\"MAX_CAPACITY\").sum(), # based on start/end date\n",
    "        pl.col(\"AVAILABILITY\").sum().alias(\"MAX_CAPACITY\") # based on max availability these 3 months\n",
    "    )\n",
    ")\n",
    "\n",
    "# now we have INTERVAL_END, FUEL_TYPE, POWER, MAX_CAPACITY\n",
    "# for everything except rooftop solar"
   ]
  },
  {
   "cell_type": "code",
   "execution_count": 68,
   "id": "cabc3cdb-28ce-4a2b-83ae-7aa18dc18e95",
   "metadata": {},
   "outputs": [],
   "source": [
    "# find max capacity of rooftop solar\n",
    "# just use cumulative sum\n",
    "\n",
    "solar_power_and_capacity = (    \n",
    "    pl.scan_parquet(sorted_rooftop_path)\n",
    "    .group_by(\"INTERVAL_END\")\n",
    "    .agg(\n",
    "        pl.col(\"POWER\").sum()\n",
    "    )\n",
    "    .sort(\"INTERVAL_END\")\n",
    "    .select(\n",
    "        \"INTERVAL_END\",\n",
    "        \"POWER\",\n",
    "        pl.col(\"POWER\").cum_max().alias(\"MAX_CAPACITY\")\n",
    "    )\n",
    "    .with_columns(\n",
    "        pl.lit(\"solar_rooftop\").alias(\"FUEL_TYPE\")\n",
    "    )\n",
    ")"
   ]
  },
  {
   "cell_type": "code",
   "execution_count": 70,
   "id": "fe94464f-1bad-40a8-b312-19feffbacd04",
   "metadata": {
    "scrolled": true
   },
   "outputs": [],
   "source": [
    "# combine rooftop solar with the rest\n",
    "results_path = os.path.join(results_dir, \"capacity_factor.parquet\")\n",
    "(\n",
    "    pl.concat([solar_power_and_capacity, dl_filtered], how='diagonal_relaxed')\n",
    "    .filter(pl.col(\"INTERVAL_END\").is_between(start_time, end_time))\n",
    "    .sort(\"INTERVAL_END\")\n",
    "    .group_by_dynamic(\n",
    "        index_column=\"INTERVAL_END\",\n",
    "        every=\"1y\", # 3mo\n",
    "        label=\"left\",\n",
    "        group_by=[\"FUEL_TYPE\"],\n",
    "    )\n",
    "    .agg(\n",
    "        pl.col(\"MAX_CAPACITY\").max().alias(\"CAPACITY_MW\"),\n",
    "        pl.col(\"POWER\").mean().alias(\"POWER_MW\"),\n",
    "        (pl.col(\"POWER\") / pl.col(\"MAX_CAPACITY\").max()).mean().alias(\"CAPACITY_FACTOR\"),\n",
    "        pl.len().alias(\"COUNT\")\n",
    "    )\n",
    "    .rename({\"INTERVAL_END\": \"INTERVAL_START\"})\n",
    "    .sort(\"INTERVAL_START\", \"FUEL_TYPE\")\n",
    "    .sink_parquet(results_path)\n",
    "    #.collect(engine=\"streaming\")\n",
    ")\n"
   ]
  },
  {
   "cell_type": "code",
   "execution_count": 71,
   "id": "8ed514b9-0fa4-4057-bf07-81b891ee977d",
   "metadata": {
    "scrolled": true
   },
   "outputs": [
    {
     "data": {
      "text/html": [
       "<div><style>\n",
       ".dataframe > thead > tr,\n",
       ".dataframe > tbody > tr {\n",
       "  text-align: right;\n",
       "  white-space: pre-wrap;\n",
       "}\n",
       "</style>\n",
       "<small>shape: (87, 8)</small><table border=\"1\" class=\"dataframe\"><thead><tr><th>FUEL_TYPE</th><th>INTERVAL_START</th><th>CAPACITY_MW</th><th>POWER_MW</th><th>CAPACITY_FACTOR</th><th>COUNT</th><th>CAPACITY_GW</th><th>POWER_GW</th></tr><tr><td>str</td><td>datetime[ms]</td><td>f64</td><td>f64</td><td>f64</td><td>u32</td><td>f64</td><td>f64</td></tr></thead><tbody><tr><td>&quot;coal&quot;</td><td>2014-01-01 00:00:00</td><td>19979.0</td><td>13843.606571</td><td>0.692908</td><td>105119</td><td>19.979</td><td>13.843607</td></tr><tr><td>&quot;gas&quot;</td><td>2014-01-01 00:00:00</td><td>9325.0</td><td>2833.509041</td><td>0.303862</td><td>105119</td><td>9.325</td><td>2.833509</td></tr><tr><td>&quot;hydro&quot;</td><td>2014-01-01 00:00:00</td><td>7681.0</td><td>1541.388426</td><td>0.200675</td><td>105119</td><td>7.681</td><td>1.541388</td></tr><tr><td>&quot;pumps&quot;</td><td>2014-01-01 00:00:00</td><td>635.0</td><td>13.67635</td><td>0.021538</td><td>105119</td><td>0.635</td><td>0.013676</td></tr><tr><td>&quot;wind&quot;</td><td>2014-01-01 00:00:00</td><td>2085.592</td><td>623.380326</td><td>0.298899</td><td>105119</td><td>2.085592</td><td>0.62338</td></tr><tr><td>&hellip;</td><td>&hellip;</td><td>&hellip;</td><td>&hellip;</td><td>&hellip;</td><td>&hellip;</td><td>&hellip;</td><td>&hellip;</td></tr><tr><td>&quot;hydro&quot;</td><td>2024-01-01 00:00:00</td><td>7189.0</td><td>1503.475738</td><td>0.209136</td><td>101815</td><td>7.189</td><td>1.503476</td></tr><tr><td>&quot;pumps&quot;</td><td>2024-01-01 00:00:00</td><td>1279.0</td><td>221.343206</td><td>0.17306</td><td>101707</td><td>1.279</td><td>0.221343</td></tr><tr><td>&quot;solar_gridscale&quot;</td><td>2024-01-01 00:00:00</td><td>8318.22552</td><td>1785.304653</td><td>0.214626</td><td>101815</td><td>8.318226</td><td>1.785305</td></tr><tr><td>&quot;solar_rooftop&quot;</td><td>2024-01-01 00:00:00</td><td>14980.471</td><td>2979.743749</td><td>0.198909</td><td>105396</td><td>14.980471</td><td>2.979744</td></tr><tr><td>&quot;wind&quot;</td><td>2024-01-01 00:00:00</td><td>8202.35319</td><td>2978.362157</td><td>0.363111</td><td>101815</td><td>8.202353</td><td>2.978362</td></tr></tbody></table></div>"
      ],
      "text/plain": [
       "shape: (87, 8)\n",
       "┌────────────┬────────────┬────────────┬────────────┬────────────┬────────┬────────────┬───────────┐\n",
       "│ FUEL_TYPE  ┆ INTERVAL_S ┆ CAPACITY_M ┆ POWER_MW   ┆ CAPACITY_F ┆ COUNT  ┆ CAPACITY_G ┆ POWER_GW  │\n",
       "│ ---        ┆ TART       ┆ W          ┆ ---        ┆ ACTOR      ┆ ---    ┆ W          ┆ ---       │\n",
       "│ str        ┆ ---        ┆ ---        ┆ f64        ┆ ---        ┆ u32    ┆ ---        ┆ f64       │\n",
       "│            ┆ datetime[m ┆ f64        ┆            ┆ f64        ┆        ┆ f64        ┆           │\n",
       "│            ┆ s]         ┆            ┆            ┆            ┆        ┆            ┆           │\n",
       "╞════════════╪════════════╪════════════╪════════════╪════════════╪════════╪════════════╪═══════════╡\n",
       "│ coal       ┆ 2014-01-01 ┆ 19979.0    ┆ 13843.6065 ┆ 0.692908   ┆ 105119 ┆ 19.979     ┆ 13.843607 │\n",
       "│            ┆ 00:00:00   ┆            ┆ 71         ┆            ┆        ┆            ┆           │\n",
       "│ gas        ┆ 2014-01-01 ┆ 9325.0     ┆ 2833.50904 ┆ 0.303862   ┆ 105119 ┆ 9.325      ┆ 2.833509  │\n",
       "│            ┆ 00:00:00   ┆            ┆ 1          ┆            ┆        ┆            ┆           │\n",
       "│ hydro      ┆ 2014-01-01 ┆ 7681.0     ┆ 1541.38842 ┆ 0.200675   ┆ 105119 ┆ 7.681      ┆ 1.541388  │\n",
       "│            ┆ 00:00:00   ┆            ┆ 6          ┆            ┆        ┆            ┆           │\n",
       "│ pumps      ┆ 2014-01-01 ┆ 635.0      ┆ 13.67635   ┆ 0.021538   ┆ 105119 ┆ 0.635      ┆ 0.013676  │\n",
       "│            ┆ 00:00:00   ┆            ┆            ┆            ┆        ┆            ┆           │\n",
       "│ wind       ┆ 2014-01-01 ┆ 2085.592   ┆ 623.380326 ┆ 0.298899   ┆ 105119 ┆ 2.085592   ┆ 0.62338   │\n",
       "│            ┆ 00:00:00   ┆            ┆            ┆            ┆        ┆            ┆           │\n",
       "│ …          ┆ …          ┆ …          ┆ …          ┆ …          ┆ …      ┆ …          ┆ …         │\n",
       "│ hydro      ┆ 2024-01-01 ┆ 7189.0     ┆ 1503.47573 ┆ 0.209136   ┆ 101815 ┆ 7.189      ┆ 1.503476  │\n",
       "│            ┆ 00:00:00   ┆            ┆ 8          ┆            ┆        ┆            ┆           │\n",
       "│ pumps      ┆ 2024-01-01 ┆ 1279.0     ┆ 221.343206 ┆ 0.17306    ┆ 101707 ┆ 1.279      ┆ 0.221343  │\n",
       "│            ┆ 00:00:00   ┆            ┆            ┆            ┆        ┆            ┆           │\n",
       "│ solar_grid ┆ 2024-01-01 ┆ 8318.22552 ┆ 1785.30465 ┆ 0.214626   ┆ 101815 ┆ 8.318226   ┆ 1.785305  │\n",
       "│ scale      ┆ 00:00:00   ┆            ┆ 3          ┆            ┆        ┆            ┆           │\n",
       "│ solar_roof ┆ 2024-01-01 ┆ 14980.471  ┆ 2979.74374 ┆ 0.198909   ┆ 105396 ┆ 14.980471  ┆ 2.979744  │\n",
       "│ top        ┆ 00:00:00   ┆            ┆ 9          ┆            ┆        ┆            ┆           │\n",
       "│ wind       ┆ 2024-01-01 ┆ 8202.35319 ┆ 2978.36215 ┆ 0.363111   ┆ 101815 ┆ 8.202353   ┆ 2.978362  │\n",
       "│            ┆ 00:00:00   ┆            ┆ 7          ┆            ┆        ┆            ┆           │\n",
       "└────────────┴────────────┴────────────┴────────────┴────────────┴────────┴────────────┴───────────┘"
      ]
     },
     "execution_count": 71,
     "metadata": {},
     "output_type": "execute_result"
    }
   ],
   "source": [
    "results_df = (\n",
    "    pl.read_parquet(results_path)\n",
    "    .with_columns(\n",
    "        (pl.col(\"CAPACITY_MW\") * gw_per_mw).alias(\"CAPACITY_GW\"),\n",
    "        (pl.col(\"POWER_MW\") * gw_per_mw).alias(\"POWER_GW\"),\n",
    "        \n",
    "    )\n",
    ")\n",
    "results_df"
   ]
  },
  {
   "cell_type": "code",
   "execution_count": 93,
   "id": "cf68debc-545d-4c6f-96cb-5136eec1ba44",
   "metadata": {},
   "outputs": [
    {
     "name": "stderr",
     "output_type": "stream",
     "text": [
      "/tmp/ipykernel_4202/3738308276.py:27: DeprecationWarning:\n",
      "\n",
      "\n",
      "Support for Kaleido versions less than 1.0.0 is deprecated and will be removed after September 2025.\n",
      "Please upgrade Kaleido to version 1.0.0 or greater (`pip install 'kaleido>=1.0.0'` or `pip install 'plotly[kaleido]'`).\n",
      "\n",
      "\n"
     ]
    },
    {
     "data": {
      "application/vnd.plotly.v1+json": {
       "config": {
        "plotlyServerURL": "https://plot.ly"
       },
       "data": [
        {
         "hovertemplate": "Fuel Type=coal<br>Time=%{x}<br>Installed Capacity (GW)=%{y}<extra></extra>",
         "legendgroup": "coal",
         "line": {
          "color": "brown",
          "dash": "solid"
         },
         "marker": {
          "symbol": "circle"
         },
         "mode": "lines",
         "name": "coal",
         "orientation": "v",
         "showlegend": true,
         "type": "scatter",
         "x": [
          "2014-01-01T00:00:00.000",
          "2015-01-01T00:00:00.000",
          "2016-01-01T00:00:00.000",
          "2017-01-01T00:00:00.000",
          "2018-01-01T00:00:00.000",
          "2019-01-01T00:00:00.000",
          "2020-01-01T00:00:00.000",
          "2021-01-01T00:00:00.000",
          "2022-01-01T00:00:00.000",
          "2023-01-01T00:00:00.000",
          "2024-01-01T00:00:00.000"
         ],
         "xaxis": "x",
         "y": {
          "bdata": "tMh2vp/6M0C/nxov3eQzQCPb+X5q/DNAMzMzMzNzNEAdWmQ73480QDzfT42X7jNATDeJQWDlM0CuR+F6FK4zQOj7qfHSrTJA7nw/NV5aM0Bpke18P7UzQA==",
          "dtype": "f8"
         },
         "yaxis": "y"
        },
        {
         "hovertemplate": "Fuel Type=gas<br>Time=%{x}<br>Installed Capacity (GW)=%{y}<extra></extra>",
         "legendgroup": "gas",
         "line": {
          "color": "black",
          "dash": "solid"
         },
         "marker": {
          "symbol": "circle"
         },
         "mode": "lines",
         "name": "gas",
         "orientation": "v",
         "showlegend": true,
         "type": "scatter",
         "x": [
          "2014-01-01T00:00:00.000",
          "2015-01-01T00:00:00.000",
          "2016-01-01T00:00:00.000",
          "2017-01-01T00:00:00.000",
          "2018-01-01T00:00:00.000",
          "2019-01-01T00:00:00.000",
          "2020-01-01T00:00:00.000",
          "2021-01-01T00:00:00.000",
          "2022-01-01T00:00:00.000",
          "2023-01-01T00:00:00.000",
          "2024-01-01T00:00:00.000"
         ],
         "xaxis": "x",
         "y": {
          "bdata": "Z2ZmZmamIkDP91PjpRsiQH9qvHSTmCJAMzMzMzMzI0CUGARWDi0jQNNNYhBYOSNAexSuR+F6JEBiEFg5tAgjQI/C9ShcTyJA+n5qvHRTI0AhsHJoka0jQA==",
          "dtype": "f8"
         },
         "yaxis": "y"
        },
        {
         "hovertemplate": "Fuel Type=wind<br>Time=%{x}<br>Installed Capacity (GW)=%{y}<extra></extra>",
         "legendgroup": "wind",
         "line": {
          "color": "green",
          "dash": "solid"
         },
         "marker": {
          "symbol": "circle"
         },
         "mode": "lines",
         "name": "wind",
         "orientation": "v",
         "showlegend": true,
         "type": "scatter",
         "x": [
          "2014-01-01T00:00:00.000",
          "2015-01-01T00:00:00.000",
          "2016-01-01T00:00:00.000",
          "2017-01-01T00:00:00.000",
          "2018-01-01T00:00:00.000",
          "2019-01-01T00:00:00.000",
          "2020-01-01T00:00:00.000",
          "2021-01-01T00:00:00.000",
          "2022-01-01T00:00:00.000",
          "2023-01-01T00:00:00.000",
          "2024-01-01T00:00:00.000"
         ],
         "xaxis": "x",
         "y": {
          "bdata": "1WTG20qvAECOAG4WL/YCQFgDlIYaxQNAnQyOkleHBkAr+dhdoEQLQMpt+x71NxBAXUHDMJpwFED5LZ2DJYoXQGxAUn4xIxxAfIaiBvRuH0AilVrWmmcgQA==",
          "dtype": "f8"
         },
         "yaxis": "y"
        },
        {
         "hovertemplate": "Fuel Type=solar_gridscale<br>Time=%{x}<br>Installed Capacity (GW)=%{y}<extra></extra>",
         "legendgroup": "solar_gridscale",
         "line": {
          "color": "orange",
          "dash": "solid"
         },
         "marker": {
          "symbol": "circle"
         },
         "mode": "lines",
         "name": "solar_gridscale",
         "orientation": "v",
         "showlegend": true,
         "type": "scatter",
         "x": [
          "2015-01-01T00:00:00.000",
          "2016-01-01T00:00:00.000",
          "2017-01-01T00:00:00.000",
          "2018-01-01T00:00:00.000",
          "2019-01-01T00:00:00.000",
          "2020-01-01T00:00:00.000",
          "2021-01-01T00:00:00.000",
          "2022-01-01T00:00:00.000",
          "2023-01-01T00:00:00.000",
          "2024-01-01T00:00:00.000"
         ],
         "xaxis": "x",
         "y": {
          "bdata": "XtbEAl/Rwz/nkqrtJvjKP1XE6SRbXc4/IZvkR/yK9z+EIuVAcj8DQAlyDqZ6pQlA1wAZ+FkmE0CG2dMnHEoXQB09XWHq+BxAIU6SdO6iIEA=",
          "dtype": "f8"
         },
         "yaxis": "y"
        },
        {
         "hovertemplate": "Fuel Type=solar_rooftop<br>Time=%{x}<br>Installed Capacity (GW)=%{y}<extra></extra>",
         "legendgroup": "solar_rooftop",
         "line": {
          "color": "yellow",
          "dash": "solid"
         },
         "marker": {
          "symbol": "circle"
         },
         "mode": "lines",
         "name": "solar_rooftop",
         "orientation": "v",
         "showlegend": true,
         "type": "scatter",
         "x": [
          "2016-01-01T00:00:00.000",
          "2017-01-01T00:00:00.000",
          "2018-01-01T00:00:00.000",
          "2019-01-01T00:00:00.000",
          "2020-01-01T00:00:00.000",
          "2021-01-01T00:00:00.000",
          "2022-01-01T00:00:00.000",
          "2023-01-01T00:00:00.000",
          "2024-01-01T00:00:00.000"
         ],
         "xaxis": "x",
         "y": {
          "bdata": "0Jz1KceECkCPWItPAXAOQPBQFOgTCRNA7IuEtpwLGEBBLnHkgbgeQOjEHtrH2iNAd9zwu+leJUDry9JOzR0qQFRaf0sA9i1A",
          "dtype": "f8"
         },
         "yaxis": "y"
        }
       ],
       "layout": {
        "height": 300,
        "legend": {
         "title": {
          "text": "Fuel Type"
         },
         "tracegroupgap": 0
        },
        "margin": {
         "b": 20,
         "l": 20,
         "r": 20,
         "t": 20
        },
        "paper_bgcolor": "rgba(0,0,0,0)",
        "showlegend": true,
        "template": {
         "data": {
          "bar": [
           {
            "error_x": {
             "color": "#2a3f5f"
            },
            "error_y": {
             "color": "#2a3f5f"
            },
            "marker": {
             "line": {
              "color": "#E5ECF6",
              "width": 0.5
             },
             "pattern": {
              "fillmode": "overlay",
              "size": 10,
              "solidity": 0.2
             }
            },
            "type": "bar"
           }
          ],
          "barpolar": [
           {
            "marker": {
             "line": {
              "color": "#E5ECF6",
              "width": 0.5
             },
             "pattern": {
              "fillmode": "overlay",
              "size": 10,
              "solidity": 0.2
             }
            },
            "type": "barpolar"
           }
          ],
          "carpet": [
           {
            "aaxis": {
             "endlinecolor": "#2a3f5f",
             "gridcolor": "white",
             "linecolor": "white",
             "minorgridcolor": "white",
             "startlinecolor": "#2a3f5f"
            },
            "baxis": {
             "endlinecolor": "#2a3f5f",
             "gridcolor": "white",
             "linecolor": "white",
             "minorgridcolor": "white",
             "startlinecolor": "#2a3f5f"
            },
            "type": "carpet"
           }
          ],
          "choropleth": [
           {
            "colorbar": {
             "outlinewidth": 0,
             "ticks": ""
            },
            "type": "choropleth"
           }
          ],
          "contour": [
           {
            "colorbar": {
             "outlinewidth": 0,
             "ticks": ""
            },
            "colorscale": [
             [
              0,
              "#0d0887"
             ],
             [
              0.1111111111111111,
              "#46039f"
             ],
             [
              0.2222222222222222,
              "#7201a8"
             ],
             [
              0.3333333333333333,
              "#9c179e"
             ],
             [
              0.4444444444444444,
              "#bd3786"
             ],
             [
              0.5555555555555556,
              "#d8576b"
             ],
             [
              0.6666666666666666,
              "#ed7953"
             ],
             [
              0.7777777777777778,
              "#fb9f3a"
             ],
             [
              0.8888888888888888,
              "#fdca26"
             ],
             [
              1,
              "#f0f921"
             ]
            ],
            "type": "contour"
           }
          ],
          "contourcarpet": [
           {
            "colorbar": {
             "outlinewidth": 0,
             "ticks": ""
            },
            "type": "contourcarpet"
           }
          ],
          "heatmap": [
           {
            "colorbar": {
             "outlinewidth": 0,
             "ticks": ""
            },
            "colorscale": [
             [
              0,
              "#0d0887"
             ],
             [
              0.1111111111111111,
              "#46039f"
             ],
             [
              0.2222222222222222,
              "#7201a8"
             ],
             [
              0.3333333333333333,
              "#9c179e"
             ],
             [
              0.4444444444444444,
              "#bd3786"
             ],
             [
              0.5555555555555556,
              "#d8576b"
             ],
             [
              0.6666666666666666,
              "#ed7953"
             ],
             [
              0.7777777777777778,
              "#fb9f3a"
             ],
             [
              0.8888888888888888,
              "#fdca26"
             ],
             [
              1,
              "#f0f921"
             ]
            ],
            "type": "heatmap"
           }
          ],
          "histogram": [
           {
            "marker": {
             "pattern": {
              "fillmode": "overlay",
              "size": 10,
              "solidity": 0.2
             }
            },
            "type": "histogram"
           }
          ],
          "histogram2d": [
           {
            "colorbar": {
             "outlinewidth": 0,
             "ticks": ""
            },
            "colorscale": [
             [
              0,
              "#0d0887"
             ],
             [
              0.1111111111111111,
              "#46039f"
             ],
             [
              0.2222222222222222,
              "#7201a8"
             ],
             [
              0.3333333333333333,
              "#9c179e"
             ],
             [
              0.4444444444444444,
              "#bd3786"
             ],
             [
              0.5555555555555556,
              "#d8576b"
             ],
             [
              0.6666666666666666,
              "#ed7953"
             ],
             [
              0.7777777777777778,
              "#fb9f3a"
             ],
             [
              0.8888888888888888,
              "#fdca26"
             ],
             [
              1,
              "#f0f921"
             ]
            ],
            "type": "histogram2d"
           }
          ],
          "histogram2dcontour": [
           {
            "colorbar": {
             "outlinewidth": 0,
             "ticks": ""
            },
            "colorscale": [
             [
              0,
              "#0d0887"
             ],
             [
              0.1111111111111111,
              "#46039f"
             ],
             [
              0.2222222222222222,
              "#7201a8"
             ],
             [
              0.3333333333333333,
              "#9c179e"
             ],
             [
              0.4444444444444444,
              "#bd3786"
             ],
             [
              0.5555555555555556,
              "#d8576b"
             ],
             [
              0.6666666666666666,
              "#ed7953"
             ],
             [
              0.7777777777777778,
              "#fb9f3a"
             ],
             [
              0.8888888888888888,
              "#fdca26"
             ],
             [
              1,
              "#f0f921"
             ]
            ],
            "type": "histogram2dcontour"
           }
          ],
          "mesh3d": [
           {
            "colorbar": {
             "outlinewidth": 0,
             "ticks": ""
            },
            "type": "mesh3d"
           }
          ],
          "parcoords": [
           {
            "line": {
             "colorbar": {
              "outlinewidth": 0,
              "ticks": ""
             }
            },
            "type": "parcoords"
           }
          ],
          "pie": [
           {
            "automargin": true,
            "type": "pie"
           }
          ],
          "scatter": [
           {
            "fillpattern": {
             "fillmode": "overlay",
             "size": 10,
             "solidity": 0.2
            },
            "type": "scatter"
           }
          ],
          "scatter3d": [
           {
            "line": {
             "colorbar": {
              "outlinewidth": 0,
              "ticks": ""
             }
            },
            "marker": {
             "colorbar": {
              "outlinewidth": 0,
              "ticks": ""
             }
            },
            "type": "scatter3d"
           }
          ],
          "scattercarpet": [
           {
            "marker": {
             "colorbar": {
              "outlinewidth": 0,
              "ticks": ""
             }
            },
            "type": "scattercarpet"
           }
          ],
          "scattergeo": [
           {
            "marker": {
             "colorbar": {
              "outlinewidth": 0,
              "ticks": ""
             }
            },
            "type": "scattergeo"
           }
          ],
          "scattergl": [
           {
            "marker": {
             "colorbar": {
              "outlinewidth": 0,
              "ticks": ""
             }
            },
            "type": "scattergl"
           }
          ],
          "scattermap": [
           {
            "marker": {
             "colorbar": {
              "outlinewidth": 0,
              "ticks": ""
             }
            },
            "type": "scattermap"
           }
          ],
          "scattermapbox": [
           {
            "marker": {
             "colorbar": {
              "outlinewidth": 0,
              "ticks": ""
             }
            },
            "type": "scattermapbox"
           }
          ],
          "scatterpolar": [
           {
            "marker": {
             "colorbar": {
              "outlinewidth": 0,
              "ticks": ""
             }
            },
            "type": "scatterpolar"
           }
          ],
          "scatterpolargl": [
           {
            "marker": {
             "colorbar": {
              "outlinewidth": 0,
              "ticks": ""
             }
            },
            "type": "scatterpolargl"
           }
          ],
          "scatterternary": [
           {
            "marker": {
             "colorbar": {
              "outlinewidth": 0,
              "ticks": ""
             }
            },
            "type": "scatterternary"
           }
          ],
          "surface": [
           {
            "colorbar": {
             "outlinewidth": 0,
             "ticks": ""
            },
            "colorscale": [
             [
              0,
              "#0d0887"
             ],
             [
              0.1111111111111111,
              "#46039f"
             ],
             [
              0.2222222222222222,
              "#7201a8"
             ],
             [
              0.3333333333333333,
              "#9c179e"
             ],
             [
              0.4444444444444444,
              "#bd3786"
             ],
             [
              0.5555555555555556,
              "#d8576b"
             ],
             [
              0.6666666666666666,
              "#ed7953"
             ],
             [
              0.7777777777777778,
              "#fb9f3a"
             ],
             [
              0.8888888888888888,
              "#fdca26"
             ],
             [
              1,
              "#f0f921"
             ]
            ],
            "type": "surface"
           }
          ],
          "table": [
           {
            "cells": {
             "fill": {
              "color": "#EBF0F8"
             },
             "line": {
              "color": "white"
             }
            },
            "header": {
             "fill": {
              "color": "#C8D4E3"
             },
             "line": {
              "color": "white"
             }
            },
            "type": "table"
           }
          ]
         },
         "layout": {
          "annotationdefaults": {
           "arrowcolor": "#2a3f5f",
           "arrowhead": 0,
           "arrowwidth": 1
          },
          "autotypenumbers": "strict",
          "coloraxis": {
           "colorbar": {
            "outlinewidth": 0,
            "ticks": ""
           }
          },
          "colorscale": {
           "diverging": [
            [
             0,
             "#8e0152"
            ],
            [
             0.1,
             "#c51b7d"
            ],
            [
             0.2,
             "#de77ae"
            ],
            [
             0.3,
             "#f1b6da"
            ],
            [
             0.4,
             "#fde0ef"
            ],
            [
             0.5,
             "#f7f7f7"
            ],
            [
             0.6,
             "#e6f5d0"
            ],
            [
             0.7,
             "#b8e186"
            ],
            [
             0.8,
             "#7fbc41"
            ],
            [
             0.9,
             "#4d9221"
            ],
            [
             1,
             "#276419"
            ]
           ],
           "sequential": [
            [
             0,
             "#0d0887"
            ],
            [
             0.1111111111111111,
             "#46039f"
            ],
            [
             0.2222222222222222,
             "#7201a8"
            ],
            [
             0.3333333333333333,
             "#9c179e"
            ],
            [
             0.4444444444444444,
             "#bd3786"
            ],
            [
             0.5555555555555556,
             "#d8576b"
            ],
            [
             0.6666666666666666,
             "#ed7953"
            ],
            [
             0.7777777777777778,
             "#fb9f3a"
            ],
            [
             0.8888888888888888,
             "#fdca26"
            ],
            [
             1,
             "#f0f921"
            ]
           ],
           "sequentialminus": [
            [
             0,
             "#0d0887"
            ],
            [
             0.1111111111111111,
             "#46039f"
            ],
            [
             0.2222222222222222,
             "#7201a8"
            ],
            [
             0.3333333333333333,
             "#9c179e"
            ],
            [
             0.4444444444444444,
             "#bd3786"
            ],
            [
             0.5555555555555556,
             "#d8576b"
            ],
            [
             0.6666666666666666,
             "#ed7953"
            ],
            [
             0.7777777777777778,
             "#fb9f3a"
            ],
            [
             0.8888888888888888,
             "#fdca26"
            ],
            [
             1,
             "#f0f921"
            ]
           ]
          },
          "colorway": [
           "#636efa",
           "#EF553B",
           "#00cc96",
           "#ab63fa",
           "#FFA15A",
           "#19d3f3",
           "#FF6692",
           "#B6E880",
           "#FF97FF",
           "#FECB52"
          ],
          "font": {
           "color": "#2a3f5f"
          },
          "geo": {
           "bgcolor": "white",
           "lakecolor": "white",
           "landcolor": "#E5ECF6",
           "showlakes": true,
           "showland": true,
           "subunitcolor": "white"
          },
          "hoverlabel": {
           "align": "left"
          },
          "hovermode": "closest",
          "mapbox": {
           "style": "light"
          },
          "paper_bgcolor": "white",
          "plot_bgcolor": "#E5ECF6",
          "polar": {
           "angularaxis": {
            "gridcolor": "white",
            "linecolor": "white",
            "ticks": ""
           },
           "bgcolor": "#E5ECF6",
           "radialaxis": {
            "gridcolor": "white",
            "linecolor": "white",
            "ticks": ""
           }
          },
          "scene": {
           "xaxis": {
            "backgroundcolor": "#E5ECF6",
            "gridcolor": "white",
            "gridwidth": 2,
            "linecolor": "white",
            "showbackground": true,
            "ticks": "",
            "zerolinecolor": "white"
           },
           "yaxis": {
            "backgroundcolor": "#E5ECF6",
            "gridcolor": "white",
            "gridwidth": 2,
            "linecolor": "white",
            "showbackground": true,
            "ticks": "",
            "zerolinecolor": "white"
           },
           "zaxis": {
            "backgroundcolor": "#E5ECF6",
            "gridcolor": "white",
            "gridwidth": 2,
            "linecolor": "white",
            "showbackground": true,
            "ticks": "",
            "zerolinecolor": "white"
           }
          },
          "shapedefaults": {
           "line": {
            "color": "#2a3f5f"
           }
          },
          "ternary": {
           "aaxis": {
            "gridcolor": "white",
            "linecolor": "white",
            "ticks": ""
           },
           "baxis": {
            "gridcolor": "white",
            "linecolor": "white",
            "ticks": ""
           },
           "bgcolor": "#E5ECF6",
           "caxis": {
            "gridcolor": "white",
            "linecolor": "white",
            "ticks": ""
           }
          },
          "title": {
           "x": 0.05
          },
          "xaxis": {
           "automargin": true,
           "gridcolor": "white",
           "linecolor": "white",
           "ticks": "",
           "title": {
            "standoff": 15
           },
           "zerolinecolor": "white",
           "zerolinewidth": 2
          },
          "yaxis": {
           "automargin": true,
           "gridcolor": "white",
           "linecolor": "white",
           "ticks": "",
           "title": {
            "standoff": 15
           },
           "zerolinecolor": "white",
           "zerolinewidth": 2
          }
         }
        },
        "width": 300,
        "xaxis": {
         "anchor": "y",
         "domain": [
          0,
          1
         ],
         "title": {
          "text": "Time"
         }
        },
        "yaxis": {
         "anchor": "x",
         "domain": [
          0,
          1
         ],
         "title": {
          "text": "Installed Capacity (GW)"
         }
        }
       }
      },
      "image/png": "[encoded data removed]"
     },
     "metadata": {},
     "output_type": "display_data"
    },
    {
     "name": "stderr",
     "output_type": "stream",
     "text": [
      "/tmp/ipykernel_4202/3738308276.py:27: DeprecationWarning:\n",
      "\n",
      "\n",
      "Support for Kaleido versions less than 1.0.0 is deprecated and will be removed after September 2025.\n",
      "Please upgrade Kaleido to version 1.0.0 or greater (`pip install 'kaleido>=1.0.0'` or `pip install 'plotly[kaleido]'`).\n",
      "\n",
      "\n"
     ]
    },
    {
     "data": {
      "application/vnd.plotly.v1+json": {
       "config": {
        "plotlyServerURL": "https://plot.ly"
       },
       "data": [
        {
         "hovertemplate": "Fuel Type=coal<br>Time=%{x}<br>Average Power (GW)=%{y}<extra></extra>",
         "legendgroup": "coal",
         "line": {
          "color": "brown",
          "dash": "solid"
         },
         "marker": {
          "symbol": "circle"
         },
         "mode": "lines",
         "name": "coal",
         "orientation": "v",
         "showlegend": true,
         "type": "scatter",
         "x": [
          "2014-01-01T00:00:00.000",
          "2015-01-01T00:00:00.000",
          "2016-01-01T00:00:00.000",
          "2017-01-01T00:00:00.000",
          "2018-01-01T00:00:00.000",
          "2019-01-01T00:00:00.000",
          "2020-01-01T00:00:00.000",
          "2021-01-01T00:00:00.000",
          "2022-01-01T00:00:00.000",
          "2023-01-01T00:00:00.000",
          "2024-01-01T00:00:00.000"
         ],
         "xaxis": "x",
         "y": {
          "bdata": "N3pOM+2vK0AF4dkdgGItQE4l7bYGuC1A3nMGddVhL0CvUgktPlUvQIM7OSf5hC1Ata05elyVLEDVwbIPQVorQAmUdfqDMSpAMs/D+1hzKkCnjgXND00rQA==",
          "dtype": "f8"
         },
         "yaxis": "y"
        },
        {
         "hovertemplate": "Fuel Type=gas<br>Time=%{x}<br>Average Power (GW)=%{y}<extra></extra>",
         "legendgroup": "gas",
         "line": {
          "color": "black",
          "dash": "solid"
         },
         "marker": {
          "symbol": "circle"
         },
         "mode": "lines",
         "name": "gas",
         "orientation": "v",
         "showlegend": true,
         "type": "scatter",
         "x": [
          "2014-01-01T00:00:00.000",
          "2015-01-01T00:00:00.000",
          "2016-01-01T00:00:00.000",
          "2017-01-01T00:00:00.000",
          "2018-01-01T00:00:00.000",
          "2019-01-01T00:00:00.000",
          "2020-01-01T00:00:00.000",
          "2021-01-01T00:00:00.000",
          "2022-01-01T00:00:00.000",
          "2023-01-01T00:00:00.000",
          "2024-01-01T00:00:00.000"
         ],
         "xaxis": "x",
         "y": {
          "bdata": "AlfGyQarBkAlSlVBIc4BQG9ZcJc7Tvw/AfCiEq8UA0BJfpCh6hv7P5CzofibWv8/ZWL+nM34+T9nM8VK7Wv0PynPqicu8vc/0TyYQ6R98T+zihV5m9DzPw==",
          "dtype": "f8"
         },
         "yaxis": "y"
        },
        {
         "hovertemplate": "Fuel Type=wind<br>Time=%{x}<br>Average Power (GW)=%{y}<extra></extra>",
         "legendgroup": "wind",
         "line": {
          "color": "green",
          "dash": "solid"
         },
         "marker": {
          "symbol": "circle"
         },
         "mode": "lines",
         "name": "wind",
         "orientation": "v",
         "showlegend": true,
         "type": "scatter",
         "x": [
          "2014-01-01T00:00:00.000",
          "2015-01-01T00:00:00.000",
          "2016-01-01T00:00:00.000",
          "2017-01-01T00:00:00.000",
          "2018-01-01T00:00:00.000",
          "2019-01-01T00:00:00.000",
          "2020-01-01T00:00:00.000",
          "2021-01-01T00:00:00.000",
          "2022-01-01T00:00:00.000",
          "2023-01-01T00:00:00.000",
          "2024-01-01T00:00:00.000"
         ],
         "xaxis": "x",
         "y": {
          "bdata": "MS1MTLvy4z+rtlExDK/oPwyShxv1Xew/mX1An03w7T86YYNJwNvzPxAbdnbPp/g/GwoTJQve/T/hqi+wlBwCQAtae1DxnAVASTRNqBszB0BTZ9mJr9MHQA==",
          "dtype": "f8"
         },
         "yaxis": "y"
        },
        {
         "hovertemplate": "Fuel Type=solar_gridscale<br>Time=%{x}<br>Average Power (GW)=%{y}<extra></extra>",
         "legendgroup": "solar_gridscale",
         "line": {
          "color": "orange",
          "dash": "solid"
         },
         "marker": {
          "symbol": "circle"
         },
         "mode": "lines",
         "name": "solar_gridscale",
         "orientation": "v",
         "showlegend": true,
         "type": "scatter",
         "x": [
          "2015-01-01T00:00:00.000",
          "2016-01-01T00:00:00.000",
          "2017-01-01T00:00:00.000",
          "2018-01-01T00:00:00.000",
          "2019-01-01T00:00:00.000",
          "2020-01-01T00:00:00.000",
          "2021-01-01T00:00:00.000",
          "2022-01-01T00:00:00.000",
          "2023-01-01T00:00:00.000",
          "2024-01-01T00:00:00.000"
         ],
         "xaxis": "x",
         "y": {
          "bdata": "kvqF3SBxmz8hDD3FR2WqP3CcxZ3G+a4/VN2MZqWHyD/fYkCaFvDhP1mP687go+c/viWYwQZ97z/1k+F6snr0PxSS2oalcPo/D/O+nJuQ/D8=",
          "dtype": "f8"
         },
         "yaxis": "y"
        },
        {
         "hovertemplate": "Fuel Type=solar_rooftop<br>Time=%{x}<br>Average Power (GW)=%{y}<extra></extra>",
         "legendgroup": "solar_rooftop",
         "line": {
          "color": "yellow",
          "dash": "solid"
         },
         "marker": {
          "symbol": "circle"
         },
         "mode": "lines",
         "name": "solar_rooftop",
         "orientation": "v",
         "showlegend": true,
         "type": "scatter",
         "x": [
          "2016-01-01T00:00:00.000",
          "2017-01-01T00:00:00.000",
          "2018-01-01T00:00:00.000",
          "2019-01-01T00:00:00.000",
          "2020-01-01T00:00:00.000",
          "2021-01-01T00:00:00.000",
          "2022-01-01T00:00:00.000",
          "2023-01-01T00:00:00.000",
          "2024-01-01T00:00:00.000"
         ],
         "xaxis": "x",
         "y": {
          "bdata": "IbOlhfE76T8+NrbAcdDoP9K/to8k/e0/Sw5htdl18z+9I9uh4MH3PzoAMiUFov0/KtUSnoEVAUD6q0HS0yMFQKTC9eOD1gdA",
          "dtype": "f8"
         },
         "yaxis": "y"
        }
       ],
       "layout": {
        "height": 300,
        "legend": {
         "title": {
          "text": "Fuel Type"
         },
         "tracegroupgap": 0
        },
        "margin": {
         "b": 20,
         "l": 20,
         "r": 20,
         "t": 20
        },
        "paper_bgcolor": "rgba(0,0,0,0)",
        "showlegend": true,
        "template": {
         "data": {
          "bar": [
           {
            "error_x": {
             "color": "#2a3f5f"
            },
            "error_y": {
             "color": "#2a3f5f"
            },
            "marker": {
             "line": {
              "color": "#E5ECF6",
              "width": 0.5
             },
             "pattern": {
              "fillmode": "overlay",
              "size": 10,
              "solidity": 0.2
             }
            },
            "type": "bar"
           }
          ],
          "barpolar": [
           {
            "marker": {
             "line": {
              "color": "#E5ECF6",
              "width": 0.5
             },
             "pattern": {
              "fillmode": "overlay",
              "size": 10,
              "solidity": 0.2
             }
            },
            "type": "barpolar"
           }
          ],
          "carpet": [
           {
            "aaxis": {
             "endlinecolor": "#2a3f5f",
             "gridcolor": "white",
             "linecolor": "white",
             "minorgridcolor": "white",
             "startlinecolor": "#2a3f5f"
            },
            "baxis": {
             "endlinecolor": "#2a3f5f",
             "gridcolor": "white",
             "linecolor": "white",
             "minorgridcolor": "white",
             "startlinecolor": "#2a3f5f"
            },
            "type": "carpet"
           }
          ],
          "choropleth": [
           {
            "colorbar": {
             "outlinewidth": 0,
             "ticks": ""
            },
            "type": "choropleth"
           }
          ],
          "contour": [
           {
            "colorbar": {
             "outlinewidth": 0,
             "ticks": ""
            },
            "colorscale": [
             [
              0,
              "#0d0887"
             ],
             [
              0.1111111111111111,
              "#46039f"
             ],
             [
              0.2222222222222222,
              "#7201a8"
             ],
             [
              0.3333333333333333,
              "#9c179e"
             ],
             [
              0.4444444444444444,
              "#bd3786"
             ],
             [
              0.5555555555555556,
              "#d8576b"
             ],
             [
              0.6666666666666666,
              "#ed7953"
             ],
             [
              0.7777777777777778,
              "#fb9f3a"
             ],
             [
              0.8888888888888888,
              "#fdca26"
             ],
             [
              1,
              "#f0f921"
             ]
            ],
            "type": "contour"
           }
          ],
          "contourcarpet": [
           {
            "colorbar": {
             "outlinewidth": 0,
             "ticks": ""
            },
            "type": "contourcarpet"
           }
          ],
          "heatmap": [
           {
            "colorbar": {
             "outlinewidth": 0,
             "ticks": ""
            },
            "colorscale": [
             [
              0,
              "#0d0887"
             ],
             [
              0.1111111111111111,
              "#46039f"
             ],
             [
              0.2222222222222222,
              "#7201a8"
             ],
             [
              0.3333333333333333,
              "#9c179e"
             ],
             [
              0.4444444444444444,
              "#bd3786"
             ],
             [
              0.5555555555555556,
              "#d8576b"
             ],
             [
              0.6666666666666666,
              "#ed7953"
             ],
             [
              0.7777777777777778,
              "#fb9f3a"
             ],
             [
              0.8888888888888888,
              "#fdca26"
             ],
             [
              1,
              "#f0f921"
             ]
            ],
            "type": "heatmap"
           }
          ],
          "histogram": [
           {
            "marker": {
             "pattern": {
              "fillmode": "overlay",
              "size": 10,
              "solidity": 0.2
             }
            },
            "type": "histogram"
           }
          ],
          "histogram2d": [
           {
            "colorbar": {
             "outlinewidth": 0,
             "ticks": ""
            },
            "colorscale": [
             [
              0,
              "#0d0887"
             ],
             [
              0.1111111111111111,
              "#46039f"
             ],
             [
              0.2222222222222222,
              "#7201a8"
             ],
             [
              0.3333333333333333,
              "#9c179e"
             ],
             [
              0.4444444444444444,
              "#bd3786"
             ],
             [
              0.5555555555555556,
              "#d8576b"
             ],
             [
              0.6666666666666666,
              "#ed7953"
             ],
             [
              0.7777777777777778,
              "#fb9f3a"
             ],
             [
              0.8888888888888888,
              "#fdca26"
             ],
             [
              1,
              "#f0f921"
             ]
            ],
            "type": "histogram2d"
           }
          ],
          "histogram2dcontour": [
           {
            "colorbar": {
             "outlinewidth": 0,
             "ticks": ""
            },
            "colorscale": [
             [
              0,
              "#0d0887"
             ],
             [
              0.1111111111111111,
              "#46039f"
             ],
             [
              0.2222222222222222,
              "#7201a8"
             ],
             [
              0.3333333333333333,
              "#9c179e"
             ],
             [
              0.4444444444444444,
              "#bd3786"
             ],
             [
              0.5555555555555556,
              "#d8576b"
             ],
             [
              0.6666666666666666,
              "#ed7953"
             ],
             [
              0.7777777777777778,
              "#fb9f3a"
             ],
             [
              0.8888888888888888,
              "#fdca26"
             ],
             [
              1,
              "#f0f921"
             ]
            ],
            "type": "histogram2dcontour"
           }
          ],
          "mesh3d": [
           {
            "colorbar": {
             "outlinewidth": 0,
             "ticks": ""
            },
            "type": "mesh3d"
           }
          ],
          "parcoords": [
           {
            "line": {
             "colorbar": {
              "outlinewidth": 0,
              "ticks": ""
             }
            },
            "type": "parcoords"
           }
          ],
          "pie": [
           {
            "automargin": true,
            "type": "pie"
           }
          ],
          "scatter": [
           {
            "fillpattern": {
             "fillmode": "overlay",
             "size": 10,
             "solidity": 0.2
            },
            "type": "scatter"
           }
          ],
          "scatter3d": [
           {
            "line": {
             "colorbar": {
              "outlinewidth": 0,
              "ticks": ""
             }
            },
            "marker": {
             "colorbar": {
              "outlinewidth": 0,
              "ticks": ""
             }
            },
            "type": "scatter3d"
           }
          ],
          "scattercarpet": [
           {
            "marker": {
             "colorbar": {
              "outlinewidth": 0,
              "ticks": ""
             }
            },
            "type": "scattercarpet"
           }
          ],
          "scattergeo": [
           {
            "marker": {
             "colorbar": {
              "outlinewidth": 0,
              "ticks": ""
             }
            },
            "type": "scattergeo"
           }
          ],
          "scattergl": [
           {
            "marker": {
             "colorbar": {
              "outlinewidth": 0,
              "ticks": ""
             }
            },
            "type": "scattergl"
           }
          ],
          "scattermap": [
           {
            "marker": {
             "colorbar": {
              "outlinewidth": 0,
              "ticks": ""
             }
            },
            "type": "scattermap"
           }
          ],
          "scattermapbox": [
           {
            "marker": {
             "colorbar": {
              "outlinewidth": 0,
              "ticks": ""
             }
            },
            "type": "scattermapbox"
           }
          ],
          "scatterpolar": [
           {
            "marker": {
             "colorbar": {
              "outlinewidth": 0,
              "ticks": ""
             }
            },
            "type": "scatterpolar"
           }
          ],
          "scatterpolargl": [
           {
            "marker": {
             "colorbar": {
              "outlinewidth": 0,
              "ticks": ""
             }
            },
            "type": "scatterpolargl"
           }
          ],
          "scatterternary": [
           {
            "marker": {
             "colorbar": {
              "outlinewidth": 0,
              "ticks": ""
             }
            },
            "type": "scatterternary"
           }
          ],
          "surface": [
           {
            "colorbar": {
             "outlinewidth": 0,
             "ticks": ""
            },
            "colorscale": [
             [
              0,
              "#0d0887"
             ],
             [
              0.1111111111111111,
              "#46039f"
             ],
             [
              0.2222222222222222,
              "#7201a8"
             ],
             [
              0.3333333333333333,
              "#9c179e"
             ],
             [
              0.4444444444444444,
              "#bd3786"
             ],
             [
              0.5555555555555556,
              "#d8576b"
             ],
             [
              0.6666666666666666,
              "#ed7953"
             ],
             [
              0.7777777777777778,
              "#fb9f3a"
             ],
             [
              0.8888888888888888,
              "#fdca26"
             ],
             [
              1,
              "#f0f921"
             ]
            ],
            "type": "surface"
           }
          ],
          "table": [
           {
            "cells": {
             "fill": {
              "color": "#EBF0F8"
             },
             "line": {
              "color": "white"
             }
            },
            "header": {
             "fill": {
              "color": "#C8D4E3"
             },
             "line": {
              "color": "white"
             }
            },
            "type": "table"
           }
          ]
         },
         "layout": {
          "annotationdefaults": {
           "arrowcolor": "#2a3f5f",
           "arrowhead": 0,
           "arrowwidth": 1
          },
          "autotypenumbers": "strict",
          "coloraxis": {
           "colorbar": {
            "outlinewidth": 0,
            "ticks": ""
           }
          },
          "colorscale": {
           "diverging": [
            [
             0,
             "#8e0152"
            ],
            [
             0.1,
             "#c51b7d"
            ],
            [
             0.2,
             "#de77ae"
            ],
            [
             0.3,
             "#f1b6da"
            ],
            [
             0.4,
             "#fde0ef"
            ],
            [
             0.5,
             "#f7f7f7"
            ],
            [
             0.6,
             "#e6f5d0"
            ],
            [
             0.7,
             "#b8e186"
            ],
            [
             0.8,
             "#7fbc41"
            ],
            [
             0.9,
             "#4d9221"
            ],
            [
             1,
             "#276419"
            ]
           ],
           "sequential": [
            [
             0,
             "#0d0887"
            ],
            [
             0.1111111111111111,
             "#46039f"
            ],
            [
             0.2222222222222222,
             "#7201a8"
            ],
            [
             0.3333333333333333,
             "#9c179e"
            ],
            [
             0.4444444444444444,
             "#bd3786"
            ],
            [
             0.5555555555555556,
             "#d8576b"
            ],
            [
             0.6666666666666666,
             "#ed7953"
            ],
            [
             0.7777777777777778,
             "#fb9f3a"
            ],
            [
             0.8888888888888888,
             "#fdca26"
            ],
            [
             1,
             "#f0f921"
            ]
           ],
           "sequentialminus": [
            [
             0,
             "#0d0887"
            ],
            [
             0.1111111111111111,
             "#46039f"
            ],
            [
             0.2222222222222222,
             "#7201a8"
            ],
            [
             0.3333333333333333,
             "#9c179e"
            ],
            [
             0.4444444444444444,
             "#bd3786"
            ],
            [
             0.5555555555555556,
             "#d8576b"
            ],
            [
             0.6666666666666666,
             "#ed7953"
            ],
            [
             0.7777777777777778,
             "#fb9f3a"
            ],
            [
             0.8888888888888888,
             "#fdca26"
            ],
            [
             1,
             "#f0f921"
            ]
           ]
          },
          "colorway": [
           "#636efa",
           "#EF553B",
           "#00cc96",
           "#ab63fa",
           "#FFA15A",
           "#19d3f3",
           "#FF6692",
           "#B6E880",
           "#FF97FF",
           "#FECB52"
          ],
          "font": {
           "color": "#2a3f5f"
          },
          "geo": {
           "bgcolor": "white",
           "lakecolor": "white",
           "landcolor": "#E5ECF6",
           "showlakes": true,
           "showland": true,
           "subunitcolor": "white"
          },
          "hoverlabel": {
           "align": "left"
          },
          "hovermode": "closest",
          "mapbox": {
           "style": "light"
          },
          "paper_bgcolor": "white",
          "plot_bgcolor": "#E5ECF6",
          "polar": {
           "angularaxis": {
            "gridcolor": "white",
            "linecolor": "white",
            "ticks": ""
           },
           "bgcolor": "#E5ECF6",
           "radialaxis": {
            "gridcolor": "white",
            "linecolor": "white",
            "ticks": ""
           }
          },
          "scene": {
           "xaxis": {
            "backgroundcolor": "#E5ECF6",
            "gridcolor": "white",
            "gridwidth": 2,
            "linecolor": "white",
            "showbackground": true,
            "ticks": "",
            "zerolinecolor": "white"
           },
           "yaxis": {
            "backgroundcolor": "#E5ECF6",
            "gridcolor": "white",
            "gridwidth": 2,
            "linecolor": "white",
            "showbackground": true,
            "ticks": "",
            "zerolinecolor": "white"
           },
           "zaxis": {
            "backgroundcolor": "#E5ECF6",
            "gridcolor": "white",
            "gridwidth": 2,
            "linecolor": "white",
            "showbackground": true,
            "ticks": "",
            "zerolinecolor": "white"
           }
          },
          "shapedefaults": {
           "line": {
            "color": "#2a3f5f"
           }
          },
          "ternary": {
           "aaxis": {
            "gridcolor": "white",
            "linecolor": "white",
            "ticks": ""
           },
           "baxis": {
            "gridcolor": "white",
            "linecolor": "white",
            "ticks": ""
           },
           "bgcolor": "#E5ECF6",
           "caxis": {
            "gridcolor": "white",
            "linecolor": "white",
            "ticks": ""
           }
          },
          "title": {
           "x": 0.05
          },
          "xaxis": {
           "automargin": true,
           "gridcolor": "white",
           "linecolor": "white",
           "ticks": "",
           "title": {
            "standoff": 15
           },
           "zerolinecolor": "white",
           "zerolinewidth": 2
          },
          "yaxis": {
           "automargin": true,
           "gridcolor": "white",
           "linecolor": "white",
           "ticks": "",
           "title": {
            "standoff": 15
           },
           "zerolinecolor": "white",
           "zerolinewidth": 2
          }
         }
        },
        "width": 300,
        "xaxis": {
         "anchor": "y",
         "domain": [
          0,
          1
         ],
         "title": {
          "text": "Time"
         }
        },
        "yaxis": {
         "anchor": "x",
         "domain": [
          0,
          1
         ],
         "title": {
          "text": "Average Power (GW)"
         }
        }
       }
      },
      "image/png": "[encoded data removed]"
     },
     "metadata": {},
     "output_type": "display_data"
    },
    {
     "name": "stderr",
     "output_type": "stream",
     "text": [
      "/tmp/ipykernel_4202/3738308276.py:27: DeprecationWarning:\n",
      "\n",
      "\n",
      "Support for Kaleido versions less than 1.0.0 is deprecated and will be removed after September 2025.\n",
      "Please upgrade Kaleido to version 1.0.0 or greater (`pip install 'kaleido>=1.0.0'` or `pip install 'plotly[kaleido]'`).\n",
      "\n",
      "\n"
     ]
    },
    {
     "data": {
      "application/vnd.plotly.v1+json": {
       "config": {
        "plotlyServerURL": "https://plot.ly"
       },
       "data": [
        {
         "hovertemplate": "Fuel Type=coal<br>Time=%{x}<br>Capacity Factor=%{y}<extra></extra>",
         "legendgroup": "coal",
         "line": {
          "color": "brown",
          "dash": "solid"
         },
         "marker": {
          "symbol": "circle"
         },
         "mode": "lines",
         "name": "coal",
         "orientation": "v",
         "showlegend": true,
         "type": "scatter",
         "x": [
          "2014-01-01T00:00:00.000",
          "2015-01-01T00:00:00.000",
          "2016-01-01T00:00:00.000",
          "2017-01-01T00:00:00.000",
          "2018-01-01T00:00:00.000",
          "2019-01-01T00:00:00.000",
          "2020-01-01T00:00:00.000",
          "2021-01-01T00:00:00.000",
          "2022-01-01T00:00:00.000",
          "2023-01-01T00:00:00.000",
          "2024-01-01T00:00:00.000"
         ],
         "xaxis": "x",
         "y": {
          "bdata": "rJ1vJk0s5j8KqovSEKLnP8Ku6Divyuc/CF/h4KON6D8oWvvtmmHoP3wDciU0suc/hjhIA3385j8Ow4K54zzmP6jWuizKb+Y/0UYM3i3e5T9Nm9hSFyrmPw==",
          "dtype": "f8"
         },
         "yaxis": "y"
        },
        {
         "hovertemplate": "Fuel Type=gas<br>Time=%{x}<br>Capacity Factor=%{y}<extra></extra>",
         "legendgroup": "gas",
         "line": {
          "color": "black",
          "dash": "solid"
         },
         "marker": {
          "symbol": "circle"
         },
         "mode": "lines",
         "name": "gas",
         "orientation": "v",
         "showlegend": true,
         "type": "scatter",
         "x": [
          "2014-01-01T00:00:00.000",
          "2015-01-01T00:00:00.000",
          "2016-01-01T00:00:00.000",
          "2017-01-01T00:00:00.000",
          "2018-01-01T00:00:00.000",
          "2019-01-01T00:00:00.000",
          "2020-01-01T00:00:00.000",
          "2021-01-01T00:00:00.000",
          "2022-01-01T00:00:00.000",
          "2023-01-01T00:00:00.000",
          "2024-01-01T00:00:00.000"
         ],
         "xaxis": "x",
         "y": {
          "bdata": "5QECwXdy0z8glQARA3fPPxRqV8ioWsg/rjq6ySPNzz+efo18gJ7GP4qQao19GMo/37ymomBKxD/HHgbLmSrBP1NLbBPL7MQ/RAifyBT2vD+ahBp6fRzAPw==",
          "dtype": "f8"
         },
         "yaxis": "y"
        },
        {
         "hovertemplate": "Fuel Type=wind<br>Time=%{x}<br>Capacity Factor=%{y}<extra></extra>",
         "legendgroup": "wind",
         "line": {
          "color": "green",
          "dash": "solid"
         },
         "marker": {
          "symbol": "circle"
         },
         "mode": "lines",
         "name": "wind",
         "orientation": "v",
         "showlegend": true,
         "type": "scatter",
         "x": [
          "2014-01-01T00:00:00.000",
          "2015-01-01T00:00:00.000",
          "2016-01-01T00:00:00.000",
          "2017-01-01T00:00:00.000",
          "2018-01-01T00:00:00.000",
          "2019-01-01T00:00:00.000",
          "2020-01-01T00:00:00.000",
          "2021-01-01T00:00:00.000",
          "2022-01-01T00:00:00.000",
          "2023-01-01T00:00:00.000",
          "2024-01-01T00:00:00.000"
         ],
         "xaxis": "x",
         "y": {
          "bdata": "oUObLych0z+aGNJdENTUP8Z0gBgs9dY/gYEJnTtD1T+veKv3803XPyYk22W+Utg/gd8pUzRh1z8+w7PnAp/YP2eYruV3lNg/KNY5KSme1z99DZKiND3XPw==",
          "dtype": "f8"
         },
         "yaxis": "y"
        },
        {
         "hovertemplate": "Fuel Type=solar_gridscale<br>Time=%{x}<br>Capacity Factor=%{y}<extra></extra>",
         "legendgroup": "solar_gridscale",
         "line": {
          "color": "orange",
          "dash": "solid"
         },
         "marker": {
          "symbol": "circle"
         },
         "mode": "lines",
         "name": "solar_gridscale",
         "orientation": "v",
         "showlegend": true,
         "type": "scatter",
         "x": [
          "2015-01-01T00:00:00.000",
          "2016-01-01T00:00:00.000",
          "2017-01-01T00:00:00.000",
          "2018-01-01T00:00:00.000",
          "2019-01-01T00:00:00.000",
          "2020-01-01T00:00:00.000",
          "2021-01-01T00:00:00.000",
          "2022-01-01T00:00:00.000",
          "2023-01-01T00:00:00.000",
          "2024-01-01T00:00:00.000"
         ],
         "xaxis": "x",
         "y": {
          "bdata": "bSmiq8Enxj99161hu1HPP9kzNwhsUtA/mxKs8LWrwD877MmHddLNP0D1BxEpf80/Fn3CvyBPyj8HMS38hCPMPwpupEf8M80/arctitp4yz8=",
          "dtype": "f8"
         },
         "yaxis": "y"
        },
        {
         "hovertemplate": "Fuel Type=solar_rooftop<br>Time=%{x}<br>Capacity Factor=%{y}<extra></extra>",
         "legendgroup": "solar_rooftop",
         "line": {
          "color": "yellow",
          "dash": "solid"
         },
         "marker": {
          "symbol": "circle"
         },
         "mode": "lines",
         "name": "solar_rooftop",
         "orientation": "v",
         "showlegend": true,
         "type": "scatter",
         "x": [
          "2016-01-01T00:00:00.000",
          "2017-01-01T00:00:00.000",
          "2018-01-01T00:00:00.000",
          "2019-01-01T00:00:00.000",
          "2020-01-01T00:00:00.000",
          "2021-01-01T00:00:00.000",
          "2022-01-01T00:00:00.000",
          "2023-01-01T00:00:00.000",
          "2024-01-01T00:00:00.000"
         ],
         "xaxis": "x",
         "y": {
          "bdata": "flqpPTJzzj8YBrZxihbKP8Ob50/rNMk/mJZlyO/lyT+CUvtYI7/IP6Sk1npB4cc/McmNtsWUyT8PfRtCBefJP1uNO9jVdck/",
          "dtype": "f8"
         },
         "yaxis": "y"
        }
       ],
       "layout": {
        "height": 300,
        "legend": {
         "title": {
          "text": "Fuel Type"
         },
         "tracegroupgap": 0
        },
        "margin": {
         "b": 20,
         "l": 20,
         "r": 20,
         "t": 20
        },
        "paper_bgcolor": "rgba(0,0,0,0)",
        "showlegend": true,
        "template": {
         "data": {
          "bar": [
           {
            "error_x": {
             "color": "#2a3f5f"
            },
            "error_y": {
             "color": "#2a3f5f"
            },
            "marker": {
             "line": {
              "color": "#E5ECF6",
              "width": 0.5
             },
             "pattern": {
              "fillmode": "overlay",
              "size": 10,
              "solidity": 0.2
             }
            },
            "type": "bar"
           }
          ],
          "barpolar": [
           {
            "marker": {
             "line": {
              "color": "#E5ECF6",
              "width": 0.5
             },
             "pattern": {
              "fillmode": "overlay",
              "size": 10,
              "solidity": 0.2
             }
            },
            "type": "barpolar"
           }
          ],
          "carpet": [
           {
            "aaxis": {
             "endlinecolor": "#2a3f5f",
             "gridcolor": "white",
             "linecolor": "white",
             "minorgridcolor": "white",
             "startlinecolor": "#2a3f5f"
            },
            "baxis": {
             "endlinecolor": "#2a3f5f",
             "gridcolor": "white",
             "linecolor": "white",
             "minorgridcolor": "white",
             "startlinecolor": "#2a3f5f"
            },
            "type": "carpet"
           }
          ],
          "choropleth": [
           {
            "colorbar": {
             "outlinewidth": 0,
             "ticks": ""
            },
            "type": "choropleth"
           }
          ],
          "contour": [
           {
            "colorbar": {
             "outlinewidth": 0,
             "ticks": ""
            },
            "colorscale": [
             [
              0,
              "#0d0887"
             ],
             [
              0.1111111111111111,
              "#46039f"
             ],
             [
              0.2222222222222222,
              "#7201a8"
             ],
             [
              0.3333333333333333,
              "#9c179e"
             ],
             [
              0.4444444444444444,
              "#bd3786"
             ],
             [
              0.5555555555555556,
              "#d8576b"
             ],
             [
              0.6666666666666666,
              "#ed7953"
             ],
             [
              0.7777777777777778,
              "#fb9f3a"
             ],
             [
              0.8888888888888888,
              "#fdca26"
             ],
             [
              1,
              "#f0f921"
             ]
            ],
            "type": "contour"
           }
          ],
          "contourcarpet": [
           {
            "colorbar": {
             "outlinewidth": 0,
             "ticks": ""
            },
            "type": "contourcarpet"
           }
          ],
          "heatmap": [
           {
            "colorbar": {
             "outlinewidth": 0,
             "ticks": ""
            },
            "colorscale": [
             [
              0,
              "#0d0887"
             ],
             [
              0.1111111111111111,
              "#46039f"
             ],
             [
              0.2222222222222222,
              "#7201a8"
             ],
             [
              0.3333333333333333,
              "#9c179e"
             ],
             [
              0.4444444444444444,
              "#bd3786"
             ],
             [
              0.5555555555555556,
              "#d8576b"
             ],
             [
              0.6666666666666666,
              "#ed7953"
             ],
             [
              0.7777777777777778,
              "#fb9f3a"
             ],
             [
              0.8888888888888888,
              "#fdca26"
             ],
             [
              1,
              "#f0f921"
             ]
            ],
            "type": "heatmap"
           }
          ],
          "histogram": [
           {
            "marker": {
             "pattern": {
              "fillmode": "overlay",
              "size": 10,
              "solidity": 0.2
             }
            },
            "type": "histogram"
           }
          ],
          "histogram2d": [
           {
            "colorbar": {
             "outlinewidth": 0,
             "ticks": ""
            },
            "colorscale": [
             [
              0,
              "#0d0887"
             ],
             [
              0.1111111111111111,
              "#46039f"
             ],
             [
              0.2222222222222222,
              "#7201a8"
             ],
             [
              0.3333333333333333,
              "#9c179e"
             ],
             [
              0.4444444444444444,
              "#bd3786"
             ],
             [
              0.5555555555555556,
              "#d8576b"
             ],
             [
              0.6666666666666666,
              "#ed7953"
             ],
             [
              0.7777777777777778,
              "#fb9f3a"
             ],
             [
              0.8888888888888888,
              "#fdca26"
             ],
             [
              1,
              "#f0f921"
             ]
            ],
            "type": "histogram2d"
           }
          ],
          "histogram2dcontour": [
           {
            "colorbar": {
             "outlinewidth": 0,
             "ticks": ""
            },
            "colorscale": [
             [
              0,
              "#0d0887"
             ],
             [
              0.1111111111111111,
              "#46039f"
             ],
             [
              0.2222222222222222,
              "#7201a8"
             ],
             [
              0.3333333333333333,
              "#9c179e"
             ],
             [
              0.4444444444444444,
              "#bd3786"
             ],
             [
              0.5555555555555556,
              "#d8576b"
             ],
             [
              0.6666666666666666,
              "#ed7953"
             ],
             [
              0.7777777777777778,
              "#fb9f3a"
             ],
             [
              0.8888888888888888,
              "#fdca26"
             ],
             [
              1,
              "#f0f921"
             ]
            ],
            "type": "histogram2dcontour"
           }
          ],
          "mesh3d": [
           {
            "colorbar": {
             "outlinewidth": 0,
             "ticks": ""
            },
            "type": "mesh3d"
           }
          ],
          "parcoords": [
           {
            "line": {
             "colorbar": {
              "outlinewidth": 0,
              "ticks": ""
             }
            },
            "type": "parcoords"
           }
          ],
          "pie": [
           {
            "automargin": true,
            "type": "pie"
           }
          ],
          "scatter": [
           {
            "fillpattern": {
             "fillmode": "overlay",
             "size": 10,
             "solidity": 0.2
            },
            "type": "scatter"
           }
          ],
          "scatter3d": [
           {
            "line": {
             "colorbar": {
              "outlinewidth": 0,
              "ticks": ""
             }
            },
            "marker": {
             "colorbar": {
              "outlinewidth": 0,
              "ticks": ""
             }
            },
            "type": "scatter3d"
           }
          ],
          "scattercarpet": [
           {
            "marker": {
             "colorbar": {
              "outlinewidth": 0,
              "ticks": ""
             }
            },
            "type": "scattercarpet"
           }
          ],
          "scattergeo": [
           {
            "marker": {
             "colorbar": {
              "outlinewidth": 0,
              "ticks": ""
             }
            },
            "type": "scattergeo"
           }
          ],
          "scattergl": [
           {
            "marker": {
             "colorbar": {
              "outlinewidth": 0,
              "ticks": ""
             }
            },
            "type": "scattergl"
           }
          ],
          "scattermap": [
           {
            "marker": {
             "colorbar": {
              "outlinewidth": 0,
              "ticks": ""
             }
            },
            "type": "scattermap"
           }
          ],
          "scattermapbox": [
           {
            "marker": {
             "colorbar": {
              "outlinewidth": 0,
              "ticks": ""
             }
            },
            "type": "scattermapbox"
           }
          ],
          "scatterpolar": [
           {
            "marker": {
             "colorbar": {
              "outlinewidth": 0,
              "ticks": ""
             }
            },
            "type": "scatterpolar"
           }
          ],
          "scatterpolargl": [
           {
            "marker": {
             "colorbar": {
              "outlinewidth": 0,
              "ticks": ""
             }
            },
            "type": "scatterpolargl"
           }
          ],
          "scatterternary": [
           {
            "marker": {
             "colorbar": {
              "outlinewidth": 0,
              "ticks": ""
             }
            },
            "type": "scatterternary"
           }
          ],
          "surface": [
           {
            "colorbar": {
             "outlinewidth": 0,
             "ticks": ""
            },
            "colorscale": [
             [
              0,
              "#0d0887"
             ],
             [
              0.1111111111111111,
              "#46039f"
             ],
             [
              0.2222222222222222,
              "#7201a8"
             ],
             [
              0.3333333333333333,
              "#9c179e"
             ],
             [
              0.4444444444444444,
              "#bd3786"
             ],
             [
              0.5555555555555556,
              "#d8576b"
             ],
             [
              0.6666666666666666,
              "#ed7953"
             ],
             [
              0.7777777777777778,
              "#fb9f3a"
             ],
             [
              0.8888888888888888,
              "#fdca26"
             ],
             [
              1,
              "#f0f921"
             ]
            ],
            "type": "surface"
           }
          ],
          "table": [
           {
            "cells": {
             "fill": {
              "color": "#EBF0F8"
             },
             "line": {
              "color": "white"
             }
            },
            "header": {
             "fill": {
              "color": "#C8D4E3"
             },
             "line": {
              "color": "white"
             }
            },
            "type": "table"
           }
          ]
         },
         "layout": {
          "annotationdefaults": {
           "arrowcolor": "#2a3f5f",
           "arrowhead": 0,
           "arrowwidth": 1
          },
          "autotypenumbers": "strict",
          "coloraxis": {
           "colorbar": {
            "outlinewidth": 0,
            "ticks": ""
           }
          },
          "colorscale": {
           "diverging": [
            [
             0,
             "#8e0152"
            ],
            [
             0.1,
             "#c51b7d"
            ],
            [
             0.2,
             "#de77ae"
            ],
            [
             0.3,
             "#f1b6da"
            ],
            [
             0.4,
             "#fde0ef"
            ],
            [
             0.5,
             "#f7f7f7"
            ],
            [
             0.6,
             "#e6f5d0"
            ],
            [
             0.7,
             "#b8e186"
            ],
            [
             0.8,
             "#7fbc41"
            ],
            [
             0.9,
             "#4d9221"
            ],
            [
             1,
             "#276419"
            ]
           ],
           "sequential": [
            [
             0,
             "#0d0887"
            ],
            [
             0.1111111111111111,
             "#46039f"
            ],
            [
             0.2222222222222222,
             "#7201a8"
            ],
            [
             0.3333333333333333,
             "#9c179e"
            ],
            [
             0.4444444444444444,
             "#bd3786"
            ],
            [
             0.5555555555555556,
             "#d8576b"
            ],
            [
             0.6666666666666666,
             "#ed7953"
            ],
            [
             0.7777777777777778,
             "#fb9f3a"
            ],
            [
             0.8888888888888888,
             "#fdca26"
            ],
            [
             1,
             "#f0f921"
            ]
           ],
           "sequentialminus": [
            [
             0,
             "#0d0887"
            ],
            [
             0.1111111111111111,
             "#46039f"
            ],
            [
             0.2222222222222222,
             "#7201a8"
            ],
            [
             0.3333333333333333,
             "#9c179e"
            ],
            [
             0.4444444444444444,
             "#bd3786"
            ],
            [
             0.5555555555555556,
             "#d8576b"
            ],
            [
             0.6666666666666666,
             "#ed7953"
            ],
            [
             0.7777777777777778,
             "#fb9f3a"
            ],
            [
             0.8888888888888888,
             "#fdca26"
            ],
            [
             1,
             "#f0f921"
            ]
           ]
          },
          "colorway": [
           "#636efa",
           "#EF553B",
           "#00cc96",
           "#ab63fa",
           "#FFA15A",
           "#19d3f3",
           "#FF6692",
           "#B6E880",
           "#FF97FF",
           "#FECB52"
          ],
          "font": {
           "color": "#2a3f5f"
          },
          "geo": {
           "bgcolor": "white",
           "lakecolor": "white",
           "landcolor": "#E5ECF6",
           "showlakes": true,
           "showland": true,
           "subunitcolor": "white"
          },
          "hoverlabel": {
           "align": "left"
          },
          "hovermode": "closest",
          "mapbox": {
           "style": "light"
          },
          "paper_bgcolor": "white",
          "plot_bgcolor": "#E5ECF6",
          "polar": {
           "angularaxis": {
            "gridcolor": "white",
            "linecolor": "white",
            "ticks": ""
           },
           "bgcolor": "#E5ECF6",
           "radialaxis": {
            "gridcolor": "white",
            "linecolor": "white",
            "ticks": ""
           }
          },
          "scene": {
           "xaxis": {
            "backgroundcolor": "#E5ECF6",
            "gridcolor": "white",
            "gridwidth": 2,
            "linecolor": "white",
            "showbackground": true,
            "ticks": "",
            "zerolinecolor": "white"
           },
           "yaxis": {
            "backgroundcolor": "#E5ECF6",
            "gridcolor": "white",
            "gridwidth": 2,
            "linecolor": "white",
            "showbackground": true,
            "ticks": "",
            "zerolinecolor": "white"
           },
           "zaxis": {
            "backgroundcolor": "#E5ECF6",
            "gridcolor": "white",
            "gridwidth": 2,
            "linecolor": "white",
            "showbackground": true,
            "ticks": "",
            "zerolinecolor": "white"
           }
          },
          "shapedefaults": {
           "line": {
            "color": "#2a3f5f"
           }
          },
          "ternary": {
           "aaxis": {
            "gridcolor": "white",
            "linecolor": "white",
            "ticks": ""
           },
           "baxis": {
            "gridcolor": "white",
            "linecolor": "white",
            "ticks": ""
           },
           "bgcolor": "#E5ECF6",
           "caxis": {
            "gridcolor": "white",
            "linecolor": "white",
            "ticks": ""
           }
          },
          "title": {
           "x": 0.05
          },
          "xaxis": {
           "automargin": true,
           "gridcolor": "white",
           "linecolor": "white",
           "ticks": "",
           "title": {
            "standoff": 15
           },
           "zerolinecolor": "white",
           "zerolinewidth": 2
          },
          "yaxis": {
           "automargin": true,
           "gridcolor": "white",
           "linecolor": "white",
           "ticks": "",
           "title": {
            "standoff": 15
           },
           "zerolinecolor": "white",
           "zerolinewidth": 2
          }
         }
        },
        "width": 300,
        "xaxis": {
         "anchor": "y",
         "domain": [
          0,
          1
         ],
         "title": {
          "text": "Time"
         }
        },
        "yaxis": {
         "anchor": "x",
         "domain": [
          0,
          1
         ],
         "tickformat": ".0%",
         "title": {
          "text": "Capacity Factor"
         }
        }
       }
      },
      "image/png": "[encoded data removed]"
     },
     "metadata": {},
     "output_type": "display_data"
    }
   ],
   "source": [
    "for (y, pc) in [(\"CAPACITY_GW\", False), (\"POWER_GW\", False), (\"CAPACITY_FACTOR\", True)]:\n",
    "    fig = px.line(\n",
    "        results_df.filter(pl.col(\"FUEL_TYPE\").is_in(color_mapping)),\n",
    "        x=\"INTERVAL_START\",\n",
    "        y=y,\n",
    "        color=\"FUEL_TYPE\",\n",
    "        color_discrete_map=color_mapping,\n",
    "        height=300,\n",
    "        width=300,\n",
    "        labels={\n",
    "            \"FUEL_TYPE\": \"Fuel Type\",\n",
    "            \"INTERVAL_START\": \"Time\",\n",
    "            \"CAPACITY_FACTOR\": \"Capacity Factor\",\n",
    "            \"CAPACITY\": \"Installed Capacity (MW)\",\n",
    "            \"CAPACITY_GW\": \"Installed Capacity (GW)\",\n",
    "            \"POWER_MW\": \"Average Power (MW)\",\n",
    "            \"POWER_GW\": \"Average Power (GW)\",\n",
    "        }\n",
    "    )\n",
    "    if pc:\n",
    "        fig.update_layout(yaxis_tickformat = '.0%')\n",
    "        \n",
    "    fig.for_each_annotation(lambda a: a.update(text=a.text.split(\"=\")[-1]))\n",
    "    fig.update_layout(showlegend=False)\n",
    "    fig.update_layout(margin=dict(l=20, r=20, t=20, b=20))\n",
    "    fig.update_layout(paper_bgcolor='rgba(0,0,0,0)')\n",
    "    fig.write_image(os.path.join(results_dir, f\"{y}.svg\"))\n",
    "    fig.update_layout(showlegend=True)\n",
    "    fig.show()\n",
    "\n",
    "    figures[y] = fig"
   ]
  },
  {
   "cell_type": "code",
   "execution_count": null,
   "id": "46aa6180-8a59-44aa-b655-dc26eee2c651",
   "metadata": {},
   "outputs": [],
   "source": []
  },
  {
   "cell_type": "code",
   "execution_count": null,
   "id": "e3e39c10-9cd1-427f-99da-11cf8f97ca13",
   "metadata": {},
   "outputs": [],
   "source": []
  }
 ],
 "metadata": {
  "kernelspec": {
   "display_name": "Python 3 (ipykernel)",
   "language": "python",
   "name": "python3"
  },
  "language_info": {
   "codemirror_mode": {
    "name": "ipython",
    "version": 3
   },
   "file_extension": ".py",
   "mimetype": "text/x-python",
   "name": "python",
   "nbconvert_exporter": "python",
   "pygments_lexer": "ipython3",
   "version": "3.13.3"
  }
 },
 "nbformat": 4,
 "nbformat_minor": 5
}
